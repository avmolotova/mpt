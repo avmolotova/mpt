{
  "nbformat": 4,
  "nbformat_minor": 0,
  "metadata": {
    "colab": {
      "name": "python meeting 3/4.ipynb",
      "provenance": [],
      "collapsed_sections": []
    },
    "kernelspec": {
      "name": "python3",
      "display_name": "Python 3"
    }
  },
  "cells": [
    {
      "cell_type": "markdown",
      "metadata": {
        "id": "5LpSUF20gJf7"
      },
      "source": [
        "# Занятие #3"
      ]
    },
    {
      "cell_type": "markdown",
      "metadata": {
        "id": "-M1UT4Qn9vxW"
      },
      "source": [
        "# Циклы\n",
        "\n",
        "!NB: далее речь пойдет только о циклах в питоне, в ар немного другая ситуация с ними, смотрите информацию в самом конце об этом"
      ]
    },
    {
      "cell_type": "markdown",
      "metadata": {
        "id": "lxk4dM_FgdC6"
      },
      "source": [
        "## For\n",
        "\n",
        "Iteration\n",
        "\n",
        "*   Для **strings** - мы хотели бы обрабатывать **по одному символу за раз**. Выбираем каждый символ по очереди, что-то с ним делаем и продолжаем так до конца строки \n",
        "*   Для **листов** - хотим обрабатывать **по одному айтему** до конца листа\n"
      ]
    },
    {
      "cell_type": "markdown",
      "metadata": {
        "id": "2OgibanYhSMx"
      },
      "source": [
        "### Simple example\n",
        "\n",
        "The overall syntax is\n",
        "```\n",
        "for <loop_var_name> in <sequence>:\n",
        "```"
      ]
    },
    {
      "cell_type": "markdown",
      "metadata": {
        "id": "DF03qZQ1JslU"
      },
      "source": [
        "The **iterable** is the object that you will parsing through in a for loop. Generally, this object does not change while the for loop is being executed.\n",
        "\n",
        "The **iterator (loop) variable** is the variable which stores a portion of the iterable when the for loop is being executed. Each time the loop iterates, the value of the iterator variable will change to a different portion of the iterable."
      ]
    },
    {
      "cell_type": "code",
      "metadata": {
        "id": "e-UbprfVh-t1",
        "colab": {
          "base_uri": "https://localhost:8080/"
        },
        "outputId": "76818f5b-c9fd-4692-8102-ae1ac3dc527c"
      },
      "source": [
        "for name in [\"Lera\", \"Dina\", \"Kate\", \"Kirill\", \"Nika\", \"Iana\", \"Varya\", \"Yegor\", \"Sasha\", \"Roma\"]:\n",
        "    print(\"Hi\", name, \"let's go to the bar on Saturday!\")"
      ],
      "execution_count": null,
      "outputs": [
        {
          "output_type": "stream",
          "text": [
            "Hi Lera let's go to the bar on Saturday!\n",
            "Hi Dina let's go to the bar on Saturday!\n",
            "Hi Kate let's go to the bar on Saturday!\n",
            "Hi Kirill let's go to the bar on Saturday!\n",
            "Hi Nika let's go to the bar on Saturday!\n",
            "Hi Iana let's go to the bar on Saturday!\n",
            "Hi Varya let's go to the bar on Saturday!\n",
            "Hi Yegor let's go to the bar on Saturday!\n",
            "Hi Sasha let's go to the bar on Saturday!\n",
            "Hi Roma let's go to the bar on Saturday!\n"
          ],
          "name": "stdout"
        }
      ]
    },
    {
      "cell_type": "code",
      "metadata": {
        "id": "7pqteemlk8D_",
        "colab": {
          "base_uri": "https://localhost:8080/"
        },
        "outputId": "765c72df-a281-490e-a0f9-55a00eeb169c"
      },
      "source": [
        "for achar in \"SLEEEEEEP\":\n",
        "    print(achar)"
      ],
      "execution_count": null,
      "outputs": [
        {
          "output_type": "stream",
          "text": [
            "S\n",
            "L\n",
            "E\n",
            "E\n",
            "E\n",
            "E\n",
            "E\n",
            "E\n",
            "P\n"
          ],
          "name": "stdout"
        }
      ]
    },
    {
      "cell_type": "markdown",
      "metadata": {
        "id": "GYNJoYc8l8jj"
      },
      "source": [
        "**Task 1**\n",
        "\n",
        "How many times is the word HELLO printed by the following statements?\n",
        "\n",
        "What is the type of your iterable?\n",
        "\n",
        "\n",
        "```\n",
        "s = \"python rocks\"\n",
        "for ch in s[3:8]:\n",
        "   print(\"HELLO\")\n",
        "```\n",
        "\n"
      ]
    },
    {
      "cell_type": "markdown",
      "metadata": {
        "id": "-oLypxlNndrC"
      },
      "source": [
        "### Accumulator Pattern\n",
        "*for the sum total of all the items/ defining the largest item*\n",
        "\n",
        "\n",
        "Алгоритм работы:\n",
        "\n",
        "1.   Задаем значение «аккумуляторной» переменной (accumulator)\n",
        "2.   Итерация\n",
        "3.   Обновление «аккумуляторной» переменной после каждой итерации (т. е. при обработке каждого элемента в последовательности)\n",
        "\n"
      ]
    },
    {
      "cell_type": "markdown",
      "metadata": {
        "id": "Hqxodxogq1Jg"
      },
      "source": [
        "### Simple example [2]\n",
        "\n",
        "хотим узнать общую сумму"
      ]
    },
    {
      "cell_type": "code",
      "metadata": {
        "id": "XiQyMtXKqK5R",
        "colab": {
          "base_uri": "https://localhost:8080/"
        },
        "outputId": "f723513b-8368-4773-a74e-6f5ee9af0502"
      },
      "source": [
        "nums = [1, 2, 3, 4, 5, 6, 7, 8, 9, 10]\n",
        "accum = 0\n",
        "for i in nums:\n",
        "    accum = accum + i\n",
        "print(accum)\n"
      ],
      "execution_count": null,
      "outputs": [
        {
          "output_type": "stream",
          "text": [
            "55\n"
          ],
          "name": "stdout"
        }
      ]
    },
    {
      "cell_type": "markdown",
      "metadata": {
        "id": "ByyKaFGXGpaK"
      },
      "source": [
        "хотим узнать, сколько айтемов в листе"
      ]
    },
    {
      "cell_type": "code",
      "metadata": {
        "id": "PjdKuFToGtI6",
        "colab": {
          "base_uri": "https://localhost:8080/"
        },
        "outputId": "a1f053ef-1b5d-4332-a4df-ebb276cb4409"
      },
      "source": [
        "nums = [1, 2, 3, 4, 5, 6, 7, 8, 9, 10]\n",
        "count = 0\n",
        "for i in nums:\n",
        "    count = count + 1\n",
        "print(count)"
      ],
      "execution_count": null,
      "outputs": [
        {
          "output_type": "stream",
          "text": [
            "10\n"
          ],
          "name": "stdout"
        }
      ]
    },
    {
      "cell_type": "markdown",
      "metadata": {
        "id": "p3MPA8RKHvHh"
      },
      "source": [
        "**Task 2**: Что не так с кодом? Какой результат выдаст?\n",
        "\n",
        "```\n",
        "nums = [1, 2, 3, 4, 5, 6, 7, 8, 9, 10]\n",
        "accum = 0\n",
        "for w in nums:\n",
        "   accum = accum + w\n",
        "print(accum)\n",
        "```\n",
        "\n"
      ]
    },
    {
      "cell_type": "markdown",
      "metadata": {
        "id": "uH4QbxrSN4lN"
      },
      "source": [
        "**Task 3**: Мы хотим провести опрос среди нашего чатика, чтобы узнать, кто любит пиццу с ананасами. Напишите программу, которая будет **выводить вопрос для каждого участника**. Мы также хотим фиксировать, скольким студентам мы задали этот вопрос (каждый раз, после того, как вопрос был задан). \n",
        "\n",
        "\n"
      ]
    },
    {
      "cell_type": "code",
      "metadata": {
        "id": "VmeVekYaODQk"
      },
      "source": [
        "students = [\"Lera\", \"Dina\", \"Kate\", \"Kirill\", \"Nika\", \"Iana\", \"Varya\", \"Yegor\", \"Sasha\", \"Roma\"]\n"
      ],
      "execution_count": null,
      "outputs": []
    },
    {
      "cell_type": "markdown",
      "metadata": {
        "id": "wM9J9b9iJoxo"
      },
      "source": [
        "## Пара слов об ifelse\n",
        "\n",
        "Синтаксис:\n",
        "\n",
        "```\n",
        "if BOOLEAN EXPRESSION:\n",
        "    STATEMENTS_1        # executed if condition evaluates to True\n",
        "else:\n",
        "    STATEMENTS_2        # executed if condition evaluates to False\n",
        "```\n",
        "\n"
      ]
    },
    {
      "cell_type": "markdown",
      "metadata": {
        "id": "7Zf5qXW5W7QW"
      },
      "source": [
        "Nested consitionals"
      ]
    },
    {
      "cell_type": "code",
      "metadata": {
        "id": "OQ4MYJVVmW9i",
        "colab": {
          "base_uri": "https://localhost:8080/"
        },
        "outputId": "b841a01a-d3c5-4fc5-deb2-85c4be25790c"
      },
      "source": [
        "x = 10\n",
        "y = 10\n",
        "\n",
        "if x < y:\n",
        "    print(\"x is less than y\")\n",
        "else:\n",
        "  if x > y:\n",
        "    print(\"x is greater than y\")\n",
        "  else:\n",
        "\t  print(\"x and y must be equal\")\n"
      ],
      "execution_count": null,
      "outputs": [
        {
          "output_type": "stream",
          "text": [
            "x and y must be equal\n"
          ],
          "name": "stdout"
        }
      ]
    },
    {
      "cell_type": "markdown",
      "metadata": {
        "id": "Q9phsBNYXkI6"
      },
      "source": [
        "Chained conditionals"
      ]
    },
    {
      "cell_type": "code",
      "metadata": {
        "id": "f5-qL2rzJt3K",
        "colab": {
          "base_uri": "https://localhost:8080/"
        },
        "outputId": "1f70c235-2e0e-4cc8-e406-022b1b835bf4"
      },
      "source": [
        "x = 10\n",
        "y = 10\n",
        "\n",
        "if x < y:\n",
        "    print(\"x is less than y\")\n",
        "elif x > y:\n",
        "    print(\"x is greater than y\")\n",
        "else:\n",
        "    print(\"x and y must be equal\")"
      ],
      "execution_count": null,
      "outputs": [
        {
          "output_type": "stream",
          "text": [
            "x and y must be equal\n"
          ],
          "name": "stdout"
        }
      ]
    },
    {
      "cell_type": "markdown",
      "metadata": {
        "id": "D0wCChtzDWbg"
      },
      "source": [
        "## For + conditionals"
      ]
    },
    {
      "cell_type": "markdown",
      "metadata": {
        "id": "0qbfNXoYYSm8"
      },
      "source": [
        "Sometimes when we’re accumulating, we don’t want to add to our accumulator every time we iterate."
      ]
    },
    {
      "cell_type": "code",
      "metadata": {
        "id": "5o9rbuUGDWCB"
      },
      "source": [
        "phrase = \"I hate regressions\"\n",
        "tot = 0\n",
        "for char in phrase:\n",
        "    if char != \" \":\n",
        "        tot = tot + 1\n",
        "print(tot)"
      ],
      "execution_count": null,
      "outputs": []
    },
    {
      "cell_type": "markdown",
      "metadata": {
        "id": "I8Wnv1SGY7ce"
      },
      "source": [
        "We can also use the accumulation pattern with conditionals to find the **maximum or minimum value**"
      ]
    },
    {
      "cell_type": "code",
      "metadata": {
        "id": "wuNxjdguY_Ng",
        "colab": {
          "base_uri": "https://localhost:8080/"
        },
        "outputId": "8b3b62ca-554a-41ab-996f-00b303e30f19"
      },
      "source": [
        "nums = [9, 3, -8, 11, 5, 29, 2]\n",
        "best_num = nums[0] # for a negative num\n",
        "for n in nums:\n",
        "    if n > best_num:\n",
        "        best_num = n\n",
        "print(best_num)"
      ],
      "execution_count": null,
      "outputs": [
        {
          "output_type": "stream",
          "text": [
            "29\n"
          ],
          "name": "stdout"
        }
      ]
    },
    {
      "cell_type": "markdown",
      "metadata": {
        "id": "YEcLuWACabvu"
      },
      "source": [
        "**Task 4**: Мы хотим провести опрос среди нашего чатика, чтобы узнать, кто любит пиццу с ананасами. Напишите программу, которая будет **выводить вопрос для каждого участника**. Мы также хотим фиксировать, скольким студентам мы задали этот вопрос **с помощью ifelse** (каждый раз, после того, как вопрос был задан).\n",
        "\n",
        "+\n",
        "\n",
        "когда первый человек проголосовал, программа должна вывести \"**Один голос есть, так держать!**\".\n",
        "\n",
        "\n"
      ]
    },
    {
      "cell_type": "code",
      "metadata": {
        "id": "SwQxG9okatp4",
        "colab": {
          "base_uri": "https://localhost:8080/"
        },
        "outputId": "fdd15a34-72b3-4b1c-c4a3-6a0004b63e8c"
      },
      "source": [
        "students = [\"Lera\", \"Dina\", \"Kate\", \"Kirill\", \"Nika\", \"Iana\", \"Varya\", \"Yegor\", \"Sasha\", \"Roma\"]\n",
        "num_students = 0\n",
        "for i in students:\n",
        "  print(\"Do u like pizza\" + \" \" + i + str(\"?\"))\n",
        "  num_students +=1\n",
        "  if num_students == 1:\n",
        "    print(\"Great!\")\n",
        "  elif num_students > 1:\n",
        "    print(\"There are\" + \" \" + str(num_students) + \" \" + \"students voted\")\n"
      ],
      "execution_count": null,
      "outputs": [
        {
          "output_type": "stream",
          "text": [
            "Do u like pizza Lera?\n",
            "Great!\n",
            "Do u like pizza Dina?\n",
            "There are 2 students voted\n",
            "Do u like pizza Kate?\n",
            "There are 3 students voted\n",
            "Do u like pizza Kirill?\n",
            "There are 4 students voted\n",
            "Do u like pizza Nika?\n",
            "There are 5 students voted\n",
            "Do u like pizza Iana?\n",
            "There are 6 students voted\n",
            "Do u like pizza Varya?\n",
            "There are 7 students voted\n",
            "Do u like pizza Yegor?\n",
            "There are 8 students voted\n",
            "Do u like pizza Sasha?\n",
            "There are 9 students voted\n",
            "Do u like pizza Roma?\n",
            "There are 10 students voted\n"
          ],
          "name": "stdout"
        }
      ]
    },
    {
      "cell_type": "markdown",
      "metadata": {
        "id": "RD9tcKYGDZmQ"
      },
      "source": [
        "## While\n",
        "\n",
        "Выполняет тело цикла до тех пор, пока условие цикла истинно."
      ]
    },
    {
      "cell_type": "code",
      "metadata": {
        "id": "C908YSz_9SwP",
        "colab": {
          "base_uri": "https://localhost:8080/"
        },
        "outputId": "7d7a3897-18a4-41b1-ddd5-5609d39fd498"
      },
      "source": [
        "i = 5\n",
        "while i < 15:\n",
        "  print(i)\n",
        "  i = i + 2"
      ],
      "execution_count": null,
      "outputs": [
        {
          "output_type": "stream",
          "text": [
            "5\n",
            "7\n",
            "9\n",
            "11\n",
            "13\n"
          ],
          "name": "stdout"
        }
      ]
    },
    {
      "cell_type": "markdown",
      "metadata": {
        "id": "fp3AJ0qrkGdm"
      },
      "source": [
        "### Модифицируем циклы::операторы\n",
        "\n"
      ]
    },
    {
      "cell_type": "markdown",
      "metadata": {
        "id": "5IITiQfRjHqz"
      },
      "source": [
        "**Break** - досрочно прерывает цикл\n"
      ]
    },
    {
      "cell_type": "code",
      "metadata": {
        "id": "9yFBLowbjVsd",
        "colab": {
          "base_uri": "https://localhost:8080/"
        },
        "outputId": "2c57981f-83c0-49b9-e6d8-2a078f0e4414"
      },
      "source": [
        "i = 5\n",
        "while i < 15:\n",
        "  print(i)\n",
        "  i = i + 2\n",
        "  if i == 11:\n",
        "    break\n",
        "    "
      ],
      "execution_count": null,
      "outputs": [
        {
          "output_type": "stream",
          "text": [
            "5\n",
            "7\n",
            "9\n"
          ],
          "name": "stdout"
        }
      ]
    },
    {
      "cell_type": "markdown",
      "metadata": {
        "id": "QyeV_737kL--"
      },
      "source": [
        "**Continue** - начинает следующий проход цикла, минуя оставшееся тело цикла"
      ]
    },
    {
      "cell_type": "code",
      "metadata": {
        "id": "FyhcJ2b7kgu4",
        "colab": {
          "base_uri": "https://localhost:8080/"
        },
        "outputId": "5c5b610d-4241-497b-8611-268ddff70659"
      },
      "source": [
        "i = 5\n",
        "while i < 15:\n",
        "  print(i)\n",
        "  i = i + 2\n",
        "  if i == 11:\n",
        "    continue\n",
        "\n",
        "    "
      ],
      "execution_count": null,
      "outputs": [
        {
          "output_type": "stream",
          "text": [
            "5\n",
            "7\n",
            "9\n",
            "11\n",
            "13\n"
          ],
          "name": "stdout"
        }
      ]
    },
    {
      "cell_type": "markdown",
      "metadata": {
        "id": "Cd5DPd0zoN3d"
      },
      "source": [
        "**Ласт таск** на пиццу с ананасами!\n",
        "\n",
        " Мы хотим провести опрос среди нашего чатика, чтобы узнать, кто любит пиццу с ананасами. Напишите программу, которая будет **выводить вопрос для каждого участника**. Мы также хотим фиксировать, **скольким студентам мы задали этот вопрос с помощью ifelse** (каждый раз, после того, как вопрос был задан)\n",
        "Когда первый человек проголосовал, программа должна вывести **\"Один голос есть, так держать!\"**\n",
        "\n",
        "+\n",
        "\n",
        "мы знаем, что к нам хотел присоединиться студент психфака - Зигмунд. К сожалению, в последний момент мы узнали, что ему больше интересны сновидения, чем DS. Хотя не успели удалить его из нашего списка, мы перенесли его в конец. Давайте попробуем **исключить его из цикла** во время написания программы."
      ]
    },
    {
      "cell_type": "code",
      "metadata": {
        "id": "8vwSkf6toi4w",
        "colab": {
          "base_uri": "https://localhost:8080/"
        },
        "outputId": "d9f062df-9eed-478e-a255-44dd1e0ea308"
      },
      "source": [
        "students = [\"Lera\", \"Dina\", \"Kate\", \"Kirill\", \"Nika\", \"Iana\", \"Varya\", \"Yegor\", \"Sasha\", \"Roma\", \"Zigmund\"]\n",
        "count = 0\n",
        "\n",
        "for name in students:\n",
        "  if name == \"Zigmund\":\n",
        "    continue\n",
        "  print(f\"{name}, do you like pineapple pizza?\")\n",
        "  count = count + 1\n",
        "  if count == 1:\n",
        "    print(\"Один голос есть, так держать!\")\n",
        "  elif count <= 4:\n",
        "    print(f\"Проголосовало {count} студента\")\n",
        "  else:\n",
        "    print(f\"Проглосовало {count} студентов\")"
      ],
      "execution_count": null,
      "outputs": [
        {
          "output_type": "stream",
          "text": [
            "Lera, do you like pineapple pizza?\n",
            "Один голос есть, так держать!\n",
            "Dina, do you like pineapple pizza?\n",
            "Проголосовало 2 студента\n",
            "Kate, do you like pineapple pizza?\n",
            "Проголосовало 3 студента\n",
            "Kirill, do you like pineapple pizza?\n",
            "Проголосовало 4 студента\n",
            "Nika, do you like pineapple pizza?\n",
            "Проглосовало 5 студентов\n",
            "Iana, do you like pineapple pizza?\n",
            "Проглосовало 6 студентов\n",
            "Varya, do you like pineapple pizza?\n",
            "Проглосовало 7 студентов\n",
            "Yegor, do you like pineapple pizza?\n",
            "Проглосовало 8 студентов\n",
            "Sasha, do you like pineapple pizza?\n",
            "Проглосовало 9 студентов\n",
            "Roma, do you like pineapple pizza?\n",
            "Проглосовало 10 студентов\n"
          ],
          "name": "stdout"
        }
      ]
    },
    {
      "cell_type": "markdown",
      "metadata": {
        "id": "SRe0p8K2YlHd"
      },
      "source": [
        "или используем **break**"
      ]
    },
    {
      "cell_type": "code",
      "metadata": {
        "id": "bjg6-1_sYooU",
        "colab": {
          "base_uri": "https://localhost:8080/"
        },
        "outputId": "a45a16ff-3eec-49a2-b2b7-6e22f3e56429"
      },
      "source": [
        "#credits to Egor\n",
        "students = [\"Lera\", \"Dina\", \"Kate\", \"Kirill\", \"Nika\", \"Iana\", \"Varya\", \"Yegor\", \"Sasha\", \"Roma\", \"Zigmund\"]\n",
        "\n",
        "num_students = 0\n",
        "for i in students:\n",
        "  if i == \"Zigmund\":\n",
        "    break\n",
        "  else: \n",
        "    print(\"Do u like pineapple pizza?\" + \" \" + i + str(\"?\"))\n",
        "  num_students +=1\n",
        "  if num_students == 1:\n",
        "    print(\"Great!\")\n",
        "  elif num_students > 1:\n",
        "    print(\"There are\" + \" \" + str(num_students) + \" \" + \"students voted\")"
      ],
      "execution_count": null,
      "outputs": [
        {
          "output_type": "stream",
          "text": [
            "Do u like pineapple pizza? Lera?\n",
            "Great!\n",
            "Do u like pineapple pizza? Dina?\n",
            "There are 2 students voted\n",
            "Do u like pineapple pizza? Kate?\n",
            "There are 3 students voted\n",
            "Do u like pineapple pizza? Kirill?\n",
            "There are 4 students voted\n",
            "Do u like pineapple pizza? Nika?\n",
            "There are 5 students voted\n",
            "Do u like pineapple pizza? Iana?\n",
            "There are 6 students voted\n",
            "Do u like pineapple pizza? Varya?\n",
            "There are 7 students voted\n",
            "Do u like pineapple pizza? Yegor?\n",
            "There are 8 students voted\n",
            "Do u like pineapple pizza? Sasha?\n",
            "There are 9 students voted\n",
            "Do u like pineapple pizza? Roma?\n",
            "There are 10 students voted\n"
          ],
          "name": "stdout"
        }
      ]
    },
    {
      "cell_type": "markdown",
      "metadata": {
        "id": "SH3LoBkkLQw7"
      },
      "source": [
        "# Забавные таски (домашнее задание)"
      ]
    },
    {
      "cell_type": "markdown",
      "metadata": {
        "id": "Vpk5gSRRLV4K"
      },
      "source": [
        "**Раз**\n",
        "\n",
        "The names of the ducklings are **Jack, Kack, Lack, Mack, Nack, Ouack, Pack, and Quack**. This **loop** tries to output these names in order.\n",
        "\n",
        "Of course, that’s not quite right because Ouack and Quack are misspelled (**we don`t need \"u\"**). Can you fix it?"
      ]
    },
    {
      "cell_type": "code",
      "metadata": {
        "id": "TebzstsaLquw"
      },
      "source": [
        ""
      ],
      "execution_count": null,
      "outputs": []
    },
    {
      "cell_type": "markdown",
      "metadata": {
        "id": "iuctM5ujQqq1"
      },
      "source": [
        "**Два**\n",
        "\n",
        "Write one for loop to print out each element of the list. Then, write another for loop to print out the TYPE of each element of the list. (Hint: u will need 2 loops)"
      ]
    },
    {
      "cell_type": "code",
      "metadata": {
        "id": "eXhR877JQ6-V"
      },
      "source": [
        "my_list = [\"hello\", 2, 4, 6.0, 7.5, 234352354, \"the end\", \"\", 99]"
      ],
      "execution_count": null,
      "outputs": []
    },
    {
      "cell_type": "markdown",
      "metadata": {
        "id": "pOQhA8_xe9GB"
      },
      "source": [
        "**Три**\n",
        "\n",
        "Write code that counts the number of words in sentence that contain either an “a” or an “e”. Store the result in the variable num_a_or_e.\n",
        "\n",
        "Note 1: be sure to not double-count words that contain both an a and an e."
      ]
    },
    {
      "cell_type": "code",
      "metadata": {
        "id": "vWnK8JC7fEfL"
      },
      "source": [
        "sentence = \"python is a high level general purpose programming language that can be applied to many different classes of problems.\""
      ],
      "execution_count": null,
      "outputs": []
    },
    {
      "cell_type": "markdown",
      "metadata": {
        "id": "-xVb-pKAhVEk"
      },
      "source": [
        "что-то еще"
      ]
    },
    {
      "cell_type": "code",
      "metadata": {
        "id": "P0Jr_PkthXWD"
      },
      "source": [
        ""
      ],
      "execution_count": null,
      "outputs": []
    },
    {
      "cell_type": "markdown",
      "metadata": {
        "id": "5hMR5jSs-vQQ"
      },
      "source": [
        "# Циклы в R\n",
        " \n",
        "Плохо :( \n",
        "Почему? потому что они работают VERY SLOW на больших данных, лучше использовать [apply](https://habr.com/ru/company/infopulse/blog/274611/)\n",
        "\n",
        "* сравнение циклов в питоне и ар https://www.r-bloggers.com/2020/11/rvspython-5-1-making-the-game-even-with-pythons-best-practices/\n",
        "* туториал по loops in r https://www.datacamp.com/community/tutorials/tutorial-on-loops-in-r\n",
        "* чем можно заменить? `apply` family https://nicercode.github.io/guides/repeating-things/\n",
        "* неделя с курсеры, курс advanced R https://www.coursera.org/lecture/r-programming/loop-functions-lapply-t5iuo"
      ]
    },
    {
      "cell_type": "markdown",
      "metadata": {
        "id": "jYNnwYAXgBjY"
      },
      "source": [
        "# Занятие #4"
      ]
    },
    {
      "cell_type": "markdown",
      "metadata": {
        "id": "0RT1K4Ad91Dv"
      },
      "source": [
        "# Работа с данными\n",
        "\n",
        "Сегодня мы потыкаемся в данные https://www.kaggle.com/kendallgillies/video-game-sales-and-ratings"
      ]
    },
    {
      "cell_type": "code",
      "metadata": {
        "id": "IyA90mQkHB2c",
        "colab": {
          "base_uri": "https://localhost:8080/",
          "height": 204
        },
        "outputId": "dfb0e651-fd44-4129-86d9-7afb3c1d9262"
      },
      "source": [
        "import pandas as pd\n",
        "data = pd.read_csv(\"https://raw.githubusercontent.com/avmolotova/mpt/main/Video_Game_Sales_as_of_Jan_2017.csv\")\n",
        "data.head()"
      ],
      "execution_count": null,
      "outputs": [
        {
          "output_type": "execute_result",
          "data": {
            "text/html": [
              "<div>\n",
              "<style scoped>\n",
              "    .dataframe tbody tr th:only-of-type {\n",
              "        vertical-align: middle;\n",
              "    }\n",
              "\n",
              "    .dataframe tbody tr th {\n",
              "        vertical-align: top;\n",
              "    }\n",
              "\n",
              "    .dataframe thead th {\n",
              "        text-align: right;\n",
              "    }\n",
              "</style>\n",
              "<table border=\"1\" class=\"dataframe\">\n",
              "  <thead>\n",
              "    <tr style=\"text-align: right;\">\n",
              "      <th></th>\n",
              "      <th>Name</th>\n",
              "      <th>Platform</th>\n",
              "      <th>Year_of_Release</th>\n",
              "      <th>Genre</th>\n",
              "      <th>Publisher</th>\n",
              "      <th>NA_Sales</th>\n",
              "      <th>EU_Sales</th>\n",
              "      <th>JP_Sales</th>\n",
              "      <th>Other_Sales</th>\n",
              "      <th>Global_Sales</th>\n",
              "      <th>Critic_Score</th>\n",
              "      <th>Critic_Count</th>\n",
              "      <th>User_Score</th>\n",
              "      <th>User_Count</th>\n",
              "      <th>Rating</th>\n",
              "    </tr>\n",
              "  </thead>\n",
              "  <tbody>\n",
              "    <tr>\n",
              "      <th>0</th>\n",
              "      <td>Wii Sports</td>\n",
              "      <td>Wii</td>\n",
              "      <td>2006.0</td>\n",
              "      <td>Sports</td>\n",
              "      <td>Nintendo</td>\n",
              "      <td>41.36</td>\n",
              "      <td>28.96</td>\n",
              "      <td>3.77</td>\n",
              "      <td>8.45</td>\n",
              "      <td>82.54</td>\n",
              "      <td>76.0</td>\n",
              "      <td>51.0</td>\n",
              "      <td>8.0</td>\n",
              "      <td>324.0</td>\n",
              "      <td>E</td>\n",
              "    </tr>\n",
              "    <tr>\n",
              "      <th>1</th>\n",
              "      <td>Super Mario Bros.</td>\n",
              "      <td>NES</td>\n",
              "      <td>1985.0</td>\n",
              "      <td>Platform</td>\n",
              "      <td>Nintendo</td>\n",
              "      <td>29.08</td>\n",
              "      <td>3.58</td>\n",
              "      <td>6.81</td>\n",
              "      <td>0.77</td>\n",
              "      <td>40.24</td>\n",
              "      <td>NaN</td>\n",
              "      <td>NaN</td>\n",
              "      <td>NaN</td>\n",
              "      <td>NaN</td>\n",
              "      <td>NaN</td>\n",
              "    </tr>\n",
              "    <tr>\n",
              "      <th>2</th>\n",
              "      <td>Mario Kart Wii</td>\n",
              "      <td>Wii</td>\n",
              "      <td>2008.0</td>\n",
              "      <td>Racing</td>\n",
              "      <td>Nintendo</td>\n",
              "      <td>15.68</td>\n",
              "      <td>12.80</td>\n",
              "      <td>3.79</td>\n",
              "      <td>3.29</td>\n",
              "      <td>35.57</td>\n",
              "      <td>82.0</td>\n",
              "      <td>73.0</td>\n",
              "      <td>8.3</td>\n",
              "      <td>712.0</td>\n",
              "      <td>E</td>\n",
              "    </tr>\n",
              "    <tr>\n",
              "      <th>3</th>\n",
              "      <td>Wii Sports Resort</td>\n",
              "      <td>Wii</td>\n",
              "      <td>2009.0</td>\n",
              "      <td>Sports</td>\n",
              "      <td>Nintendo</td>\n",
              "      <td>15.61</td>\n",
              "      <td>10.95</td>\n",
              "      <td>3.28</td>\n",
              "      <td>2.95</td>\n",
              "      <td>32.78</td>\n",
              "      <td>80.0</td>\n",
              "      <td>73.0</td>\n",
              "      <td>8.0</td>\n",
              "      <td>193.0</td>\n",
              "      <td>E</td>\n",
              "    </tr>\n",
              "    <tr>\n",
              "      <th>4</th>\n",
              "      <td>Pokemon Red/Pokemon Blue</td>\n",
              "      <td>G</td>\n",
              "      <td>1996.0</td>\n",
              "      <td>Role-Playing</td>\n",
              "      <td>Nintendo</td>\n",
              "      <td>11.27</td>\n",
              "      <td>8.89</td>\n",
              "      <td>10.22</td>\n",
              "      <td>1.00</td>\n",
              "      <td>31.37</td>\n",
              "      <td>NaN</td>\n",
              "      <td>NaN</td>\n",
              "      <td>NaN</td>\n",
              "      <td>NaN</td>\n",
              "      <td>NaN</td>\n",
              "    </tr>\n",
              "  </tbody>\n",
              "</table>\n",
              "</div>"
            ],
            "text/plain": [
              "                       Name Platform  ...  User_Count Rating\n",
              "0                Wii Sports      Wii  ...       324.0      E\n",
              "1         Super Mario Bros.      NES  ...         NaN    NaN\n",
              "2            Mario Kart Wii      Wii  ...       712.0      E\n",
              "3         Wii Sports Resort      Wii  ...       193.0      E\n",
              "4  Pokemon Red/Pokemon Blue        G  ...         NaN    NaN\n",
              "\n",
              "[5 rows x 15 columns]"
            ]
          },
          "metadata": {
            "tags": []
          },
          "execution_count": 44
        }
      ]
    },
    {
      "cell_type": "code",
      "metadata": {
        "id": "CARsXgUET8uK",
        "colab": {
          "base_uri": "https://localhost:8080/"
        },
        "outputId": "4a2bfca1-842a-4736-8636-aea1dab5e9fb"
      },
      "source": [
        "data.shape"
      ],
      "execution_count": null,
      "outputs": [
        {
          "output_type": "execute_result",
          "data": {
            "text/plain": [
              "(17416, 15)"
            ]
          },
          "metadata": {
            "tags": []
          },
          "execution_count": 3
        }
      ]
    },
    {
      "cell_type": "code",
      "metadata": {
        "id": "o-xTGZoOWB1b",
        "colab": {
          "base_uri": "https://localhost:8080/"
        },
        "outputId": "a0cf5aad-6745-45ff-a4fb-b3607c10dc49"
      },
      "source": [
        "#сколько пропущенных значений у нас в данных?\n",
        "data.isnull().sum(axis = 0) #NaN по колонкам, axis=0 стоит по умолчанию\n",
        "#data.isnull().sum(axis = 1) #NaN по строкам, не очень полезно, но иногда может быть полезно..."
      ],
      "execution_count": null,
      "outputs": [
        {
          "output_type": "execute_result",
          "data": {
            "text/plain": [
              "Name                  0\n",
              "Platform              0\n",
              "Year_of_Release       8\n",
              "Genre                 0\n",
              "Publisher             1\n",
              "NA_Sales              0\n",
              "EU_Sales              0\n",
              "JP_Sales              0\n",
              "Other_Sales           0\n",
              "Global_Sales          0\n",
              "Critic_Score       9080\n",
              "Critic_Count       9080\n",
              "User_Score         9618\n",
              "User_Count         9618\n",
              "Rating             7164\n",
              "dtype: int64"
            ]
          },
          "metadata": {
            "tags": []
          },
          "execution_count": 4
        }
      ]
    },
    {
      "cell_type": "markdown",
      "metadata": {
        "id": "pC9Cm7FvZulo"
      },
      "source": [
        "Почему так много пропущенных значений? Датасет был слеплен из нескольких датасетов автором (инфо об этом есть на странице в кагле), не будем углубляться в imputing missing data (об этом есть немного в конце), пока просто уберем NaN.\n"
      ]
    },
    {
      "cell_type": "code",
      "metadata": {
        "id": "UZ7er94MY5zw",
        "colab": {
          "base_uri": "https://localhost:8080/",
          "height": 419
        },
        "outputId": "53e703ee-b94a-4fa2-cb9b-cfce7b5da77f"
      },
      "source": [
        "data = data.dropna().reset_index(drop=True)\n",
        "data"
      ],
      "execution_count": null,
      "outputs": [
        {
          "output_type": "execute_result",
          "data": {
            "text/html": [
              "<div>\n",
              "<style scoped>\n",
              "    .dataframe tbody tr th:only-of-type {\n",
              "        vertical-align: middle;\n",
              "    }\n",
              "\n",
              "    .dataframe tbody tr th {\n",
              "        vertical-align: top;\n",
              "    }\n",
              "\n",
              "    .dataframe thead th {\n",
              "        text-align: right;\n",
              "    }\n",
              "</style>\n",
              "<table border=\"1\" class=\"dataframe\">\n",
              "  <thead>\n",
              "    <tr style=\"text-align: right;\">\n",
              "      <th></th>\n",
              "      <th>Name</th>\n",
              "      <th>Platform</th>\n",
              "      <th>Year_of_Release</th>\n",
              "      <th>Genre</th>\n",
              "      <th>Publisher</th>\n",
              "      <th>NA_Sales</th>\n",
              "      <th>EU_Sales</th>\n",
              "      <th>JP_Sales</th>\n",
              "      <th>Other_Sales</th>\n",
              "      <th>Global_Sales</th>\n",
              "      <th>Critic_Score</th>\n",
              "      <th>Critic_Count</th>\n",
              "      <th>User_Score</th>\n",
              "      <th>User_Count</th>\n",
              "      <th>Rating</th>\n",
              "    </tr>\n",
              "  </thead>\n",
              "  <tbody>\n",
              "    <tr>\n",
              "      <th>0</th>\n",
              "      <td>Wii Sports</td>\n",
              "      <td>Wii</td>\n",
              "      <td>2006.0</td>\n",
              "      <td>Sports</td>\n",
              "      <td>Nintendo</td>\n",
              "      <td>41.36</td>\n",
              "      <td>28.96</td>\n",
              "      <td>3.77</td>\n",
              "      <td>8.45</td>\n",
              "      <td>82.54</td>\n",
              "      <td>76.0</td>\n",
              "      <td>51.0</td>\n",
              "      <td>8.0</td>\n",
              "      <td>324.0</td>\n",
              "      <td>E</td>\n",
              "    </tr>\n",
              "    <tr>\n",
              "      <th>1</th>\n",
              "      <td>Mario Kart Wii</td>\n",
              "      <td>Wii</td>\n",
              "      <td>2008.0</td>\n",
              "      <td>Racing</td>\n",
              "      <td>Nintendo</td>\n",
              "      <td>15.68</td>\n",
              "      <td>12.80</td>\n",
              "      <td>3.79</td>\n",
              "      <td>3.29</td>\n",
              "      <td>35.57</td>\n",
              "      <td>82.0</td>\n",
              "      <td>73.0</td>\n",
              "      <td>8.3</td>\n",
              "      <td>712.0</td>\n",
              "      <td>E</td>\n",
              "    </tr>\n",
              "    <tr>\n",
              "      <th>2</th>\n",
              "      <td>Wii Sports Resort</td>\n",
              "      <td>Wii</td>\n",
              "      <td>2009.0</td>\n",
              "      <td>Sports</td>\n",
              "      <td>Nintendo</td>\n",
              "      <td>15.61</td>\n",
              "      <td>10.95</td>\n",
              "      <td>3.28</td>\n",
              "      <td>2.95</td>\n",
              "      <td>32.78</td>\n",
              "      <td>80.0</td>\n",
              "      <td>73.0</td>\n",
              "      <td>8.0</td>\n",
              "      <td>193.0</td>\n",
              "      <td>E</td>\n",
              "    </tr>\n",
              "    <tr>\n",
              "      <th>3</th>\n",
              "      <td>New Super Mario Bros.</td>\n",
              "      <td>DS</td>\n",
              "      <td>2006.0</td>\n",
              "      <td>Platform</td>\n",
              "      <td>Nintendo</td>\n",
              "      <td>11.28</td>\n",
              "      <td>9.15</td>\n",
              "      <td>6.50</td>\n",
              "      <td>2.88</td>\n",
              "      <td>29.81</td>\n",
              "      <td>89.0</td>\n",
              "      <td>65.0</td>\n",
              "      <td>8.5</td>\n",
              "      <td>433.0</td>\n",
              "      <td>E</td>\n",
              "    </tr>\n",
              "    <tr>\n",
              "      <th>4</th>\n",
              "      <td>Wii Play</td>\n",
              "      <td>Wii</td>\n",
              "      <td>2006.0</td>\n",
              "      <td>Misc</td>\n",
              "      <td>Nintendo</td>\n",
              "      <td>13.96</td>\n",
              "      <td>9.18</td>\n",
              "      <td>2.93</td>\n",
              "      <td>2.84</td>\n",
              "      <td>28.92</td>\n",
              "      <td>58.0</td>\n",
              "      <td>41.0</td>\n",
              "      <td>6.6</td>\n",
              "      <td>129.0</td>\n",
              "      <td>E</td>\n",
              "    </tr>\n",
              "    <tr>\n",
              "      <th>...</th>\n",
              "      <td>...</td>\n",
              "      <td>...</td>\n",
              "      <td>...</td>\n",
              "      <td>...</td>\n",
              "      <td>...</td>\n",
              "      <td>...</td>\n",
              "      <td>...</td>\n",
              "      <td>...</td>\n",
              "      <td>...</td>\n",
              "      <td>...</td>\n",
              "      <td>...</td>\n",
              "      <td>...</td>\n",
              "      <td>...</td>\n",
              "      <td>...</td>\n",
              "      <td>...</td>\n",
              "    </tr>\n",
              "    <tr>\n",
              "      <th>7107</th>\n",
              "      <td>Tom Clancys Splinter Cell</td>\n",
              "      <td>PC</td>\n",
              "      <td>2003.0</td>\n",
              "      <td>Action</td>\n",
              "      <td>Ubisoft</td>\n",
              "      <td>0.00</td>\n",
              "      <td>0.00</td>\n",
              "      <td>0.00</td>\n",
              "      <td>0.00</td>\n",
              "      <td>0.01</td>\n",
              "      <td>91.0</td>\n",
              "      <td>20.0</td>\n",
              "      <td>8.5</td>\n",
              "      <td>291.0</td>\n",
              "      <td>T</td>\n",
              "    </tr>\n",
              "    <tr>\n",
              "      <th>7108</th>\n",
              "      <td>Blacksite: Area 51</td>\n",
              "      <td>PC</td>\n",
              "      <td>2007.0</td>\n",
              "      <td>Shooter</td>\n",
              "      <td>Midway Games</td>\n",
              "      <td>0.00</td>\n",
              "      <td>0.00</td>\n",
              "      <td>0.00</td>\n",
              "      <td>0.00</td>\n",
              "      <td>0.01</td>\n",
              "      <td>60.0</td>\n",
              "      <td>20.0</td>\n",
              "      <td>4.9</td>\n",
              "      <td>42.0</td>\n",
              "      <td>T</td>\n",
              "    </tr>\n",
              "    <tr>\n",
              "      <th>7109</th>\n",
              "      <td>Virtua Tennis 2009</td>\n",
              "      <td>PC</td>\n",
              "      <td>2009.0</td>\n",
              "      <td>Sports</td>\n",
              "      <td>Sega</td>\n",
              "      <td>0.00</td>\n",
              "      <td>0.00</td>\n",
              "      <td>0.00</td>\n",
              "      <td>0.00</td>\n",
              "      <td>0.01</td>\n",
              "      <td>68.0</td>\n",
              "      <td>8.0</td>\n",
              "      <td>6.5</td>\n",
              "      <td>19.0</td>\n",
              "      <td>E</td>\n",
              "    </tr>\n",
              "    <tr>\n",
              "      <th>7110</th>\n",
              "      <td>CivCity: Rome</td>\n",
              "      <td>PC</td>\n",
              "      <td>2006.0</td>\n",
              "      <td>Strategy</td>\n",
              "      <td>Take-Two Interactive</td>\n",
              "      <td>0.00</td>\n",
              "      <td>0.00</td>\n",
              "      <td>0.00</td>\n",
              "      <td>0.00</td>\n",
              "      <td>0.01</td>\n",
              "      <td>67.0</td>\n",
              "      <td>46.0</td>\n",
              "      <td>6.9</td>\n",
              "      <td>32.0</td>\n",
              "      <td>E10+</td>\n",
              "    </tr>\n",
              "    <tr>\n",
              "      <th>7111</th>\n",
              "      <td>Super Meat Boy</td>\n",
              "      <td>PS4</td>\n",
              "      <td>2016.0</td>\n",
              "      <td>Platform</td>\n",
              "      <td>Team Meat</td>\n",
              "      <td>0.00</td>\n",
              "      <td>0.00</td>\n",
              "      <td>0.00</td>\n",
              "      <td>0.00</td>\n",
              "      <td>0.01</td>\n",
              "      <td>85.0</td>\n",
              "      <td>7.0</td>\n",
              "      <td>7.0</td>\n",
              "      <td>114.0</td>\n",
              "      <td>T</td>\n",
              "    </tr>\n",
              "  </tbody>\n",
              "</table>\n",
              "<p>7112 rows × 15 columns</p>\n",
              "</div>"
            ],
            "text/plain": [
              "                           Name Platform  ...  User_Count Rating\n",
              "0                    Wii Sports      Wii  ...       324.0      E\n",
              "1                Mario Kart Wii      Wii  ...       712.0      E\n",
              "2             Wii Sports Resort      Wii  ...       193.0      E\n",
              "3         New Super Mario Bros.       DS  ...       433.0      E\n",
              "4                      Wii Play      Wii  ...       129.0      E\n",
              "...                         ...      ...  ...         ...    ...\n",
              "7107  Tom Clancys Splinter Cell       PC  ...       291.0      T\n",
              "7108         Blacksite: Area 51       PC  ...        42.0      T\n",
              "7109         Virtua Tennis 2009       PC  ...        19.0      E\n",
              "7110              CivCity: Rome       PC  ...        32.0   E10+\n",
              "7111             Super Meat Boy      PS4  ...       114.0      T\n",
              "\n",
              "[7112 rows x 15 columns]"
            ]
          },
          "metadata": {
            "tags": []
          },
          "execution_count": 45
        }
      ]
    },
    {
      "cell_type": "code",
      "metadata": {
        "id": "FCRPwigawfGD"
      },
      "source": [
        "data[\"Year_of_Release\"].dtypes"
      ],
      "execution_count": null,
      "outputs": []
    },
    {
      "cell_type": "markdown",
      "metadata": {
        "id": "iEJZEDGtwfGE"
      },
      "source": [
        "https://pandas.pydata.org/pandas-docs/stable/reference/api/pandas.Series.dt.html "
      ]
    },
    {
      "cell_type": "code",
      "metadata": {
        "id": "km1rFPGLgGkC",
        "colab": {
          "base_uri": "https://localhost:8080/",
          "height": 204
        },
        "outputId": "b2874829-20e4-4d17-f21e-2fd62d3d65ec"
      },
      "source": [
        "#надо преобразовать колонку с годом в норм год\n",
        "data[\"Year_of_Release\"] = pd.to_datetime(data[\"Year_of_Release\"].astype(int).astype(str))\n",
        "data[\"Year_of_Release\"] = data[\"Year_of_Release\"].dt.year #как str из прошлой лабы\n",
        "data.head()"
      ],
      "execution_count": null,
      "outputs": [
        {
          "output_type": "execute_result",
          "data": {
            "text/html": [
              "<div>\n",
              "<style scoped>\n",
              "    .dataframe tbody tr th:only-of-type {\n",
              "        vertical-align: middle;\n",
              "    }\n",
              "\n",
              "    .dataframe tbody tr th {\n",
              "        vertical-align: top;\n",
              "    }\n",
              "\n",
              "    .dataframe thead th {\n",
              "        text-align: right;\n",
              "    }\n",
              "</style>\n",
              "<table border=\"1\" class=\"dataframe\">\n",
              "  <thead>\n",
              "    <tr style=\"text-align: right;\">\n",
              "      <th></th>\n",
              "      <th>Name</th>\n",
              "      <th>Platform</th>\n",
              "      <th>Year_of_Release</th>\n",
              "      <th>Genre</th>\n",
              "      <th>Publisher</th>\n",
              "      <th>NA_Sales</th>\n",
              "      <th>EU_Sales</th>\n",
              "      <th>JP_Sales</th>\n",
              "      <th>Other_Sales</th>\n",
              "      <th>Global_Sales</th>\n",
              "      <th>Critic_Score</th>\n",
              "      <th>Critic_Count</th>\n",
              "      <th>User_Score</th>\n",
              "      <th>User_Count</th>\n",
              "      <th>Rating</th>\n",
              "    </tr>\n",
              "  </thead>\n",
              "  <tbody>\n",
              "    <tr>\n",
              "      <th>0</th>\n",
              "      <td>Wii Sports</td>\n",
              "      <td>Wii</td>\n",
              "      <td>2006</td>\n",
              "      <td>Sports</td>\n",
              "      <td>Nintendo</td>\n",
              "      <td>41.36</td>\n",
              "      <td>28.96</td>\n",
              "      <td>3.77</td>\n",
              "      <td>8.45</td>\n",
              "      <td>82.54</td>\n",
              "      <td>76.0</td>\n",
              "      <td>51.0</td>\n",
              "      <td>8.0</td>\n",
              "      <td>324.0</td>\n",
              "      <td>E</td>\n",
              "    </tr>\n",
              "    <tr>\n",
              "      <th>1</th>\n",
              "      <td>Mario Kart Wii</td>\n",
              "      <td>Wii</td>\n",
              "      <td>2008</td>\n",
              "      <td>Racing</td>\n",
              "      <td>Nintendo</td>\n",
              "      <td>15.68</td>\n",
              "      <td>12.80</td>\n",
              "      <td>3.79</td>\n",
              "      <td>3.29</td>\n",
              "      <td>35.57</td>\n",
              "      <td>82.0</td>\n",
              "      <td>73.0</td>\n",
              "      <td>8.3</td>\n",
              "      <td>712.0</td>\n",
              "      <td>E</td>\n",
              "    </tr>\n",
              "    <tr>\n",
              "      <th>2</th>\n",
              "      <td>Wii Sports Resort</td>\n",
              "      <td>Wii</td>\n",
              "      <td>2009</td>\n",
              "      <td>Sports</td>\n",
              "      <td>Nintendo</td>\n",
              "      <td>15.61</td>\n",
              "      <td>10.95</td>\n",
              "      <td>3.28</td>\n",
              "      <td>2.95</td>\n",
              "      <td>32.78</td>\n",
              "      <td>80.0</td>\n",
              "      <td>73.0</td>\n",
              "      <td>8.0</td>\n",
              "      <td>193.0</td>\n",
              "      <td>E</td>\n",
              "    </tr>\n",
              "    <tr>\n",
              "      <th>3</th>\n",
              "      <td>New Super Mario Bros.</td>\n",
              "      <td>DS</td>\n",
              "      <td>2006</td>\n",
              "      <td>Platform</td>\n",
              "      <td>Nintendo</td>\n",
              "      <td>11.28</td>\n",
              "      <td>9.15</td>\n",
              "      <td>6.50</td>\n",
              "      <td>2.88</td>\n",
              "      <td>29.81</td>\n",
              "      <td>89.0</td>\n",
              "      <td>65.0</td>\n",
              "      <td>8.5</td>\n",
              "      <td>433.0</td>\n",
              "      <td>E</td>\n",
              "    </tr>\n",
              "    <tr>\n",
              "      <th>4</th>\n",
              "      <td>Wii Play</td>\n",
              "      <td>Wii</td>\n",
              "      <td>2006</td>\n",
              "      <td>Misc</td>\n",
              "      <td>Nintendo</td>\n",
              "      <td>13.96</td>\n",
              "      <td>9.18</td>\n",
              "      <td>2.93</td>\n",
              "      <td>2.84</td>\n",
              "      <td>28.92</td>\n",
              "      <td>58.0</td>\n",
              "      <td>41.0</td>\n",
              "      <td>6.6</td>\n",
              "      <td>129.0</td>\n",
              "      <td>E</td>\n",
              "    </tr>\n",
              "  </tbody>\n",
              "</table>\n",
              "</div>"
            ],
            "text/plain": [
              "                    Name Platform  ...  User_Count Rating\n",
              "0             Wii Sports      Wii  ...       324.0      E\n",
              "1         Mario Kart Wii      Wii  ...       712.0      E\n",
              "2      Wii Sports Resort      Wii  ...       193.0      E\n",
              "3  New Super Mario Bros.       DS  ...       433.0      E\n",
              "4               Wii Play      Wii  ...       129.0      E\n",
              "\n",
              "[5 rows x 15 columns]"
            ]
          },
          "metadata": {
            "tags": []
          },
          "execution_count": 46
        }
      ]
    },
    {
      "cell_type": "code",
      "metadata": {
        "id": "bcLcR3k-wfGG"
      },
      "source": [
        "data[\"Year_of_Release\"].dtypes"
      ],
      "execution_count": null,
      "outputs": []
    },
    {
      "cell_type": "code",
      "metadata": {
        "id": "0zdnjJrQWkbN",
        "colab": {
          "base_uri": "https://localhost:8080/"
        },
        "outputId": "96650bd6-3c38-4109-c798-e2288746904a"
      },
      "source": [
        "data.info()"
      ],
      "execution_count": null,
      "outputs": [
        {
          "output_type": "stream",
          "text": [
            "<class 'pandas.core.frame.DataFrame'>\n",
            "Int64Index: 7112 entries, 0 to 17407\n",
            "Data columns (total 15 columns):\n",
            " #   Column           Non-Null Count  Dtype  \n",
            "---  ------           --------------  -----  \n",
            " 0   Name             7112 non-null   object \n",
            " 1   Platform         7112 non-null   object \n",
            " 2   Year_of_Release  7112 non-null   int64  \n",
            " 3   Genre            7112 non-null   object \n",
            " 4   Publisher        7112 non-null   object \n",
            " 5   NA_Sales         7112 non-null   float64\n",
            " 6   EU_Sales         7112 non-null   float64\n",
            " 7   JP_Sales         7112 non-null   float64\n",
            " 8   Other_Sales      7112 non-null   float64\n",
            " 9   Global_Sales     7112 non-null   float64\n",
            " 10  Critic_Score     7112 non-null   float64\n",
            " 11  Critic_Count     7112 non-null   float64\n",
            " 12  User_Score       7112 non-null   float64\n",
            " 13  User_Count       7112 non-null   float64\n",
            " 14  Rating           7112 non-null   object \n",
            "dtypes: float64(9), int64(1), object(5)\n",
            "memory usage: 889.0+ KB\n"
          ],
          "name": "stdout"
        }
      ]
    },
    {
      "cell_type": "markdown",
      "metadata": {
        "id": "i8LcWcSGExdp"
      },
      "source": [
        "## subsetting\n",
        "Посмотрим игры на какие платформы у нас есть: считаем количество уникальных наблюдений\n"
      ]
    },
    {
      "cell_type": "code",
      "metadata": {
        "id": "JabWjIt0f3AN",
        "colab": {
          "base_uri": "https://localhost:8080/"
        },
        "outputId": "8a39273b-631f-4ac3-cb6a-7db0b6cef406"
      },
      "source": [
        "data['Platform'].value_counts()"
      ],
      "execution_count": null,
      "outputs": [
        {
          "output_type": "execute_result",
          "data": {
            "text/plain": [
              "PS2     1169\n",
              "X360     888\n",
              "PS3      790\n",
              "PC       734\n",
              "X        586\n",
              "Wii      493\n",
              "DS       472\n",
              "PSP      401\n",
              "GC       363\n",
              "PS4      255\n",
              "GBA      249\n",
              "XOne     169\n",
              "3DS      161\n",
              "PS       154\n",
              "PSV      125\n",
              "WiiU      89\n",
              "DC        14\n",
              "Name: Platform, dtype: int64"
            ]
          },
          "metadata": {
            "tags": []
          },
          "execution_count": 8
        }
      ]
    },
    {
      "cell_type": "markdown",
      "metadata": {
        "id": "QRg5d8NMwfGN"
      },
      "source": [
        "Выберем только игры на ПК: одно условие"
      ]
    },
    {
      "cell_type": "code",
      "metadata": {
        "id": "35ife84FwfGN",
        "colab": {
          "base_uri": "https://localhost:8080/",
          "height": 204
        },
        "outputId": "66bbd692-e5a0-4889-b909-2664c0a499c8"
      },
      "source": [
        "data[data.Platform == \"PC\"].head()"
      ],
      "execution_count": null,
      "outputs": [
        {
          "output_type": "execute_result",
          "data": {
            "text/html": [
              "<div>\n",
              "<style scoped>\n",
              "    .dataframe tbody tr th:only-of-type {\n",
              "        vertical-align: middle;\n",
              "    }\n",
              "\n",
              "    .dataframe tbody tr th {\n",
              "        vertical-align: top;\n",
              "    }\n",
              "\n",
              "    .dataframe thead th {\n",
              "        text-align: right;\n",
              "    }\n",
              "</style>\n",
              "<table border=\"1\" class=\"dataframe\">\n",
              "  <thead>\n",
              "    <tr style=\"text-align: right;\">\n",
              "      <th></th>\n",
              "      <th>Name</th>\n",
              "      <th>Platform</th>\n",
              "      <th>Year_of_Release</th>\n",
              "      <th>Genre</th>\n",
              "      <th>Publisher</th>\n",
              "      <th>NA_Sales</th>\n",
              "      <th>EU_Sales</th>\n",
              "      <th>JP_Sales</th>\n",
              "      <th>Other_Sales</th>\n",
              "      <th>Global_Sales</th>\n",
              "      <th>Critic_Score</th>\n",
              "      <th>Critic_Count</th>\n",
              "      <th>User_Score</th>\n",
              "      <th>User_Count</th>\n",
              "      <th>Rating</th>\n",
              "    </tr>\n",
              "  </thead>\n",
              "  <tbody>\n",
              "    <tr>\n",
              "      <th>88</th>\n",
              "      <td>The Sims 3</td>\n",
              "      <td>PC</td>\n",
              "      <td>2009</td>\n",
              "      <td>Simulation</td>\n",
              "      <td>Electronic Arts</td>\n",
              "      <td>0.99</td>\n",
              "      <td>6.42</td>\n",
              "      <td>0.00</td>\n",
              "      <td>0.60</td>\n",
              "      <td>8.01</td>\n",
              "      <td>86.0</td>\n",
              "      <td>75.0</td>\n",
              "      <td>7.6</td>\n",
              "      <td>894.0</td>\n",
              "      <td>T</td>\n",
              "    </tr>\n",
              "    <tr>\n",
              "      <th>138</th>\n",
              "      <td>World of Warcraft</td>\n",
              "      <td>PC</td>\n",
              "      <td>2004</td>\n",
              "      <td>Role-Playing</td>\n",
              "      <td>Activision</td>\n",
              "      <td>0.09</td>\n",
              "      <td>6.22</td>\n",
              "      <td>0.00</td>\n",
              "      <td>0.00</td>\n",
              "      <td>6.31</td>\n",
              "      <td>93.0</td>\n",
              "      <td>57.0</td>\n",
              "      <td>7.3</td>\n",
              "      <td>2199.0</td>\n",
              "      <td>T</td>\n",
              "    </tr>\n",
              "    <tr>\n",
              "      <th>193</th>\n",
              "      <td>Diablo III</td>\n",
              "      <td>PC</td>\n",
              "      <td>2012</td>\n",
              "      <td>Role-Playing</td>\n",
              "      <td>Activision</td>\n",
              "      <td>2.45</td>\n",
              "      <td>2.17</td>\n",
              "      <td>0.00</td>\n",
              "      <td>0.54</td>\n",
              "      <td>5.17</td>\n",
              "      <td>88.0</td>\n",
              "      <td>86.0</td>\n",
              "      <td>4.0</td>\n",
              "      <td>9643.0</td>\n",
              "      <td>M</td>\n",
              "    </tr>\n",
              "    <tr>\n",
              "      <th>220</th>\n",
              "      <td>StarCraft II: Wings of Liberty</td>\n",
              "      <td>PC</td>\n",
              "      <td>2010</td>\n",
              "      <td>Strategy</td>\n",
              "      <td>Activision</td>\n",
              "      <td>2.58</td>\n",
              "      <td>1.69</td>\n",
              "      <td>0.00</td>\n",
              "      <td>0.59</td>\n",
              "      <td>4.85</td>\n",
              "      <td>93.0</td>\n",
              "      <td>82.0</td>\n",
              "      <td>8.2</td>\n",
              "      <td>3057.0</td>\n",
              "      <td>T</td>\n",
              "    </tr>\n",
              "    <tr>\n",
              "      <th>286</th>\n",
              "      <td>Half-Life</td>\n",
              "      <td>PC</td>\n",
              "      <td>1997</td>\n",
              "      <td>Shooter</td>\n",
              "      <td>Vivendi Games</td>\n",
              "      <td>4.03</td>\n",
              "      <td>0.00</td>\n",
              "      <td>0.09</td>\n",
              "      <td>0.00</td>\n",
              "      <td>4.12</td>\n",
              "      <td>96.0</td>\n",
              "      <td>24.0</td>\n",
              "      <td>9.1</td>\n",
              "      <td>3179.0</td>\n",
              "      <td>M</td>\n",
              "    </tr>\n",
              "  </tbody>\n",
              "</table>\n",
              "</div>"
            ],
            "text/plain": [
              "                               Name Platform  ...  User_Count Rating\n",
              "88                       The Sims 3       PC  ...       894.0      T\n",
              "138               World of Warcraft       PC  ...      2199.0      T\n",
              "193                      Diablo III       PC  ...      9643.0      M\n",
              "220  StarCraft II: Wings of Liberty       PC  ...      3057.0      T\n",
              "286                       Half-Life       PC  ...      3179.0      M\n",
              "\n",
              "[5 rows x 15 columns]"
            ]
          },
          "metadata": {
            "tags": []
          },
          "execution_count": 9
        }
      ]
    },
    {
      "cell_type": "code",
      "metadata": {
        "id": "lUK0urz_wfGP",
        "colab": {
          "base_uri": "https://localhost:8080/",
          "height": 204
        },
        "outputId": "38d0e7ab-3dec-4853-9356-7172021ed1f8"
      },
      "source": [
        "data.query('Platform == \"PC\"').head()"
      ],
      "execution_count": null,
      "outputs": [
        {
          "output_type": "execute_result",
          "data": {
            "text/html": [
              "<div>\n",
              "<style scoped>\n",
              "    .dataframe tbody tr th:only-of-type {\n",
              "        vertical-align: middle;\n",
              "    }\n",
              "\n",
              "    .dataframe tbody tr th {\n",
              "        vertical-align: top;\n",
              "    }\n",
              "\n",
              "    .dataframe thead th {\n",
              "        text-align: right;\n",
              "    }\n",
              "</style>\n",
              "<table border=\"1\" class=\"dataframe\">\n",
              "  <thead>\n",
              "    <tr style=\"text-align: right;\">\n",
              "      <th></th>\n",
              "      <th>Name</th>\n",
              "      <th>Platform</th>\n",
              "      <th>Year_of_Release</th>\n",
              "      <th>Genre</th>\n",
              "      <th>Publisher</th>\n",
              "      <th>NA_Sales</th>\n",
              "      <th>EU_Sales</th>\n",
              "      <th>JP_Sales</th>\n",
              "      <th>Other_Sales</th>\n",
              "      <th>Global_Sales</th>\n",
              "      <th>Critic_Score</th>\n",
              "      <th>Critic_Count</th>\n",
              "      <th>User_Score</th>\n",
              "      <th>User_Count</th>\n",
              "      <th>Rating</th>\n",
              "    </tr>\n",
              "  </thead>\n",
              "  <tbody>\n",
              "    <tr>\n",
              "      <th>88</th>\n",
              "      <td>The Sims 3</td>\n",
              "      <td>PC</td>\n",
              "      <td>2009</td>\n",
              "      <td>Simulation</td>\n",
              "      <td>Electronic Arts</td>\n",
              "      <td>0.99</td>\n",
              "      <td>6.42</td>\n",
              "      <td>0.00</td>\n",
              "      <td>0.60</td>\n",
              "      <td>8.01</td>\n",
              "      <td>86.0</td>\n",
              "      <td>75.0</td>\n",
              "      <td>7.6</td>\n",
              "      <td>894.0</td>\n",
              "      <td>T</td>\n",
              "    </tr>\n",
              "    <tr>\n",
              "      <th>138</th>\n",
              "      <td>World of Warcraft</td>\n",
              "      <td>PC</td>\n",
              "      <td>2004</td>\n",
              "      <td>Role-Playing</td>\n",
              "      <td>Activision</td>\n",
              "      <td>0.09</td>\n",
              "      <td>6.22</td>\n",
              "      <td>0.00</td>\n",
              "      <td>0.00</td>\n",
              "      <td>6.31</td>\n",
              "      <td>93.0</td>\n",
              "      <td>57.0</td>\n",
              "      <td>7.3</td>\n",
              "      <td>2199.0</td>\n",
              "      <td>T</td>\n",
              "    </tr>\n",
              "    <tr>\n",
              "      <th>193</th>\n",
              "      <td>Diablo III</td>\n",
              "      <td>PC</td>\n",
              "      <td>2012</td>\n",
              "      <td>Role-Playing</td>\n",
              "      <td>Activision</td>\n",
              "      <td>2.45</td>\n",
              "      <td>2.17</td>\n",
              "      <td>0.00</td>\n",
              "      <td>0.54</td>\n",
              "      <td>5.17</td>\n",
              "      <td>88.0</td>\n",
              "      <td>86.0</td>\n",
              "      <td>4.0</td>\n",
              "      <td>9643.0</td>\n",
              "      <td>M</td>\n",
              "    </tr>\n",
              "    <tr>\n",
              "      <th>220</th>\n",
              "      <td>StarCraft II: Wings of Liberty</td>\n",
              "      <td>PC</td>\n",
              "      <td>2010</td>\n",
              "      <td>Strategy</td>\n",
              "      <td>Activision</td>\n",
              "      <td>2.58</td>\n",
              "      <td>1.69</td>\n",
              "      <td>0.00</td>\n",
              "      <td>0.59</td>\n",
              "      <td>4.85</td>\n",
              "      <td>93.0</td>\n",
              "      <td>82.0</td>\n",
              "      <td>8.2</td>\n",
              "      <td>3057.0</td>\n",
              "      <td>T</td>\n",
              "    </tr>\n",
              "    <tr>\n",
              "      <th>286</th>\n",
              "      <td>Half-Life</td>\n",
              "      <td>PC</td>\n",
              "      <td>1997</td>\n",
              "      <td>Shooter</td>\n",
              "      <td>Vivendi Games</td>\n",
              "      <td>4.03</td>\n",
              "      <td>0.00</td>\n",
              "      <td>0.09</td>\n",
              "      <td>0.00</td>\n",
              "      <td>4.12</td>\n",
              "      <td>96.0</td>\n",
              "      <td>24.0</td>\n",
              "      <td>9.1</td>\n",
              "      <td>3179.0</td>\n",
              "      <td>M</td>\n",
              "    </tr>\n",
              "  </tbody>\n",
              "</table>\n",
              "</div>"
            ],
            "text/plain": [
              "                               Name Platform  ...  User_Count Rating\n",
              "88                       The Sims 3       PC  ...       894.0      T\n",
              "138               World of Warcraft       PC  ...      2199.0      T\n",
              "193                      Diablo III       PC  ...      9643.0      M\n",
              "220  StarCraft II: Wings of Liberty       PC  ...      3057.0      T\n",
              "286                       Half-Life       PC  ...      3179.0      M\n",
              "\n",
              "[5 rows x 15 columns]"
            ]
          },
          "metadata": {
            "tags": []
          },
          "execution_count": 10
        }
      ]
    },
    {
      "cell_type": "markdown",
      "metadata": {
        "id": "Lg2IaXLrwfGQ"
      },
      "source": [
        "Выбираем только игры на ПК и строго старше 2010 года: два условия"
      ]
    },
    {
      "cell_type": "code",
      "metadata": {
        "id": "1u_74bA-wfGR",
        "colab": {
          "base_uri": "https://localhost:8080/",
          "height": 204
        },
        "outputId": "4430e55f-4be1-4023-ac39-060b8eac7d0e"
      },
      "source": [
        "data[(data.Platform == \"PC\") & (data.Year_of_Release > 2010)].head()"
      ],
      "execution_count": null,
      "outputs": [
        {
          "output_type": "execute_result",
          "data": {
            "text/html": [
              "<div>\n",
              "<style scoped>\n",
              "    .dataframe tbody tr th:only-of-type {\n",
              "        vertical-align: middle;\n",
              "    }\n",
              "\n",
              "    .dataframe tbody tr th {\n",
              "        vertical-align: top;\n",
              "    }\n",
              "\n",
              "    .dataframe thead th {\n",
              "        text-align: right;\n",
              "    }\n",
              "</style>\n",
              "<table border=\"1\" class=\"dataframe\">\n",
              "  <thead>\n",
              "    <tr style=\"text-align: right;\">\n",
              "      <th></th>\n",
              "      <th>Name</th>\n",
              "      <th>Platform</th>\n",
              "      <th>Year_of_Release</th>\n",
              "      <th>Genre</th>\n",
              "      <th>Publisher</th>\n",
              "      <th>NA_Sales</th>\n",
              "      <th>EU_Sales</th>\n",
              "      <th>JP_Sales</th>\n",
              "      <th>Other_Sales</th>\n",
              "      <th>Global_Sales</th>\n",
              "      <th>Critic_Score</th>\n",
              "      <th>Critic_Count</th>\n",
              "      <th>User_Score</th>\n",
              "      <th>User_Count</th>\n",
              "      <th>Rating</th>\n",
              "    </tr>\n",
              "  </thead>\n",
              "  <tbody>\n",
              "    <tr>\n",
              "      <th>193</th>\n",
              "      <td>Diablo III</td>\n",
              "      <td>PC</td>\n",
              "      <td>2012</td>\n",
              "      <td>Role-Playing</td>\n",
              "      <td>Activision</td>\n",
              "      <td>2.45</td>\n",
              "      <td>2.17</td>\n",
              "      <td>0.0</td>\n",
              "      <td>0.54</td>\n",
              "      <td>5.17</td>\n",
              "      <td>88.0</td>\n",
              "      <td>86.0</td>\n",
              "      <td>4.0</td>\n",
              "      <td>9643.0</td>\n",
              "      <td>M</td>\n",
              "    </tr>\n",
              "    <tr>\n",
              "      <th>310</th>\n",
              "      <td>The Elder Scrolls V: Skyrim</td>\n",
              "      <td>PC</td>\n",
              "      <td>2011</td>\n",
              "      <td>Role-Playing</td>\n",
              "      <td>Bethesda Softworks</td>\n",
              "      <td>1.16</td>\n",
              "      <td>2.16</td>\n",
              "      <td>0.0</td>\n",
              "      <td>0.60</td>\n",
              "      <td>3.92</td>\n",
              "      <td>94.0</td>\n",
              "      <td>32.0</td>\n",
              "      <td>8.1</td>\n",
              "      <td>9142.0</td>\n",
              "      <td>M</td>\n",
              "    </tr>\n",
              "    <tr>\n",
              "      <th>429</th>\n",
              "      <td>The Sims 4</td>\n",
              "      <td>PC</td>\n",
              "      <td>2014</td>\n",
              "      <td>Simulation</td>\n",
              "      <td>Electronic Arts</td>\n",
              "      <td>1.05</td>\n",
              "      <td>1.93</td>\n",
              "      <td>0.0</td>\n",
              "      <td>0.24</td>\n",
              "      <td>3.23</td>\n",
              "      <td>70.0</td>\n",
              "      <td>74.0</td>\n",
              "      <td>3.9</td>\n",
              "      <td>2075.0</td>\n",
              "      <td>T</td>\n",
              "    </tr>\n",
              "    <tr>\n",
              "      <th>486</th>\n",
              "      <td>Star Wars: The Old Republic</td>\n",
              "      <td>PC</td>\n",
              "      <td>2011</td>\n",
              "      <td>Role-Playing</td>\n",
              "      <td>Electronic Arts</td>\n",
              "      <td>1.59</td>\n",
              "      <td>1.01</td>\n",
              "      <td>0.0</td>\n",
              "      <td>0.38</td>\n",
              "      <td>2.97</td>\n",
              "      <td>85.0</td>\n",
              "      <td>73.0</td>\n",
              "      <td>5.9</td>\n",
              "      <td>2755.0</td>\n",
              "      <td>T</td>\n",
              "    </tr>\n",
              "    <tr>\n",
              "      <th>545</th>\n",
              "      <td>Battlefield 3</td>\n",
              "      <td>PC</td>\n",
              "      <td>2011</td>\n",
              "      <td>Shooter</td>\n",
              "      <td>Electronic Arts</td>\n",
              "      <td>0.89</td>\n",
              "      <td>1.43</td>\n",
              "      <td>0.0</td>\n",
              "      <td>0.46</td>\n",
              "      <td>2.78</td>\n",
              "      <td>89.0</td>\n",
              "      <td>61.0</td>\n",
              "      <td>7.5</td>\n",
              "      <td>4942.0</td>\n",
              "      <td>M</td>\n",
              "    </tr>\n",
              "  </tbody>\n",
              "</table>\n",
              "</div>"
            ],
            "text/plain": [
              "                            Name Platform  ...  User_Count Rating\n",
              "193                   Diablo III       PC  ...      9643.0      M\n",
              "310  The Elder Scrolls V: Skyrim       PC  ...      9142.0      M\n",
              "429                   The Sims 4       PC  ...      2075.0      T\n",
              "486  Star Wars: The Old Republic       PC  ...      2755.0      T\n",
              "545                Battlefield 3       PC  ...      4942.0      M\n",
              "\n",
              "[5 rows x 15 columns]"
            ]
          },
          "metadata": {
            "tags": []
          },
          "execution_count": 11
        }
      ]
    },
    {
      "cell_type": "code",
      "metadata": {
        "id": "CqN0eajPwfGT",
        "colab": {
          "base_uri": "https://localhost:8080/",
          "height": 204
        },
        "outputId": "52c76e1c-980d-4a18-a2b2-053e0799c5be"
      },
      "source": [
        "data.query('Platform == \"PC\" and Year_of_Release > 2010').head()"
      ],
      "execution_count": null,
      "outputs": [
        {
          "output_type": "execute_result",
          "data": {
            "text/html": [
              "<div>\n",
              "<style scoped>\n",
              "    .dataframe tbody tr th:only-of-type {\n",
              "        vertical-align: middle;\n",
              "    }\n",
              "\n",
              "    .dataframe tbody tr th {\n",
              "        vertical-align: top;\n",
              "    }\n",
              "\n",
              "    .dataframe thead th {\n",
              "        text-align: right;\n",
              "    }\n",
              "</style>\n",
              "<table border=\"1\" class=\"dataframe\">\n",
              "  <thead>\n",
              "    <tr style=\"text-align: right;\">\n",
              "      <th></th>\n",
              "      <th>Name</th>\n",
              "      <th>Platform</th>\n",
              "      <th>Year_of_Release</th>\n",
              "      <th>Genre</th>\n",
              "      <th>Publisher</th>\n",
              "      <th>NA_Sales</th>\n",
              "      <th>EU_Sales</th>\n",
              "      <th>JP_Sales</th>\n",
              "      <th>Other_Sales</th>\n",
              "      <th>Global_Sales</th>\n",
              "      <th>Critic_Score</th>\n",
              "      <th>Critic_Count</th>\n",
              "      <th>User_Score</th>\n",
              "      <th>User_Count</th>\n",
              "      <th>Rating</th>\n",
              "    </tr>\n",
              "  </thead>\n",
              "  <tbody>\n",
              "    <tr>\n",
              "      <th>193</th>\n",
              "      <td>Diablo III</td>\n",
              "      <td>PC</td>\n",
              "      <td>2012</td>\n",
              "      <td>Role-Playing</td>\n",
              "      <td>Activision</td>\n",
              "      <td>2.45</td>\n",
              "      <td>2.17</td>\n",
              "      <td>0.0</td>\n",
              "      <td>0.54</td>\n",
              "      <td>5.17</td>\n",
              "      <td>88.0</td>\n",
              "      <td>86.0</td>\n",
              "      <td>4.0</td>\n",
              "      <td>9643.0</td>\n",
              "      <td>M</td>\n",
              "    </tr>\n",
              "    <tr>\n",
              "      <th>310</th>\n",
              "      <td>The Elder Scrolls V: Skyrim</td>\n",
              "      <td>PC</td>\n",
              "      <td>2011</td>\n",
              "      <td>Role-Playing</td>\n",
              "      <td>Bethesda Softworks</td>\n",
              "      <td>1.16</td>\n",
              "      <td>2.16</td>\n",
              "      <td>0.0</td>\n",
              "      <td>0.60</td>\n",
              "      <td>3.92</td>\n",
              "      <td>94.0</td>\n",
              "      <td>32.0</td>\n",
              "      <td>8.1</td>\n",
              "      <td>9142.0</td>\n",
              "      <td>M</td>\n",
              "    </tr>\n",
              "    <tr>\n",
              "      <th>429</th>\n",
              "      <td>The Sims 4</td>\n",
              "      <td>PC</td>\n",
              "      <td>2014</td>\n",
              "      <td>Simulation</td>\n",
              "      <td>Electronic Arts</td>\n",
              "      <td>1.05</td>\n",
              "      <td>1.93</td>\n",
              "      <td>0.0</td>\n",
              "      <td>0.24</td>\n",
              "      <td>3.23</td>\n",
              "      <td>70.0</td>\n",
              "      <td>74.0</td>\n",
              "      <td>3.9</td>\n",
              "      <td>2075.0</td>\n",
              "      <td>T</td>\n",
              "    </tr>\n",
              "    <tr>\n",
              "      <th>486</th>\n",
              "      <td>Star Wars: The Old Republic</td>\n",
              "      <td>PC</td>\n",
              "      <td>2011</td>\n",
              "      <td>Role-Playing</td>\n",
              "      <td>Electronic Arts</td>\n",
              "      <td>1.59</td>\n",
              "      <td>1.01</td>\n",
              "      <td>0.0</td>\n",
              "      <td>0.38</td>\n",
              "      <td>2.97</td>\n",
              "      <td>85.0</td>\n",
              "      <td>73.0</td>\n",
              "      <td>5.9</td>\n",
              "      <td>2755.0</td>\n",
              "      <td>T</td>\n",
              "    </tr>\n",
              "    <tr>\n",
              "      <th>545</th>\n",
              "      <td>Battlefield 3</td>\n",
              "      <td>PC</td>\n",
              "      <td>2011</td>\n",
              "      <td>Shooter</td>\n",
              "      <td>Electronic Arts</td>\n",
              "      <td>0.89</td>\n",
              "      <td>1.43</td>\n",
              "      <td>0.0</td>\n",
              "      <td>0.46</td>\n",
              "      <td>2.78</td>\n",
              "      <td>89.0</td>\n",
              "      <td>61.0</td>\n",
              "      <td>7.5</td>\n",
              "      <td>4942.0</td>\n",
              "      <td>M</td>\n",
              "    </tr>\n",
              "  </tbody>\n",
              "</table>\n",
              "</div>"
            ],
            "text/plain": [
              "                            Name Platform  ...  User_Count Rating\n",
              "193                   Diablo III       PC  ...      9643.0      M\n",
              "310  The Elder Scrolls V: Skyrim       PC  ...      9142.0      M\n",
              "429                   The Sims 4       PC  ...      2075.0      T\n",
              "486  Star Wars: The Old Republic       PC  ...      2755.0      T\n",
              "545                Battlefield 3       PC  ...      4942.0      M\n",
              "\n",
              "[5 rows x 15 columns]"
            ]
          },
          "metadata": {
            "tags": []
          },
          "execution_count": 13
        }
      ]
    },
    {
      "cell_type": "markdown",
      "metadata": {
        "id": "EcbyFbBO6eqK"
      },
      "source": [
        "Отрицание условия, два варианта: != и ~"
      ]
    },
    {
      "cell_type": "code",
      "metadata": {
        "id": "5Otx8AUlwfGV",
        "colab": {
          "base_uri": "https://localhost:8080/",
          "height": 204
        },
        "outputId": "866236ab-f65a-4fc3-8753-aa5411242269"
      },
      "source": [
        "data[~((data.Platform == \"PC\") & (data.Year_of_Release > 2010))].head()"
      ],
      "execution_count": null,
      "outputs": [
        {
          "output_type": "execute_result",
          "data": {
            "text/html": [
              "<div>\n",
              "<style scoped>\n",
              "    .dataframe tbody tr th:only-of-type {\n",
              "        vertical-align: middle;\n",
              "    }\n",
              "\n",
              "    .dataframe tbody tr th {\n",
              "        vertical-align: top;\n",
              "    }\n",
              "\n",
              "    .dataframe thead th {\n",
              "        text-align: right;\n",
              "    }\n",
              "</style>\n",
              "<table border=\"1\" class=\"dataframe\">\n",
              "  <thead>\n",
              "    <tr style=\"text-align: right;\">\n",
              "      <th></th>\n",
              "      <th>Name</th>\n",
              "      <th>Platform</th>\n",
              "      <th>Year_of_Release</th>\n",
              "      <th>Genre</th>\n",
              "      <th>Publisher</th>\n",
              "      <th>NA_Sales</th>\n",
              "      <th>EU_Sales</th>\n",
              "      <th>JP_Sales</th>\n",
              "      <th>Other_Sales</th>\n",
              "      <th>Global_Sales</th>\n",
              "      <th>Critic_Score</th>\n",
              "      <th>Critic_Count</th>\n",
              "      <th>User_Score</th>\n",
              "      <th>User_Count</th>\n",
              "      <th>Rating</th>\n",
              "    </tr>\n",
              "  </thead>\n",
              "  <tbody>\n",
              "    <tr>\n",
              "      <th>0</th>\n",
              "      <td>Wii Sports</td>\n",
              "      <td>Wii</td>\n",
              "      <td>2006</td>\n",
              "      <td>Sports</td>\n",
              "      <td>Nintendo</td>\n",
              "      <td>41.36</td>\n",
              "      <td>28.96</td>\n",
              "      <td>3.77</td>\n",
              "      <td>8.45</td>\n",
              "      <td>82.54</td>\n",
              "      <td>76.0</td>\n",
              "      <td>51.0</td>\n",
              "      <td>8.0</td>\n",
              "      <td>324.0</td>\n",
              "      <td>E</td>\n",
              "    </tr>\n",
              "    <tr>\n",
              "      <th>2</th>\n",
              "      <td>Mario Kart Wii</td>\n",
              "      <td>Wii</td>\n",
              "      <td>2008</td>\n",
              "      <td>Racing</td>\n",
              "      <td>Nintendo</td>\n",
              "      <td>15.68</td>\n",
              "      <td>12.80</td>\n",
              "      <td>3.79</td>\n",
              "      <td>3.29</td>\n",
              "      <td>35.57</td>\n",
              "      <td>82.0</td>\n",
              "      <td>73.0</td>\n",
              "      <td>8.3</td>\n",
              "      <td>712.0</td>\n",
              "      <td>E</td>\n",
              "    </tr>\n",
              "    <tr>\n",
              "      <th>3</th>\n",
              "      <td>Wii Sports Resort</td>\n",
              "      <td>Wii</td>\n",
              "      <td>2009</td>\n",
              "      <td>Sports</td>\n",
              "      <td>Nintendo</td>\n",
              "      <td>15.61</td>\n",
              "      <td>10.95</td>\n",
              "      <td>3.28</td>\n",
              "      <td>2.95</td>\n",
              "      <td>32.78</td>\n",
              "      <td>80.0</td>\n",
              "      <td>73.0</td>\n",
              "      <td>8.0</td>\n",
              "      <td>193.0</td>\n",
              "      <td>E</td>\n",
              "    </tr>\n",
              "    <tr>\n",
              "      <th>6</th>\n",
              "      <td>New Super Mario Bros.</td>\n",
              "      <td>DS</td>\n",
              "      <td>2006</td>\n",
              "      <td>Platform</td>\n",
              "      <td>Nintendo</td>\n",
              "      <td>11.28</td>\n",
              "      <td>9.15</td>\n",
              "      <td>6.50</td>\n",
              "      <td>2.88</td>\n",
              "      <td>29.81</td>\n",
              "      <td>89.0</td>\n",
              "      <td>65.0</td>\n",
              "      <td>8.5</td>\n",
              "      <td>433.0</td>\n",
              "      <td>E</td>\n",
              "    </tr>\n",
              "    <tr>\n",
              "      <th>7</th>\n",
              "      <td>Wii Play</td>\n",
              "      <td>Wii</td>\n",
              "      <td>2006</td>\n",
              "      <td>Misc</td>\n",
              "      <td>Nintendo</td>\n",
              "      <td>13.96</td>\n",
              "      <td>9.18</td>\n",
              "      <td>2.93</td>\n",
              "      <td>2.84</td>\n",
              "      <td>28.92</td>\n",
              "      <td>58.0</td>\n",
              "      <td>41.0</td>\n",
              "      <td>6.6</td>\n",
              "      <td>129.0</td>\n",
              "      <td>E</td>\n",
              "    </tr>\n",
              "  </tbody>\n",
              "</table>\n",
              "</div>"
            ],
            "text/plain": [
              "                    Name Platform  ...  User_Count Rating\n",
              "0             Wii Sports      Wii  ...       324.0      E\n",
              "2         Mario Kart Wii      Wii  ...       712.0      E\n",
              "3      Wii Sports Resort      Wii  ...       193.0      E\n",
              "6  New Super Mario Bros.       DS  ...       433.0      E\n",
              "7               Wii Play      Wii  ...       129.0      E\n",
              "\n",
              "[5 rows x 15 columns]"
            ]
          },
          "metadata": {
            "tags": []
          },
          "execution_count": 14
        }
      ]
    },
    {
      "cell_type": "markdown",
      "metadata": {
        "id": "Yr3-Y6rF5gbU"
      },
      "source": [
        "А что если мы хотим отфильтровать несколько значений в одной колонке? Например ПК и ПС2"
      ]
    },
    {
      "cell_type": "code",
      "metadata": {
        "id": "QhWCsyAD5ojZ",
        "colab": {
          "base_uri": "https://localhost:8080/",
          "height": 419
        },
        "outputId": "35060a98-9011-49ce-8183-562847e3f24c"
      },
      "source": [
        "#data[(data.Platform == \"PC\") | (data.Platform == \"PS2\")]\n",
        "data[data.Platform.isin([\"PC\", \"PS2\"])]"
      ],
      "execution_count": null,
      "outputs": [
        {
          "output_type": "execute_result",
          "data": {
            "text/html": [
              "<div>\n",
              "<style scoped>\n",
              "    .dataframe tbody tr th:only-of-type {\n",
              "        vertical-align: middle;\n",
              "    }\n",
              "\n",
              "    .dataframe tbody tr th {\n",
              "        vertical-align: top;\n",
              "    }\n",
              "\n",
              "    .dataframe thead th {\n",
              "        text-align: right;\n",
              "    }\n",
              "</style>\n",
              "<table border=\"1\" class=\"dataframe\">\n",
              "  <thead>\n",
              "    <tr style=\"text-align: right;\">\n",
              "      <th></th>\n",
              "      <th>Name</th>\n",
              "      <th>Platform</th>\n",
              "      <th>Year_of_Release</th>\n",
              "      <th>Genre</th>\n",
              "      <th>Publisher</th>\n",
              "      <th>NA_Sales</th>\n",
              "      <th>EU_Sales</th>\n",
              "      <th>JP_Sales</th>\n",
              "      <th>Other_Sales</th>\n",
              "      <th>Global_Sales</th>\n",
              "      <th>Critic_Score</th>\n",
              "      <th>Critic_Count</th>\n",
              "      <th>User_Score</th>\n",
              "      <th>User_Count</th>\n",
              "      <th>Rating</th>\n",
              "    </tr>\n",
              "  </thead>\n",
              "  <tbody>\n",
              "    <tr>\n",
              "      <th>17</th>\n",
              "      <td>Grand Theft Auto: San Andreas</td>\n",
              "      <td>PS2</td>\n",
              "      <td>2004</td>\n",
              "      <td>Action</td>\n",
              "      <td>Take-Two Interactive</td>\n",
              "      <td>9.43</td>\n",
              "      <td>0.40</td>\n",
              "      <td>0.41</td>\n",
              "      <td>10.57</td>\n",
              "      <td>20.81</td>\n",
              "      <td>95.0</td>\n",
              "      <td>80.0</td>\n",
              "      <td>9.0</td>\n",
              "      <td>1606.0</td>\n",
              "      <td>M</td>\n",
              "    </tr>\n",
              "    <tr>\n",
              "      <th>24</th>\n",
              "      <td>Grand Theft Auto: Vice City</td>\n",
              "      <td>PS2</td>\n",
              "      <td>2002</td>\n",
              "      <td>Action</td>\n",
              "      <td>Take-Two Interactive</td>\n",
              "      <td>8.41</td>\n",
              "      <td>5.49</td>\n",
              "      <td>0.47</td>\n",
              "      <td>1.78</td>\n",
              "      <td>16.15</td>\n",
              "      <td>95.0</td>\n",
              "      <td>62.0</td>\n",
              "      <td>8.7</td>\n",
              "      <td>736.0</td>\n",
              "      <td>M</td>\n",
              "    </tr>\n",
              "    <tr>\n",
              "      <th>28</th>\n",
              "      <td>Gran Turismo 3: A-Spec</td>\n",
              "      <td>PS2</td>\n",
              "      <td>2001</td>\n",
              "      <td>Racing</td>\n",
              "      <td>Sony Computer Entertainment</td>\n",
              "      <td>6.85</td>\n",
              "      <td>5.09</td>\n",
              "      <td>1.87</td>\n",
              "      <td>1.16</td>\n",
              "      <td>14.98</td>\n",
              "      <td>95.0</td>\n",
              "      <td>54.0</td>\n",
              "      <td>8.4</td>\n",
              "      <td>314.0</td>\n",
              "      <td>E</td>\n",
              "    </tr>\n",
              "    <tr>\n",
              "      <th>39</th>\n",
              "      <td>Grand Theft Auto III</td>\n",
              "      <td>PS2</td>\n",
              "      <td>2001</td>\n",
              "      <td>Action</td>\n",
              "      <td>Take-Two Interactive</td>\n",
              "      <td>6.99</td>\n",
              "      <td>4.51</td>\n",
              "      <td>0.30</td>\n",
              "      <td>1.30</td>\n",
              "      <td>13.10</td>\n",
              "      <td>97.0</td>\n",
              "      <td>56.0</td>\n",
              "      <td>8.5</td>\n",
              "      <td>667.0</td>\n",
              "      <td>M</td>\n",
              "    </tr>\n",
              "    <tr>\n",
              "      <th>48</th>\n",
              "      <td>Gran Turismo 4</td>\n",
              "      <td>PS2</td>\n",
              "      <td>2004</td>\n",
              "      <td>Racing</td>\n",
              "      <td>Sony Computer Entertainment</td>\n",
              "      <td>3.01</td>\n",
              "      <td>0.01</td>\n",
              "      <td>1.10</td>\n",
              "      <td>7.53</td>\n",
              "      <td>11.66</td>\n",
              "      <td>89.0</td>\n",
              "      <td>74.0</td>\n",
              "      <td>8.5</td>\n",
              "      <td>273.0</td>\n",
              "      <td>E</td>\n",
              "    </tr>\n",
              "    <tr>\n",
              "      <th>...</th>\n",
              "      <td>...</td>\n",
              "      <td>...</td>\n",
              "      <td>...</td>\n",
              "      <td>...</td>\n",
              "      <td>...</td>\n",
              "      <td>...</td>\n",
              "      <td>...</td>\n",
              "      <td>...</td>\n",
              "      <td>...</td>\n",
              "      <td>...</td>\n",
              "      <td>...</td>\n",
              "      <td>...</td>\n",
              "      <td>...</td>\n",
              "      <td>...</td>\n",
              "      <td>...</td>\n",
              "    </tr>\n",
              "    <tr>\n",
              "      <th>17383</th>\n",
              "      <td>Nancy Drew: The Phantom of Venice</td>\n",
              "      <td>PC</td>\n",
              "      <td>2008</td>\n",
              "      <td>Adventure</td>\n",
              "      <td>Her Interactive</td>\n",
              "      <td>0.00</td>\n",
              "      <td>0.00</td>\n",
              "      <td>0.00</td>\n",
              "      <td>0.00</td>\n",
              "      <td>0.01</td>\n",
              "      <td>69.0</td>\n",
              "      <td>7.0</td>\n",
              "      <td>6.6</td>\n",
              "      <td>8.0</td>\n",
              "      <td>E</td>\n",
              "    </tr>\n",
              "    <tr>\n",
              "      <th>17394</th>\n",
              "      <td>Tom Clancys Splinter Cell</td>\n",
              "      <td>PC</td>\n",
              "      <td>2003</td>\n",
              "      <td>Action</td>\n",
              "      <td>Ubisoft</td>\n",
              "      <td>0.00</td>\n",
              "      <td>0.00</td>\n",
              "      <td>0.00</td>\n",
              "      <td>0.00</td>\n",
              "      <td>0.01</td>\n",
              "      <td>91.0</td>\n",
              "      <td>20.0</td>\n",
              "      <td>8.5</td>\n",
              "      <td>291.0</td>\n",
              "      <td>T</td>\n",
              "    </tr>\n",
              "    <tr>\n",
              "      <th>17401</th>\n",
              "      <td>Blacksite: Area 51</td>\n",
              "      <td>PC</td>\n",
              "      <td>2007</td>\n",
              "      <td>Shooter</td>\n",
              "      <td>Midway Games</td>\n",
              "      <td>0.00</td>\n",
              "      <td>0.00</td>\n",
              "      <td>0.00</td>\n",
              "      <td>0.00</td>\n",
              "      <td>0.01</td>\n",
              "      <td>60.0</td>\n",
              "      <td>20.0</td>\n",
              "      <td>4.9</td>\n",
              "      <td>42.0</td>\n",
              "      <td>T</td>\n",
              "    </tr>\n",
              "    <tr>\n",
              "      <th>17402</th>\n",
              "      <td>Virtua Tennis 2009</td>\n",
              "      <td>PC</td>\n",
              "      <td>2009</td>\n",
              "      <td>Sports</td>\n",
              "      <td>Sega</td>\n",
              "      <td>0.00</td>\n",
              "      <td>0.00</td>\n",
              "      <td>0.00</td>\n",
              "      <td>0.00</td>\n",
              "      <td>0.01</td>\n",
              "      <td>68.0</td>\n",
              "      <td>8.0</td>\n",
              "      <td>6.5</td>\n",
              "      <td>19.0</td>\n",
              "      <td>E</td>\n",
              "    </tr>\n",
              "    <tr>\n",
              "      <th>17404</th>\n",
              "      <td>CivCity: Rome</td>\n",
              "      <td>PC</td>\n",
              "      <td>2006</td>\n",
              "      <td>Strategy</td>\n",
              "      <td>Take-Two Interactive</td>\n",
              "      <td>0.00</td>\n",
              "      <td>0.00</td>\n",
              "      <td>0.00</td>\n",
              "      <td>0.00</td>\n",
              "      <td>0.01</td>\n",
              "      <td>67.0</td>\n",
              "      <td>46.0</td>\n",
              "      <td>6.9</td>\n",
              "      <td>32.0</td>\n",
              "      <td>E10+</td>\n",
              "    </tr>\n",
              "  </tbody>\n",
              "</table>\n",
              "<p>1903 rows × 15 columns</p>\n",
              "</div>"
            ],
            "text/plain": [
              "                                    Name Platform  ...  User_Count Rating\n",
              "17         Grand Theft Auto: San Andreas      PS2  ...      1606.0      M\n",
              "24           Grand Theft Auto: Vice City      PS2  ...       736.0      M\n",
              "28                Gran Turismo 3: A-Spec      PS2  ...       314.0      E\n",
              "39                  Grand Theft Auto III      PS2  ...       667.0      M\n",
              "48                        Gran Turismo 4      PS2  ...       273.0      E\n",
              "...                                  ...      ...  ...         ...    ...\n",
              "17383  Nancy Drew: The Phantom of Venice       PC  ...         8.0      E\n",
              "17394          Tom Clancys Splinter Cell       PC  ...       291.0      T\n",
              "17401                 Blacksite: Area 51       PC  ...        42.0      T\n",
              "17402                 Virtua Tennis 2009       PC  ...        19.0      E\n",
              "17404                      CivCity: Rome       PC  ...        32.0   E10+\n",
              "\n",
              "[1903 rows x 15 columns]"
            ]
          },
          "metadata": {
            "tags": []
          },
          "execution_count": 15
        }
      ]
    },
    {
      "cell_type": "markdown",
      "metadata": {
        "id": "dHWDqf-E_IGE"
      },
      "source": [
        "Посмотрим, что работает быстрее"
      ]
    },
    {
      "cell_type": "code",
      "metadata": {
        "id": "ABE7bnfLz9rb",
        "colab": {
          "base_uri": "https://localhost:8080/"
        },
        "outputId": "585d8735-2984-4b5f-8b3e-ecf9ab2cd2d5"
      },
      "source": [
        "import time\n",
        "start_time = time.time()\n",
        "data.loc[(data.Platform == \"PC\") | (data.Platform == \"PS2\")]\n",
        "print(\"--- %s seconds ---\" % (time.time() - start_time))"
      ],
      "execution_count": null,
      "outputs": [
        {
          "output_type": "stream",
          "text": [
            "--- 0.0037097930908203125 seconds ---\n"
          ],
          "name": "stdout"
        }
      ]
    },
    {
      "cell_type": "code",
      "metadata": {
        "id": "p_D1-vX40JMi",
        "colab": {
          "base_uri": "https://localhost:8080/"
        },
        "outputId": "f3d6ac9d-72e4-4567-994d-15c5cffd4dd1"
      },
      "source": [
        "import time\n",
        "start_time = time.time()\n",
        "data[data.Platform.isin([\"PC\", \"PS2\"])]\n",
        "print(\"--- %s seconds ---\" % (time.time() - start_time))"
      ],
      "execution_count": null,
      "outputs": [
        {
          "output_type": "stream",
          "text": [
            "--- 0.0029838085174560547 seconds ---\n"
          ],
          "name": "stdout"
        }
      ]
    },
    {
      "cell_type": "markdown",
      "metadata": {
        "id": "1cIkVQweBXDe"
      },
      "source": [
        "Как выбрать определенные колонки из дс?"
      ]
    },
    {
      "cell_type": "code",
      "metadata": {
        "id": "DkU62NggBKjR",
        "colab": {
          "base_uri": "https://localhost:8080/",
          "height": 419
        },
        "outputId": "d0e9f1d5-364d-4fa7-9a2a-f41a53c146a2"
      },
      "source": [
        "data[[\"Platform\", \"Genre\"]]"
      ],
      "execution_count": null,
      "outputs": [
        {
          "output_type": "execute_result",
          "data": {
            "text/html": [
              "<div>\n",
              "<style scoped>\n",
              "    .dataframe tbody tr th:only-of-type {\n",
              "        vertical-align: middle;\n",
              "    }\n",
              "\n",
              "    .dataframe tbody tr th {\n",
              "        vertical-align: top;\n",
              "    }\n",
              "\n",
              "    .dataframe thead th {\n",
              "        text-align: right;\n",
              "    }\n",
              "</style>\n",
              "<table border=\"1\" class=\"dataframe\">\n",
              "  <thead>\n",
              "    <tr style=\"text-align: right;\">\n",
              "      <th></th>\n",
              "      <th>Platform</th>\n",
              "      <th>Genre</th>\n",
              "    </tr>\n",
              "  </thead>\n",
              "  <tbody>\n",
              "    <tr>\n",
              "      <th>0</th>\n",
              "      <td>Wii</td>\n",
              "      <td>Sports</td>\n",
              "    </tr>\n",
              "    <tr>\n",
              "      <th>2</th>\n",
              "      <td>Wii</td>\n",
              "      <td>Racing</td>\n",
              "    </tr>\n",
              "    <tr>\n",
              "      <th>3</th>\n",
              "      <td>Wii</td>\n",
              "      <td>Sports</td>\n",
              "    </tr>\n",
              "    <tr>\n",
              "      <th>6</th>\n",
              "      <td>DS</td>\n",
              "      <td>Platform</td>\n",
              "    </tr>\n",
              "    <tr>\n",
              "      <th>7</th>\n",
              "      <td>Wii</td>\n",
              "      <td>Misc</td>\n",
              "    </tr>\n",
              "    <tr>\n",
              "      <th>...</th>\n",
              "      <td>...</td>\n",
              "      <td>...</td>\n",
              "    </tr>\n",
              "    <tr>\n",
              "      <th>17394</th>\n",
              "      <td>PC</td>\n",
              "      <td>Action</td>\n",
              "    </tr>\n",
              "    <tr>\n",
              "      <th>17401</th>\n",
              "      <td>PC</td>\n",
              "      <td>Shooter</td>\n",
              "    </tr>\n",
              "    <tr>\n",
              "      <th>17402</th>\n",
              "      <td>PC</td>\n",
              "      <td>Sports</td>\n",
              "    </tr>\n",
              "    <tr>\n",
              "      <th>17404</th>\n",
              "      <td>PC</td>\n",
              "      <td>Strategy</td>\n",
              "    </tr>\n",
              "    <tr>\n",
              "      <th>17407</th>\n",
              "      <td>PS4</td>\n",
              "      <td>Platform</td>\n",
              "    </tr>\n",
              "  </tbody>\n",
              "</table>\n",
              "<p>7112 rows × 2 columns</p>\n",
              "</div>"
            ],
            "text/plain": [
              "      Platform     Genre\n",
              "0          Wii    Sports\n",
              "2          Wii    Racing\n",
              "3          Wii    Sports\n",
              "6           DS  Platform\n",
              "7          Wii      Misc\n",
              "...        ...       ...\n",
              "17394       PC    Action\n",
              "17401       PC   Shooter\n",
              "17402       PC    Sports\n",
              "17404       PC  Strategy\n",
              "17407      PS4  Platform\n",
              "\n",
              "[7112 rows x 2 columns]"
            ]
          },
          "metadata": {
            "tags": []
          },
          "execution_count": 18
        }
      ]
    },
    {
      "cell_type": "markdown",
      "metadata": {
        "id": "8wc8aZ1x_nge"
      },
      "source": [
        "Индексация? reset.index() в 5 чанке"
      ]
    },
    {
      "cell_type": "code",
      "metadata": {
        "id": "A0um6U9q_cL4",
        "colab": {
          "base_uri": "https://localhost:8080/",
          "height": 80
        },
        "outputId": "4b83b1cf-13c7-48c3-d86b-75502552bfd0"
      },
      "source": [
        "#выбрать все\n",
        "data[25:26]\n",
        "#"
      ],
      "execution_count": null,
      "outputs": [
        {
          "output_type": "execute_result",
          "data": {
            "text/html": [
              "<div>\n",
              "<style scoped>\n",
              "    .dataframe tbody tr th:only-of-type {\n",
              "        vertical-align: middle;\n",
              "    }\n",
              "\n",
              "    .dataframe tbody tr th {\n",
              "        vertical-align: top;\n",
              "    }\n",
              "\n",
              "    .dataframe thead th {\n",
              "        text-align: right;\n",
              "    }\n",
              "</style>\n",
              "<table border=\"1\" class=\"dataframe\">\n",
              "  <thead>\n",
              "    <tr style=\"text-align: right;\">\n",
              "      <th></th>\n",
              "      <th>Name</th>\n",
              "      <th>Platform</th>\n",
              "      <th>Year_of_Release</th>\n",
              "      <th>Genre</th>\n",
              "      <th>Publisher</th>\n",
              "      <th>NA_Sales</th>\n",
              "      <th>EU_Sales</th>\n",
              "      <th>JP_Sales</th>\n",
              "      <th>Other_Sales</th>\n",
              "      <th>Global_Sales</th>\n",
              "      <th>Critic_Score</th>\n",
              "      <th>Critic_Count</th>\n",
              "      <th>User_Score</th>\n",
              "      <th>User_Count</th>\n",
              "      <th>Rating</th>\n",
              "    </tr>\n",
              "  </thead>\n",
              "  <tbody>\n",
              "    <tr>\n",
              "      <th>25</th>\n",
              "      <td>Mario Kart 7</td>\n",
              "      <td>3DS</td>\n",
              "      <td>2011</td>\n",
              "      <td>Racing</td>\n",
              "      <td>Nintendo</td>\n",
              "      <td>5.2</td>\n",
              "      <td>4.19</td>\n",
              "      <td>2.7</td>\n",
              "      <td>0.94</td>\n",
              "      <td>13.04</td>\n",
              "      <td>85.0</td>\n",
              "      <td>73.0</td>\n",
              "      <td>8.2</td>\n",
              "      <td>633.0</td>\n",
              "      <td>E</td>\n",
              "    </tr>\n",
              "  </tbody>\n",
              "</table>\n",
              "</div>"
            ],
            "text/plain": [
              "            Name Platform  Year_of_Release  ... User_Score User_Count  Rating\n",
              "25  Mario Kart 7      3DS             2011  ...        8.2      633.0       E\n",
              "\n",
              "[1 rows x 15 columns]"
            ]
          },
          "metadata": {
            "tags": []
          },
          "execution_count": 24
        }
      ]
    },
    {
      "cell_type": "markdown",
      "metadata": {
        "id": "scbUo_P2B_0t"
      },
      "source": [
        "лок вс айлок\n",
        "\n",
        "почитать еще про них https://www.analyticsvidhya.com/blog/2020/02/loc-iloc-pandas/"
      ]
    },
    {
      "cell_type": "code",
      "metadata": {
        "id": "7wXEmiKJwfGX",
        "colab": {
          "base_uri": "https://localhost:8080/",
          "height": 204
        },
        "outputId": "24e15e98-b461-4719-cc8b-1c96cf5795a0"
      },
      "source": [
        "data.loc[(data.Platform == \"PC\") & (data.Year_of_Release > 2010)].head()"
      ],
      "execution_count": null,
      "outputs": [
        {
          "output_type": "execute_result",
          "data": {
            "text/html": [
              "<div>\n",
              "<style scoped>\n",
              "    .dataframe tbody tr th:only-of-type {\n",
              "        vertical-align: middle;\n",
              "    }\n",
              "\n",
              "    .dataframe tbody tr th {\n",
              "        vertical-align: top;\n",
              "    }\n",
              "\n",
              "    .dataframe thead th {\n",
              "        text-align: right;\n",
              "    }\n",
              "</style>\n",
              "<table border=\"1\" class=\"dataframe\">\n",
              "  <thead>\n",
              "    <tr style=\"text-align: right;\">\n",
              "      <th></th>\n",
              "      <th>Name</th>\n",
              "      <th>Platform</th>\n",
              "      <th>Year_of_Release</th>\n",
              "      <th>Genre</th>\n",
              "      <th>Publisher</th>\n",
              "      <th>NA_Sales</th>\n",
              "      <th>EU_Sales</th>\n",
              "      <th>JP_Sales</th>\n",
              "      <th>Other_Sales</th>\n",
              "      <th>Global_Sales</th>\n",
              "      <th>Critic_Score</th>\n",
              "      <th>Critic_Count</th>\n",
              "      <th>User_Score</th>\n",
              "      <th>User_Count</th>\n",
              "      <th>Rating</th>\n",
              "    </tr>\n",
              "  </thead>\n",
              "  <tbody>\n",
              "    <tr>\n",
              "      <th>137</th>\n",
              "      <td>Diablo III</td>\n",
              "      <td>PC</td>\n",
              "      <td>2012</td>\n",
              "      <td>Role-Playing</td>\n",
              "      <td>Activision</td>\n",
              "      <td>2.45</td>\n",
              "      <td>2.17</td>\n",
              "      <td>0.0</td>\n",
              "      <td>0.54</td>\n",
              "      <td>5.17</td>\n",
              "      <td>88.0</td>\n",
              "      <td>86.0</td>\n",
              "      <td>4.0</td>\n",
              "      <td>9643.0</td>\n",
              "      <td>M</td>\n",
              "    </tr>\n",
              "    <tr>\n",
              "      <th>215</th>\n",
              "      <td>The Elder Scrolls V: Skyrim</td>\n",
              "      <td>PC</td>\n",
              "      <td>2011</td>\n",
              "      <td>Role-Playing</td>\n",
              "      <td>Bethesda Softworks</td>\n",
              "      <td>1.16</td>\n",
              "      <td>2.16</td>\n",
              "      <td>0.0</td>\n",
              "      <td>0.60</td>\n",
              "      <td>3.92</td>\n",
              "      <td>94.0</td>\n",
              "      <td>32.0</td>\n",
              "      <td>8.1</td>\n",
              "      <td>9142.0</td>\n",
              "      <td>M</td>\n",
              "    </tr>\n",
              "    <tr>\n",
              "      <th>295</th>\n",
              "      <td>The Sims 4</td>\n",
              "      <td>PC</td>\n",
              "      <td>2014</td>\n",
              "      <td>Simulation</td>\n",
              "      <td>Electronic Arts</td>\n",
              "      <td>1.05</td>\n",
              "      <td>1.93</td>\n",
              "      <td>0.0</td>\n",
              "      <td>0.24</td>\n",
              "      <td>3.23</td>\n",
              "      <td>70.0</td>\n",
              "      <td>74.0</td>\n",
              "      <td>3.9</td>\n",
              "      <td>2075.0</td>\n",
              "      <td>T</td>\n",
              "    </tr>\n",
              "    <tr>\n",
              "      <th>336</th>\n",
              "      <td>Star Wars: The Old Republic</td>\n",
              "      <td>PC</td>\n",
              "      <td>2011</td>\n",
              "      <td>Role-Playing</td>\n",
              "      <td>Electronic Arts</td>\n",
              "      <td>1.59</td>\n",
              "      <td>1.01</td>\n",
              "      <td>0.0</td>\n",
              "      <td>0.38</td>\n",
              "      <td>2.97</td>\n",
              "      <td>85.0</td>\n",
              "      <td>73.0</td>\n",
              "      <td>5.9</td>\n",
              "      <td>2755.0</td>\n",
              "      <td>T</td>\n",
              "    </tr>\n",
              "    <tr>\n",
              "      <th>372</th>\n",
              "      <td>Battlefield 3</td>\n",
              "      <td>PC</td>\n",
              "      <td>2011</td>\n",
              "      <td>Shooter</td>\n",
              "      <td>Electronic Arts</td>\n",
              "      <td>0.89</td>\n",
              "      <td>1.43</td>\n",
              "      <td>0.0</td>\n",
              "      <td>0.46</td>\n",
              "      <td>2.78</td>\n",
              "      <td>89.0</td>\n",
              "      <td>61.0</td>\n",
              "      <td>7.5</td>\n",
              "      <td>4942.0</td>\n",
              "      <td>M</td>\n",
              "    </tr>\n",
              "  </tbody>\n",
              "</table>\n",
              "</div>"
            ],
            "text/plain": [
              "                            Name Platform  ...  User_Count Rating\n",
              "137                   Diablo III       PC  ...      9643.0      M\n",
              "215  The Elder Scrolls V: Skyrim       PC  ...      9142.0      M\n",
              "295                   The Sims 4       PC  ...      2075.0      T\n",
              "336  Star Wars: The Old Republic       PC  ...      2755.0      T\n",
              "372                Battlefield 3       PC  ...      4942.0      M\n",
              "\n",
              "[5 rows x 15 columns]"
            ]
          },
          "metadata": {
            "tags": []
          },
          "execution_count": 25
        }
      ]
    },
    {
      "cell_type": "code",
      "metadata": {
        "id": "v6ZF_Ik6DdQD",
        "colab": {
          "base_uri": "https://localhost:8080/",
          "height": 235
        },
        "outputId": "1f128640-9c68-41db-daf2-b372e9cd4558"
      },
      "source": [
        "data1 = data.set_index('Platform')\n",
        "data1.head()"
      ],
      "execution_count": null,
      "outputs": [
        {
          "output_type": "execute_result",
          "data": {
            "text/html": [
              "<div>\n",
              "<style scoped>\n",
              "    .dataframe tbody tr th:only-of-type {\n",
              "        vertical-align: middle;\n",
              "    }\n",
              "\n",
              "    .dataframe tbody tr th {\n",
              "        vertical-align: top;\n",
              "    }\n",
              "\n",
              "    .dataframe thead th {\n",
              "        text-align: right;\n",
              "    }\n",
              "</style>\n",
              "<table border=\"1\" class=\"dataframe\">\n",
              "  <thead>\n",
              "    <tr style=\"text-align: right;\">\n",
              "      <th></th>\n",
              "      <th>Name</th>\n",
              "      <th>Year_of_Release</th>\n",
              "      <th>Genre</th>\n",
              "      <th>Publisher</th>\n",
              "      <th>NA_Sales</th>\n",
              "      <th>EU_Sales</th>\n",
              "      <th>JP_Sales</th>\n",
              "      <th>Other_Sales</th>\n",
              "      <th>Global_Sales</th>\n",
              "      <th>Critic_Score</th>\n",
              "      <th>Critic_Count</th>\n",
              "      <th>User_Score</th>\n",
              "      <th>User_Count</th>\n",
              "      <th>Rating</th>\n",
              "    </tr>\n",
              "    <tr>\n",
              "      <th>Platform</th>\n",
              "      <th></th>\n",
              "      <th></th>\n",
              "      <th></th>\n",
              "      <th></th>\n",
              "      <th></th>\n",
              "      <th></th>\n",
              "      <th></th>\n",
              "      <th></th>\n",
              "      <th></th>\n",
              "      <th></th>\n",
              "      <th></th>\n",
              "      <th></th>\n",
              "      <th></th>\n",
              "      <th></th>\n",
              "    </tr>\n",
              "  </thead>\n",
              "  <tbody>\n",
              "    <tr>\n",
              "      <th>Wii</th>\n",
              "      <td>Wii Sports</td>\n",
              "      <td>2006</td>\n",
              "      <td>Sports</td>\n",
              "      <td>Nintendo</td>\n",
              "      <td>41.36</td>\n",
              "      <td>28.96</td>\n",
              "      <td>3.77</td>\n",
              "      <td>8.45</td>\n",
              "      <td>82.54</td>\n",
              "      <td>76.0</td>\n",
              "      <td>51.0</td>\n",
              "      <td>8.0</td>\n",
              "      <td>324.0</td>\n",
              "      <td>E</td>\n",
              "    </tr>\n",
              "    <tr>\n",
              "      <th>Wii</th>\n",
              "      <td>Mario Kart Wii</td>\n",
              "      <td>2008</td>\n",
              "      <td>Racing</td>\n",
              "      <td>Nintendo</td>\n",
              "      <td>15.68</td>\n",
              "      <td>12.80</td>\n",
              "      <td>3.79</td>\n",
              "      <td>3.29</td>\n",
              "      <td>35.57</td>\n",
              "      <td>82.0</td>\n",
              "      <td>73.0</td>\n",
              "      <td>8.3</td>\n",
              "      <td>712.0</td>\n",
              "      <td>E</td>\n",
              "    </tr>\n",
              "    <tr>\n",
              "      <th>Wii</th>\n",
              "      <td>Wii Sports Resort</td>\n",
              "      <td>2009</td>\n",
              "      <td>Sports</td>\n",
              "      <td>Nintendo</td>\n",
              "      <td>15.61</td>\n",
              "      <td>10.95</td>\n",
              "      <td>3.28</td>\n",
              "      <td>2.95</td>\n",
              "      <td>32.78</td>\n",
              "      <td>80.0</td>\n",
              "      <td>73.0</td>\n",
              "      <td>8.0</td>\n",
              "      <td>193.0</td>\n",
              "      <td>E</td>\n",
              "    </tr>\n",
              "    <tr>\n",
              "      <th>DS</th>\n",
              "      <td>New Super Mario Bros.</td>\n",
              "      <td>2006</td>\n",
              "      <td>Platform</td>\n",
              "      <td>Nintendo</td>\n",
              "      <td>11.28</td>\n",
              "      <td>9.15</td>\n",
              "      <td>6.50</td>\n",
              "      <td>2.88</td>\n",
              "      <td>29.81</td>\n",
              "      <td>89.0</td>\n",
              "      <td>65.0</td>\n",
              "      <td>8.5</td>\n",
              "      <td>433.0</td>\n",
              "      <td>E</td>\n",
              "    </tr>\n",
              "    <tr>\n",
              "      <th>Wii</th>\n",
              "      <td>Wii Play</td>\n",
              "      <td>2006</td>\n",
              "      <td>Misc</td>\n",
              "      <td>Nintendo</td>\n",
              "      <td>13.96</td>\n",
              "      <td>9.18</td>\n",
              "      <td>2.93</td>\n",
              "      <td>2.84</td>\n",
              "      <td>28.92</td>\n",
              "      <td>58.0</td>\n",
              "      <td>41.0</td>\n",
              "      <td>6.6</td>\n",
              "      <td>129.0</td>\n",
              "      <td>E</td>\n",
              "    </tr>\n",
              "  </tbody>\n",
              "</table>\n",
              "</div>"
            ],
            "text/plain": [
              "                           Name  Year_of_Release  ... User_Count Rating\n",
              "Platform                                          ...                  \n",
              "Wii                  Wii Sports             2006  ...      324.0      E\n",
              "Wii              Mario Kart Wii             2008  ...      712.0      E\n",
              "Wii           Wii Sports Resort             2009  ...      193.0      E\n",
              "DS        New Super Mario Bros.             2006  ...      433.0      E\n",
              "Wii                    Wii Play             2006  ...      129.0      E\n",
              "\n",
              "[5 rows x 14 columns]"
            ]
          },
          "metadata": {
            "tags": []
          },
          "execution_count": 26
        }
      ]
    },
    {
      "cell_type": "code",
      "metadata": {
        "id": "SdpyAN-3B2Df",
        "colab": {
          "base_uri": "https://localhost:8080/",
          "height": 450
        },
        "outputId": "b82c482c-0ec1-4cec-b7f5-756db335558d"
      },
      "source": [
        "data1.loc[['PC', 'PS2']] #выводим строчку ПК и ПС2"
      ],
      "execution_count": null,
      "outputs": [
        {
          "output_type": "execute_result",
          "data": {
            "text/html": [
              "<div>\n",
              "<style scoped>\n",
              "    .dataframe tbody tr th:only-of-type {\n",
              "        vertical-align: middle;\n",
              "    }\n",
              "\n",
              "    .dataframe tbody tr th {\n",
              "        vertical-align: top;\n",
              "    }\n",
              "\n",
              "    .dataframe thead th {\n",
              "        text-align: right;\n",
              "    }\n",
              "</style>\n",
              "<table border=\"1\" class=\"dataframe\">\n",
              "  <thead>\n",
              "    <tr style=\"text-align: right;\">\n",
              "      <th></th>\n",
              "      <th>Name</th>\n",
              "      <th>Year_of_Release</th>\n",
              "      <th>Genre</th>\n",
              "      <th>Publisher</th>\n",
              "      <th>NA_Sales</th>\n",
              "      <th>EU_Sales</th>\n",
              "      <th>JP_Sales</th>\n",
              "      <th>Other_Sales</th>\n",
              "      <th>Global_Sales</th>\n",
              "      <th>Critic_Score</th>\n",
              "      <th>Critic_Count</th>\n",
              "      <th>User_Score</th>\n",
              "      <th>User_Count</th>\n",
              "      <th>Rating</th>\n",
              "    </tr>\n",
              "    <tr>\n",
              "      <th>Platform</th>\n",
              "      <th></th>\n",
              "      <th></th>\n",
              "      <th></th>\n",
              "      <th></th>\n",
              "      <th></th>\n",
              "      <th></th>\n",
              "      <th></th>\n",
              "      <th></th>\n",
              "      <th></th>\n",
              "      <th></th>\n",
              "      <th></th>\n",
              "      <th></th>\n",
              "      <th></th>\n",
              "      <th></th>\n",
              "    </tr>\n",
              "  </thead>\n",
              "  <tbody>\n",
              "    <tr>\n",
              "      <th>PC</th>\n",
              "      <td>The Sims 3</td>\n",
              "      <td>2009</td>\n",
              "      <td>Simulation</td>\n",
              "      <td>Electronic Arts</td>\n",
              "      <td>0.99</td>\n",
              "      <td>6.42</td>\n",
              "      <td>0.00</td>\n",
              "      <td>0.60</td>\n",
              "      <td>8.01</td>\n",
              "      <td>86.0</td>\n",
              "      <td>75.0</td>\n",
              "      <td>7.6</td>\n",
              "      <td>894.0</td>\n",
              "      <td>T</td>\n",
              "    </tr>\n",
              "    <tr>\n",
              "      <th>PC</th>\n",
              "      <td>World of Warcraft</td>\n",
              "      <td>2004</td>\n",
              "      <td>Role-Playing</td>\n",
              "      <td>Activision</td>\n",
              "      <td>0.09</td>\n",
              "      <td>6.22</td>\n",
              "      <td>0.00</td>\n",
              "      <td>0.00</td>\n",
              "      <td>6.31</td>\n",
              "      <td>93.0</td>\n",
              "      <td>57.0</td>\n",
              "      <td>7.3</td>\n",
              "      <td>2199.0</td>\n",
              "      <td>T</td>\n",
              "    </tr>\n",
              "    <tr>\n",
              "      <th>PC</th>\n",
              "      <td>Diablo III</td>\n",
              "      <td>2012</td>\n",
              "      <td>Role-Playing</td>\n",
              "      <td>Activision</td>\n",
              "      <td>2.45</td>\n",
              "      <td>2.17</td>\n",
              "      <td>0.00</td>\n",
              "      <td>0.54</td>\n",
              "      <td>5.17</td>\n",
              "      <td>88.0</td>\n",
              "      <td>86.0</td>\n",
              "      <td>4.0</td>\n",
              "      <td>9643.0</td>\n",
              "      <td>M</td>\n",
              "    </tr>\n",
              "    <tr>\n",
              "      <th>PC</th>\n",
              "      <td>StarCraft II: Wings of Liberty</td>\n",
              "      <td>2010</td>\n",
              "      <td>Strategy</td>\n",
              "      <td>Activision</td>\n",
              "      <td>2.58</td>\n",
              "      <td>1.69</td>\n",
              "      <td>0.00</td>\n",
              "      <td>0.59</td>\n",
              "      <td>4.85</td>\n",
              "      <td>93.0</td>\n",
              "      <td>82.0</td>\n",
              "      <td>8.2</td>\n",
              "      <td>3057.0</td>\n",
              "      <td>T</td>\n",
              "    </tr>\n",
              "    <tr>\n",
              "      <th>PC</th>\n",
              "      <td>Half-Life</td>\n",
              "      <td>1997</td>\n",
              "      <td>Shooter</td>\n",
              "      <td>Vivendi Games</td>\n",
              "      <td>4.03</td>\n",
              "      <td>0.00</td>\n",
              "      <td>0.09</td>\n",
              "      <td>0.00</td>\n",
              "      <td>4.12</td>\n",
              "      <td>96.0</td>\n",
              "      <td>24.0</td>\n",
              "      <td>9.1</td>\n",
              "      <td>3179.0</td>\n",
              "      <td>M</td>\n",
              "    </tr>\n",
              "    <tr>\n",
              "      <th>...</th>\n",
              "      <td>...</td>\n",
              "      <td>...</td>\n",
              "      <td>...</td>\n",
              "      <td>...</td>\n",
              "      <td>...</td>\n",
              "      <td>...</td>\n",
              "      <td>...</td>\n",
              "      <td>...</td>\n",
              "      <td>...</td>\n",
              "      <td>...</td>\n",
              "      <td>...</td>\n",
              "      <td>...</td>\n",
              "      <td>...</td>\n",
              "      <td>...</td>\n",
              "    </tr>\n",
              "    <tr>\n",
              "      <th>PS2</th>\n",
              "      <td>Just Cause</td>\n",
              "      <td>2006</td>\n",
              "      <td>Action</td>\n",
              "      <td>Eidos Interactive</td>\n",
              "      <td>0.01</td>\n",
              "      <td>0.01</td>\n",
              "      <td>0.00</td>\n",
              "      <td>0.00</td>\n",
              "      <td>0.02</td>\n",
              "      <td>67.0</td>\n",
              "      <td>23.0</td>\n",
              "      <td>7.9</td>\n",
              "      <td>41.0</td>\n",
              "      <td>M</td>\n",
              "    </tr>\n",
              "    <tr>\n",
              "      <th>PS2</th>\n",
              "      <td>Metal Slug Anthology</td>\n",
              "      <td>2007</td>\n",
              "      <td>Shooter</td>\n",
              "      <td>Ignition Entertainment</td>\n",
              "      <td>0.00</td>\n",
              "      <td>0.00</td>\n",
              "      <td>0.01</td>\n",
              "      <td>0.00</td>\n",
              "      <td>0.01</td>\n",
              "      <td>80.0</td>\n",
              "      <td>20.0</td>\n",
              "      <td>8.1</td>\n",
              "      <td>16.0</td>\n",
              "      <td>T</td>\n",
              "    </tr>\n",
              "    <tr>\n",
              "      <th>PS2</th>\n",
              "      <td>Greg Hastings Tournament Paintball Maxd</td>\n",
              "      <td>2006</td>\n",
              "      <td>Shooter</td>\n",
              "      <td>Activision</td>\n",
              "      <td>0.01</td>\n",
              "      <td>0.00</td>\n",
              "      <td>0.00</td>\n",
              "      <td>0.00</td>\n",
              "      <td>0.01</td>\n",
              "      <td>70.0</td>\n",
              "      <td>8.0</td>\n",
              "      <td>9.2</td>\n",
              "      <td>32.0</td>\n",
              "      <td>E10+</td>\n",
              "    </tr>\n",
              "    <tr>\n",
              "      <th>PS2</th>\n",
              "      <td>Micro Machines V4</td>\n",
              "      <td>2006</td>\n",
              "      <td>Racing</td>\n",
              "      <td>Codemasters</td>\n",
              "      <td>0.01</td>\n",
              "      <td>0.00</td>\n",
              "      <td>0.00</td>\n",
              "      <td>0.00</td>\n",
              "      <td>0.01</td>\n",
              "      <td>64.0</td>\n",
              "      <td>35.0</td>\n",
              "      <td>6.8</td>\n",
              "      <td>8.0</td>\n",
              "      <td>E</td>\n",
              "    </tr>\n",
              "    <tr>\n",
              "      <th>PS2</th>\n",
              "      <td>MetropolisMania 2</td>\n",
              "      <td>2006</td>\n",
              "      <td>Strategy</td>\n",
              "      <td>Ubisoft</td>\n",
              "      <td>0.00</td>\n",
              "      <td>0.00</td>\n",
              "      <td>0.00</td>\n",
              "      <td>0.00</td>\n",
              "      <td>0.01</td>\n",
              "      <td>37.0</td>\n",
              "      <td>4.0</td>\n",
              "      <td>6.3</td>\n",
              "      <td>4.0</td>\n",
              "      <td>E10+</td>\n",
              "    </tr>\n",
              "  </tbody>\n",
              "</table>\n",
              "<p>1903 rows × 14 columns</p>\n",
              "</div>"
            ],
            "text/plain": [
              "                                             Name  ...  Rating\n",
              "Platform                                           ...        \n",
              "PC                                     The Sims 3  ...       T\n",
              "PC                              World of Warcraft  ...       T\n",
              "PC                                     Diablo III  ...       M\n",
              "PC                 StarCraft II: Wings of Liberty  ...       T\n",
              "PC                                      Half-Life  ...       M\n",
              "...                                           ...  ...     ...\n",
              "PS2                                    Just Cause  ...       M\n",
              "PS2                          Metal Slug Anthology  ...       T\n",
              "PS2       Greg Hastings Tournament Paintball Maxd  ...    E10+\n",
              "PS2                             Micro Machines V4  ...       E\n",
              "PS2                             MetropolisMania 2  ...    E10+\n",
              "\n",
              "[1903 rows x 14 columns]"
            ]
          },
          "metadata": {
            "tags": []
          },
          "execution_count": 27
        }
      ]
    },
    {
      "cell_type": "code",
      "metadata": {
        "id": "9m7LDLynECgp",
        "colab": {
          "base_uri": "https://localhost:8080/",
          "height": 142
        },
        "outputId": "c2713af6-c942-4b59-bf96-746b1124d065"
      },
      "source": [
        "data1.iloc[[0,1]] #выводим первую и вторую строчку"
      ],
      "execution_count": null,
      "outputs": [
        {
          "output_type": "execute_result",
          "data": {
            "text/html": [
              "<div>\n",
              "<style scoped>\n",
              "    .dataframe tbody tr th:only-of-type {\n",
              "        vertical-align: middle;\n",
              "    }\n",
              "\n",
              "    .dataframe tbody tr th {\n",
              "        vertical-align: top;\n",
              "    }\n",
              "\n",
              "    .dataframe thead th {\n",
              "        text-align: right;\n",
              "    }\n",
              "</style>\n",
              "<table border=\"1\" class=\"dataframe\">\n",
              "  <thead>\n",
              "    <tr style=\"text-align: right;\">\n",
              "      <th></th>\n",
              "      <th>Name</th>\n",
              "      <th>Year_of_Release</th>\n",
              "      <th>Genre</th>\n",
              "      <th>Publisher</th>\n",
              "      <th>NA_Sales</th>\n",
              "      <th>EU_Sales</th>\n",
              "      <th>JP_Sales</th>\n",
              "      <th>Other_Sales</th>\n",
              "      <th>Global_Sales</th>\n",
              "      <th>Critic_Score</th>\n",
              "      <th>Critic_Count</th>\n",
              "      <th>User_Score</th>\n",
              "      <th>User_Count</th>\n",
              "      <th>Rating</th>\n",
              "    </tr>\n",
              "    <tr>\n",
              "      <th>Platform</th>\n",
              "      <th></th>\n",
              "      <th></th>\n",
              "      <th></th>\n",
              "      <th></th>\n",
              "      <th></th>\n",
              "      <th></th>\n",
              "      <th></th>\n",
              "      <th></th>\n",
              "      <th></th>\n",
              "      <th></th>\n",
              "      <th></th>\n",
              "      <th></th>\n",
              "      <th></th>\n",
              "      <th></th>\n",
              "    </tr>\n",
              "  </thead>\n",
              "  <tbody>\n",
              "    <tr>\n",
              "      <th>Wii</th>\n",
              "      <td>Wii Sports</td>\n",
              "      <td>2006</td>\n",
              "      <td>Sports</td>\n",
              "      <td>Nintendo</td>\n",
              "      <td>41.36</td>\n",
              "      <td>28.96</td>\n",
              "      <td>3.77</td>\n",
              "      <td>8.45</td>\n",
              "      <td>82.54</td>\n",
              "      <td>76.0</td>\n",
              "      <td>51.0</td>\n",
              "      <td>8.0</td>\n",
              "      <td>324.0</td>\n",
              "      <td>E</td>\n",
              "    </tr>\n",
              "    <tr>\n",
              "      <th>Wii</th>\n",
              "      <td>Mario Kart Wii</td>\n",
              "      <td>2008</td>\n",
              "      <td>Racing</td>\n",
              "      <td>Nintendo</td>\n",
              "      <td>15.68</td>\n",
              "      <td>12.80</td>\n",
              "      <td>3.79</td>\n",
              "      <td>3.29</td>\n",
              "      <td>35.57</td>\n",
              "      <td>82.0</td>\n",
              "      <td>73.0</td>\n",
              "      <td>8.3</td>\n",
              "      <td>712.0</td>\n",
              "      <td>E</td>\n",
              "    </tr>\n",
              "  </tbody>\n",
              "</table>\n",
              "</div>"
            ],
            "text/plain": [
              "                    Name  Year_of_Release  ... User_Count Rating\n",
              "Platform                                   ...                  \n",
              "Wii           Wii Sports             2006  ...      324.0      E\n",
              "Wii       Mario Kart Wii             2008  ...      712.0      E\n",
              "\n",
              "[2 rows x 14 columns]"
            ]
          },
          "metadata": {
            "tags": []
          },
          "execution_count": 28
        }
      ]
    },
    {
      "cell_type": "code",
      "metadata": {
        "id": "-f9bwxAFE7S9",
        "colab": {
          "base_uri": "https://localhost:8080/",
          "height": 450
        },
        "outputId": "699c5a0c-9f85-4b16-eab3-9880fff2960f"
      },
      "source": [
        "data1.loc[['PC', 'PS2'], [\"Name\", \"Genre\"]] #+2 колонки"
      ],
      "execution_count": null,
      "outputs": [
        {
          "output_type": "execute_result",
          "data": {
            "text/html": [
              "<div>\n",
              "<style scoped>\n",
              "    .dataframe tbody tr th:only-of-type {\n",
              "        vertical-align: middle;\n",
              "    }\n",
              "\n",
              "    .dataframe tbody tr th {\n",
              "        vertical-align: top;\n",
              "    }\n",
              "\n",
              "    .dataframe thead th {\n",
              "        text-align: right;\n",
              "    }\n",
              "</style>\n",
              "<table border=\"1\" class=\"dataframe\">\n",
              "  <thead>\n",
              "    <tr style=\"text-align: right;\">\n",
              "      <th></th>\n",
              "      <th>Name</th>\n",
              "      <th>Genre</th>\n",
              "    </tr>\n",
              "    <tr>\n",
              "      <th>Platform</th>\n",
              "      <th></th>\n",
              "      <th></th>\n",
              "    </tr>\n",
              "  </thead>\n",
              "  <tbody>\n",
              "    <tr>\n",
              "      <th>PC</th>\n",
              "      <td>The Sims 3</td>\n",
              "      <td>Simulation</td>\n",
              "    </tr>\n",
              "    <tr>\n",
              "      <th>PC</th>\n",
              "      <td>World of Warcraft</td>\n",
              "      <td>Role-Playing</td>\n",
              "    </tr>\n",
              "    <tr>\n",
              "      <th>PC</th>\n",
              "      <td>Diablo III</td>\n",
              "      <td>Role-Playing</td>\n",
              "    </tr>\n",
              "    <tr>\n",
              "      <th>PC</th>\n",
              "      <td>StarCraft II: Wings of Liberty</td>\n",
              "      <td>Strategy</td>\n",
              "    </tr>\n",
              "    <tr>\n",
              "      <th>PC</th>\n",
              "      <td>Half-Life</td>\n",
              "      <td>Shooter</td>\n",
              "    </tr>\n",
              "    <tr>\n",
              "      <th>...</th>\n",
              "      <td>...</td>\n",
              "      <td>...</td>\n",
              "    </tr>\n",
              "    <tr>\n",
              "      <th>PS2</th>\n",
              "      <td>Just Cause</td>\n",
              "      <td>Action</td>\n",
              "    </tr>\n",
              "    <tr>\n",
              "      <th>PS2</th>\n",
              "      <td>Metal Slug Anthology</td>\n",
              "      <td>Shooter</td>\n",
              "    </tr>\n",
              "    <tr>\n",
              "      <th>PS2</th>\n",
              "      <td>Greg Hastings Tournament Paintball Maxd</td>\n",
              "      <td>Shooter</td>\n",
              "    </tr>\n",
              "    <tr>\n",
              "      <th>PS2</th>\n",
              "      <td>Micro Machines V4</td>\n",
              "      <td>Racing</td>\n",
              "    </tr>\n",
              "    <tr>\n",
              "      <th>PS2</th>\n",
              "      <td>MetropolisMania 2</td>\n",
              "      <td>Strategy</td>\n",
              "    </tr>\n",
              "  </tbody>\n",
              "</table>\n",
              "<p>1903 rows × 2 columns</p>\n",
              "</div>"
            ],
            "text/plain": [
              "                                             Name         Genre\n",
              "Platform                                                       \n",
              "PC                                     The Sims 3    Simulation\n",
              "PC                              World of Warcraft  Role-Playing\n",
              "PC                                     Diablo III  Role-Playing\n",
              "PC                 StarCraft II: Wings of Liberty      Strategy\n",
              "PC                                      Half-Life       Shooter\n",
              "...                                           ...           ...\n",
              "PS2                                    Just Cause        Action\n",
              "PS2                          Metal Slug Anthology       Shooter\n",
              "PS2       Greg Hastings Tournament Paintball Maxd       Shooter\n",
              "PS2                             Micro Machines V4        Racing\n",
              "PS2                             MetropolisMania 2      Strategy\n",
              "\n",
              "[1903 rows x 2 columns]"
            ]
          },
          "metadata": {
            "tags": []
          },
          "execution_count": 29
        }
      ]
    },
    {
      "cell_type": "code",
      "metadata": {
        "id": "pC3mjE4eFI5C",
        "colab": {
          "base_uri": "https://localhost:8080/",
          "height": 142
        },
        "outputId": "f28d4395-e1ff-4d30-b90d-48eceaeac0ea"
      },
      "source": [
        "#почему выводится вторая колонка? хотим первую\n",
        "data1.iloc[[0,1], [1,2]] \n",
        "#iloc[[rows], [columns]]"
      ],
      "execution_count": null,
      "outputs": [
        {
          "output_type": "execute_result",
          "data": {
            "text/html": [
              "<div>\n",
              "<style scoped>\n",
              "    .dataframe tbody tr th:only-of-type {\n",
              "        vertical-align: middle;\n",
              "    }\n",
              "\n",
              "    .dataframe tbody tr th {\n",
              "        vertical-align: top;\n",
              "    }\n",
              "\n",
              "    .dataframe thead th {\n",
              "        text-align: right;\n",
              "    }\n",
              "</style>\n",
              "<table border=\"1\" class=\"dataframe\">\n",
              "  <thead>\n",
              "    <tr style=\"text-align: right;\">\n",
              "      <th></th>\n",
              "      <th>Year_of_Release</th>\n",
              "      <th>Genre</th>\n",
              "    </tr>\n",
              "    <tr>\n",
              "      <th>Platform</th>\n",
              "      <th></th>\n",
              "      <th></th>\n",
              "    </tr>\n",
              "  </thead>\n",
              "  <tbody>\n",
              "    <tr>\n",
              "      <th>Wii</th>\n",
              "      <td>2006</td>\n",
              "      <td>Sports</td>\n",
              "    </tr>\n",
              "    <tr>\n",
              "      <th>Wii</th>\n",
              "      <td>2008</td>\n",
              "      <td>Racing</td>\n",
              "    </tr>\n",
              "  </tbody>\n",
              "</table>\n",
              "</div>"
            ],
            "text/plain": [
              "          Year_of_Release   Genre\n",
              "Platform                         \n",
              "Wii                  2006  Sports\n",
              "Wii                  2008  Racing"
            ]
          },
          "metadata": {
            "tags": []
          },
          "execution_count": 30
        }
      ]
    },
    {
      "cell_type": "markdown",
      "metadata": {
        "id": "nyt6NGoEGFlV"
      },
      "source": [
        "Как вытянуть одно конкретное значение?"
      ]
    },
    {
      "cell_type": "code",
      "metadata": {
        "id": "2QgmOzB5NQN9",
        "colab": {
          "base_uri": "https://localhost:8080/",
          "height": 35
        },
        "outputId": "11b6151b-5f7b-4cda-fcf4-c00d7da5828d"
      },
      "source": [
        "data.at[2\t, 'Name']"
      ],
      "execution_count": null,
      "outputs": [
        {
          "output_type": "execute_result",
          "data": {
            "application/vnd.google.colaboratory.intrinsic+json": {
              "type": "string"
            },
            "text/plain": [
              "'Mario Kart Wii'"
            ]
          },
          "metadata": {
            "tags": []
          },
          "execution_count": 35
        }
      ]
    },
    {
      "cell_type": "markdown",
      "metadata": {
        "id": "NY1_oMJpQbDM"
      },
      "source": [
        "Колонки + строчки"
      ]
    },
    {
      "cell_type": "code",
      "metadata": {
        "id": "7J_UF579Qc7Y",
        "colab": {
          "base_uri": "https://localhost:8080/",
          "height": 359
        },
        "outputId": "a842603a-8f15-4157-b0a6-0e1b4ab75304"
      },
      "source": [
        "data[:10][[\"Platform\"]]"
      ],
      "execution_count": null,
      "outputs": [
        {
          "output_type": "execute_result",
          "data": {
            "text/html": [
              "<div>\n",
              "<style scoped>\n",
              "    .dataframe tbody tr th:only-of-type {\n",
              "        vertical-align: middle;\n",
              "    }\n",
              "\n",
              "    .dataframe tbody tr th {\n",
              "        vertical-align: top;\n",
              "    }\n",
              "\n",
              "    .dataframe thead th {\n",
              "        text-align: right;\n",
              "    }\n",
              "</style>\n",
              "<table border=\"1\" class=\"dataframe\">\n",
              "  <thead>\n",
              "    <tr style=\"text-align: right;\">\n",
              "      <th></th>\n",
              "      <th>Platform</th>\n",
              "    </tr>\n",
              "  </thead>\n",
              "  <tbody>\n",
              "    <tr>\n",
              "      <th>0</th>\n",
              "      <td>Wii</td>\n",
              "    </tr>\n",
              "    <tr>\n",
              "      <th>1</th>\n",
              "      <td>Wii</td>\n",
              "    </tr>\n",
              "    <tr>\n",
              "      <th>2</th>\n",
              "      <td>Wii</td>\n",
              "    </tr>\n",
              "    <tr>\n",
              "      <th>3</th>\n",
              "      <td>DS</td>\n",
              "    </tr>\n",
              "    <tr>\n",
              "      <th>4</th>\n",
              "      <td>Wii</td>\n",
              "    </tr>\n",
              "    <tr>\n",
              "      <th>5</th>\n",
              "      <td>Wii</td>\n",
              "    </tr>\n",
              "    <tr>\n",
              "      <th>6</th>\n",
              "      <td>DS</td>\n",
              "    </tr>\n",
              "    <tr>\n",
              "      <th>7</th>\n",
              "      <td>Wii</td>\n",
              "    </tr>\n",
              "    <tr>\n",
              "      <th>8</th>\n",
              "      <td>X360</td>\n",
              "    </tr>\n",
              "    <tr>\n",
              "      <th>9</th>\n",
              "      <td>Wii</td>\n",
              "    </tr>\n",
              "  </tbody>\n",
              "</table>\n",
              "</div>"
            ],
            "text/plain": [
              "  Platform\n",
              "0      Wii\n",
              "1      Wii\n",
              "2      Wii\n",
              "3       DS\n",
              "4      Wii\n",
              "5      Wii\n",
              "6       DS\n",
              "7      Wii\n",
              "8     X360\n",
              "9      Wii"
            ]
          },
          "metadata": {
            "tags": []
          },
          "execution_count": 37
        }
      ]
    },
    {
      "cell_type": "markdown",
      "metadata": {
        "id": "AdU3_wYQv4BC"
      },
      "source": [
        "IfElsим!"
      ]
    },
    {
      "cell_type": "code",
      "metadata": {
        "id": "Ccox2prHu1-e",
        "colab": {
          "base_uri": "https://localhost:8080/",
          "height": 204
        },
        "outputId": "11961a62-00fe-422c-a67b-70b099e9024e"
      },
      "source": [
        "import numpy as np\n",
        "\n",
        "data[\"binaryPC_Platform\"] = np.where(data[\"Platform\"] == \"Wii\", 1, 0)\n",
        "data.head()"
      ],
      "execution_count": null,
      "outputs": [
        {
          "output_type": "execute_result",
          "data": {
            "text/html": [
              "<div>\n",
              "<style scoped>\n",
              "    .dataframe tbody tr th:only-of-type {\n",
              "        vertical-align: middle;\n",
              "    }\n",
              "\n",
              "    .dataframe tbody tr th {\n",
              "        vertical-align: top;\n",
              "    }\n",
              "\n",
              "    .dataframe thead th {\n",
              "        text-align: right;\n",
              "    }\n",
              "</style>\n",
              "<table border=\"1\" class=\"dataframe\">\n",
              "  <thead>\n",
              "    <tr style=\"text-align: right;\">\n",
              "      <th></th>\n",
              "      <th>Name</th>\n",
              "      <th>Platform</th>\n",
              "      <th>Year_of_Release</th>\n",
              "      <th>Genre</th>\n",
              "      <th>Publisher</th>\n",
              "      <th>NA_Sales</th>\n",
              "      <th>EU_Sales</th>\n",
              "      <th>JP_Sales</th>\n",
              "      <th>Other_Sales</th>\n",
              "      <th>Global_Sales</th>\n",
              "      <th>Critic_Score</th>\n",
              "      <th>Critic_Count</th>\n",
              "      <th>User_Score</th>\n",
              "      <th>User_Count</th>\n",
              "      <th>Rating</th>\n",
              "      <th>binaryPC_Platform</th>\n",
              "    </tr>\n",
              "  </thead>\n",
              "  <tbody>\n",
              "    <tr>\n",
              "      <th>0</th>\n",
              "      <td>Wii Sports</td>\n",
              "      <td>Wii</td>\n",
              "      <td>2006.0</td>\n",
              "      <td>Sports</td>\n",
              "      <td>Nintendo</td>\n",
              "      <td>41.36</td>\n",
              "      <td>28.96</td>\n",
              "      <td>3.77</td>\n",
              "      <td>8.45</td>\n",
              "      <td>82.54</td>\n",
              "      <td>76.0</td>\n",
              "      <td>51.0</td>\n",
              "      <td>8.0</td>\n",
              "      <td>324.0</td>\n",
              "      <td>E</td>\n",
              "      <td>1</td>\n",
              "    </tr>\n",
              "    <tr>\n",
              "      <th>1</th>\n",
              "      <td>Mario Kart Wii</td>\n",
              "      <td>Wii</td>\n",
              "      <td>2008.0</td>\n",
              "      <td>Racing</td>\n",
              "      <td>Nintendo</td>\n",
              "      <td>15.68</td>\n",
              "      <td>12.80</td>\n",
              "      <td>3.79</td>\n",
              "      <td>3.29</td>\n",
              "      <td>35.57</td>\n",
              "      <td>82.0</td>\n",
              "      <td>73.0</td>\n",
              "      <td>8.3</td>\n",
              "      <td>712.0</td>\n",
              "      <td>E</td>\n",
              "      <td>1</td>\n",
              "    </tr>\n",
              "    <tr>\n",
              "      <th>2</th>\n",
              "      <td>Wii Sports Resort</td>\n",
              "      <td>Wii</td>\n",
              "      <td>2009.0</td>\n",
              "      <td>Sports</td>\n",
              "      <td>Nintendo</td>\n",
              "      <td>15.61</td>\n",
              "      <td>10.95</td>\n",
              "      <td>3.28</td>\n",
              "      <td>2.95</td>\n",
              "      <td>32.78</td>\n",
              "      <td>80.0</td>\n",
              "      <td>73.0</td>\n",
              "      <td>8.0</td>\n",
              "      <td>193.0</td>\n",
              "      <td>E</td>\n",
              "      <td>1</td>\n",
              "    </tr>\n",
              "    <tr>\n",
              "      <th>3</th>\n",
              "      <td>New Super Mario Bros.</td>\n",
              "      <td>DS</td>\n",
              "      <td>2006.0</td>\n",
              "      <td>Platform</td>\n",
              "      <td>Nintendo</td>\n",
              "      <td>11.28</td>\n",
              "      <td>9.15</td>\n",
              "      <td>6.50</td>\n",
              "      <td>2.88</td>\n",
              "      <td>29.81</td>\n",
              "      <td>89.0</td>\n",
              "      <td>65.0</td>\n",
              "      <td>8.5</td>\n",
              "      <td>433.0</td>\n",
              "      <td>E</td>\n",
              "      <td>0</td>\n",
              "    </tr>\n",
              "    <tr>\n",
              "      <th>4</th>\n",
              "      <td>Wii Play</td>\n",
              "      <td>Wii</td>\n",
              "      <td>2006.0</td>\n",
              "      <td>Misc</td>\n",
              "      <td>Nintendo</td>\n",
              "      <td>13.96</td>\n",
              "      <td>9.18</td>\n",
              "      <td>2.93</td>\n",
              "      <td>2.84</td>\n",
              "      <td>28.92</td>\n",
              "      <td>58.0</td>\n",
              "      <td>41.0</td>\n",
              "      <td>6.6</td>\n",
              "      <td>129.0</td>\n",
              "      <td>E</td>\n",
              "      <td>1</td>\n",
              "    </tr>\n",
              "  </tbody>\n",
              "</table>\n",
              "</div>"
            ],
            "text/plain": [
              "                    Name Platform  ...  Rating binaryPC_Platform\n",
              "0             Wii Sports      Wii  ...       E                 1\n",
              "1         Mario Kart Wii      Wii  ...       E                 1\n",
              "2      Wii Sports Resort      Wii  ...       E                 1\n",
              "3  New Super Mario Bros.       DS  ...       E                 0\n",
              "4               Wii Play      Wii  ...       E                 1\n",
              "\n",
              "[5 rows x 16 columns]"
            ]
          },
          "metadata": {
            "tags": []
          },
          "execution_count": 38
        }
      ]
    },
    {
      "cell_type": "code",
      "metadata": {
        "id": "3zm907X4wtbr",
        "colab": {
          "base_uri": "https://localhost:8080/",
          "height": 720
        },
        "outputId": "20e63e4c-e456-4b14-c469-0a071eeb3f2c"
      },
      "source": [
        "data[\"needyear\"] = np.where(data[\"Year_of_Release\"] > 2015, \"i want it\", \"never\")\n",
        "data.head(20)"
      ],
      "execution_count": null,
      "outputs": [
        {
          "output_type": "execute_result",
          "data": {
            "text/html": [
              "<div>\n",
              "<style scoped>\n",
              "    .dataframe tbody tr th:only-of-type {\n",
              "        vertical-align: middle;\n",
              "    }\n",
              "\n",
              "    .dataframe tbody tr th {\n",
              "        vertical-align: top;\n",
              "    }\n",
              "\n",
              "    .dataframe thead th {\n",
              "        text-align: right;\n",
              "    }\n",
              "</style>\n",
              "<table border=\"1\" class=\"dataframe\">\n",
              "  <thead>\n",
              "    <tr style=\"text-align: right;\">\n",
              "      <th></th>\n",
              "      <th>Name</th>\n",
              "      <th>Platform</th>\n",
              "      <th>Year_of_Release</th>\n",
              "      <th>Genre</th>\n",
              "      <th>Publisher</th>\n",
              "      <th>NA_Sales</th>\n",
              "      <th>EU_Sales</th>\n",
              "      <th>JP_Sales</th>\n",
              "      <th>Other_Sales</th>\n",
              "      <th>Global_Sales</th>\n",
              "      <th>Critic_Score</th>\n",
              "      <th>Critic_Count</th>\n",
              "      <th>User_Score</th>\n",
              "      <th>User_Count</th>\n",
              "      <th>Rating</th>\n",
              "      <th>binaryPC_Platform</th>\n",
              "      <th>needyear</th>\n",
              "    </tr>\n",
              "  </thead>\n",
              "  <tbody>\n",
              "    <tr>\n",
              "      <th>0</th>\n",
              "      <td>Wii Sports</td>\n",
              "      <td>Wii</td>\n",
              "      <td>2006.0</td>\n",
              "      <td>Sports</td>\n",
              "      <td>Nintendo</td>\n",
              "      <td>41.36</td>\n",
              "      <td>28.96</td>\n",
              "      <td>3.77</td>\n",
              "      <td>8.45</td>\n",
              "      <td>82.54</td>\n",
              "      <td>76.0</td>\n",
              "      <td>51.0</td>\n",
              "      <td>8.0</td>\n",
              "      <td>324.0</td>\n",
              "      <td>E</td>\n",
              "      <td>1</td>\n",
              "      <td>never</td>\n",
              "    </tr>\n",
              "    <tr>\n",
              "      <th>1</th>\n",
              "      <td>Mario Kart Wii</td>\n",
              "      <td>Wii</td>\n",
              "      <td>2008.0</td>\n",
              "      <td>Racing</td>\n",
              "      <td>Nintendo</td>\n",
              "      <td>15.68</td>\n",
              "      <td>12.80</td>\n",
              "      <td>3.79</td>\n",
              "      <td>3.29</td>\n",
              "      <td>35.57</td>\n",
              "      <td>82.0</td>\n",
              "      <td>73.0</td>\n",
              "      <td>8.3</td>\n",
              "      <td>712.0</td>\n",
              "      <td>E</td>\n",
              "      <td>1</td>\n",
              "      <td>never</td>\n",
              "    </tr>\n",
              "    <tr>\n",
              "      <th>2</th>\n",
              "      <td>Wii Sports Resort</td>\n",
              "      <td>Wii</td>\n",
              "      <td>2009.0</td>\n",
              "      <td>Sports</td>\n",
              "      <td>Nintendo</td>\n",
              "      <td>15.61</td>\n",
              "      <td>10.95</td>\n",
              "      <td>3.28</td>\n",
              "      <td>2.95</td>\n",
              "      <td>32.78</td>\n",
              "      <td>80.0</td>\n",
              "      <td>73.0</td>\n",
              "      <td>8.0</td>\n",
              "      <td>193.0</td>\n",
              "      <td>E</td>\n",
              "      <td>1</td>\n",
              "      <td>never</td>\n",
              "    </tr>\n",
              "    <tr>\n",
              "      <th>3</th>\n",
              "      <td>New Super Mario Bros.</td>\n",
              "      <td>DS</td>\n",
              "      <td>2006.0</td>\n",
              "      <td>Platform</td>\n",
              "      <td>Nintendo</td>\n",
              "      <td>11.28</td>\n",
              "      <td>9.15</td>\n",
              "      <td>6.50</td>\n",
              "      <td>2.88</td>\n",
              "      <td>29.81</td>\n",
              "      <td>89.0</td>\n",
              "      <td>65.0</td>\n",
              "      <td>8.5</td>\n",
              "      <td>433.0</td>\n",
              "      <td>E</td>\n",
              "      <td>0</td>\n",
              "      <td>never</td>\n",
              "    </tr>\n",
              "    <tr>\n",
              "      <th>4</th>\n",
              "      <td>Wii Play</td>\n",
              "      <td>Wii</td>\n",
              "      <td>2006.0</td>\n",
              "      <td>Misc</td>\n",
              "      <td>Nintendo</td>\n",
              "      <td>13.96</td>\n",
              "      <td>9.18</td>\n",
              "      <td>2.93</td>\n",
              "      <td>2.84</td>\n",
              "      <td>28.92</td>\n",
              "      <td>58.0</td>\n",
              "      <td>41.0</td>\n",
              "      <td>6.6</td>\n",
              "      <td>129.0</td>\n",
              "      <td>E</td>\n",
              "      <td>1</td>\n",
              "      <td>never</td>\n",
              "    </tr>\n",
              "    <tr>\n",
              "      <th>5</th>\n",
              "      <td>New Super Mario Bros. Wii</td>\n",
              "      <td>Wii</td>\n",
              "      <td>2009.0</td>\n",
              "      <td>Platform</td>\n",
              "      <td>Nintendo</td>\n",
              "      <td>14.48</td>\n",
              "      <td>6.95</td>\n",
              "      <td>4.70</td>\n",
              "      <td>2.25</td>\n",
              "      <td>28.38</td>\n",
              "      <td>87.0</td>\n",
              "      <td>80.0</td>\n",
              "      <td>8.4</td>\n",
              "      <td>595.0</td>\n",
              "      <td>E</td>\n",
              "      <td>1</td>\n",
              "      <td>never</td>\n",
              "    </tr>\n",
              "    <tr>\n",
              "      <th>6</th>\n",
              "      <td>Mario Kart DS</td>\n",
              "      <td>DS</td>\n",
              "      <td>2005.0</td>\n",
              "      <td>Racing</td>\n",
              "      <td>Nintendo</td>\n",
              "      <td>9.71</td>\n",
              "      <td>7.48</td>\n",
              "      <td>4.13</td>\n",
              "      <td>1.90</td>\n",
              "      <td>23.22</td>\n",
              "      <td>91.0</td>\n",
              "      <td>64.0</td>\n",
              "      <td>8.6</td>\n",
              "      <td>465.0</td>\n",
              "      <td>E</td>\n",
              "      <td>0</td>\n",
              "      <td>never</td>\n",
              "    </tr>\n",
              "    <tr>\n",
              "      <th>7</th>\n",
              "      <td>Wii Fit</td>\n",
              "      <td>Wii</td>\n",
              "      <td>2007.0</td>\n",
              "      <td>Sports</td>\n",
              "      <td>Nintendo</td>\n",
              "      <td>8.92</td>\n",
              "      <td>8.03</td>\n",
              "      <td>3.60</td>\n",
              "      <td>2.15</td>\n",
              "      <td>22.70</td>\n",
              "      <td>80.0</td>\n",
              "      <td>63.0</td>\n",
              "      <td>7.7</td>\n",
              "      <td>146.0</td>\n",
              "      <td>E</td>\n",
              "      <td>1</td>\n",
              "      <td>never</td>\n",
              "    </tr>\n",
              "    <tr>\n",
              "      <th>8</th>\n",
              "      <td>Kinect Adventures!</td>\n",
              "      <td>X360</td>\n",
              "      <td>2010.0</td>\n",
              "      <td>Misc</td>\n",
              "      <td>Microsoft Game Studios</td>\n",
              "      <td>15.02</td>\n",
              "      <td>4.91</td>\n",
              "      <td>0.24</td>\n",
              "      <td>1.69</td>\n",
              "      <td>21.86</td>\n",
              "      <td>61.0</td>\n",
              "      <td>45.0</td>\n",
              "      <td>6.3</td>\n",
              "      <td>106.0</td>\n",
              "      <td>E</td>\n",
              "      <td>0</td>\n",
              "      <td>never</td>\n",
              "    </tr>\n",
              "    <tr>\n",
              "      <th>9</th>\n",
              "      <td>Wii Fit Plus</td>\n",
              "      <td>Wii</td>\n",
              "      <td>2009.0</td>\n",
              "      <td>Sports</td>\n",
              "      <td>Nintendo</td>\n",
              "      <td>9.01</td>\n",
              "      <td>8.49</td>\n",
              "      <td>2.53</td>\n",
              "      <td>1.77</td>\n",
              "      <td>21.79</td>\n",
              "      <td>80.0</td>\n",
              "      <td>33.0</td>\n",
              "      <td>7.4</td>\n",
              "      <td>52.0</td>\n",
              "      <td>E</td>\n",
              "      <td>1</td>\n",
              "      <td>never</td>\n",
              "    </tr>\n",
              "    <tr>\n",
              "      <th>10</th>\n",
              "      <td>Grand Theft Auto V</td>\n",
              "      <td>PS3</td>\n",
              "      <td>2013.0</td>\n",
              "      <td>Action</td>\n",
              "      <td>Take-Two Interactive</td>\n",
              "      <td>7.02</td>\n",
              "      <td>9.14</td>\n",
              "      <td>0.98</td>\n",
              "      <td>3.97</td>\n",
              "      <td>21.12</td>\n",
              "      <td>97.0</td>\n",
              "      <td>50.0</td>\n",
              "      <td>8.2</td>\n",
              "      <td>4009.0</td>\n",
              "      <td>M</td>\n",
              "      <td>0</td>\n",
              "      <td>never</td>\n",
              "    </tr>\n",
              "    <tr>\n",
              "      <th>11</th>\n",
              "      <td>Grand Theft Auto: San Andreas</td>\n",
              "      <td>PS2</td>\n",
              "      <td>2004.0</td>\n",
              "      <td>Action</td>\n",
              "      <td>Take-Two Interactive</td>\n",
              "      <td>9.43</td>\n",
              "      <td>0.40</td>\n",
              "      <td>0.41</td>\n",
              "      <td>10.57</td>\n",
              "      <td>20.81</td>\n",
              "      <td>95.0</td>\n",
              "      <td>80.0</td>\n",
              "      <td>9.0</td>\n",
              "      <td>1606.0</td>\n",
              "      <td>M</td>\n",
              "      <td>0</td>\n",
              "      <td>never</td>\n",
              "    </tr>\n",
              "    <tr>\n",
              "      <th>12</th>\n",
              "      <td>Brain Age: Train Your Brain in Minutes a Day</td>\n",
              "      <td>DS</td>\n",
              "      <td>2005.0</td>\n",
              "      <td>Misc</td>\n",
              "      <td>Nintendo</td>\n",
              "      <td>4.74</td>\n",
              "      <td>9.20</td>\n",
              "      <td>4.16</td>\n",
              "      <td>2.04</td>\n",
              "      <td>20.15</td>\n",
              "      <td>77.0</td>\n",
              "      <td>58.0</td>\n",
              "      <td>7.9</td>\n",
              "      <td>50.0</td>\n",
              "      <td>E</td>\n",
              "      <td>0</td>\n",
              "      <td>never</td>\n",
              "    </tr>\n",
              "    <tr>\n",
              "      <th>13</th>\n",
              "      <td>Grand Theft Auto V</td>\n",
              "      <td>X360</td>\n",
              "      <td>2013.0</td>\n",
              "      <td>Action</td>\n",
              "      <td>Take-Two Interactive</td>\n",
              "      <td>9.66</td>\n",
              "      <td>5.17</td>\n",
              "      <td>0.06</td>\n",
              "      <td>1.41</td>\n",
              "      <td>16.30</td>\n",
              "      <td>97.0</td>\n",
              "      <td>58.0</td>\n",
              "      <td>8.1</td>\n",
              "      <td>3722.0</td>\n",
              "      <td>M</td>\n",
              "      <td>0</td>\n",
              "      <td>never</td>\n",
              "    </tr>\n",
              "    <tr>\n",
              "      <th>14</th>\n",
              "      <td>Grand Theft Auto: Vice City</td>\n",
              "      <td>PS2</td>\n",
              "      <td>2002.0</td>\n",
              "      <td>Action</td>\n",
              "      <td>Take-Two Interactive</td>\n",
              "      <td>8.41</td>\n",
              "      <td>5.49</td>\n",
              "      <td>0.47</td>\n",
              "      <td>1.78</td>\n",
              "      <td>16.15</td>\n",
              "      <td>95.0</td>\n",
              "      <td>62.0</td>\n",
              "      <td>8.7</td>\n",
              "      <td>736.0</td>\n",
              "      <td>M</td>\n",
              "      <td>0</td>\n",
              "      <td>never</td>\n",
              "    </tr>\n",
              "    <tr>\n",
              "      <th>15</th>\n",
              "      <td>Brain Age 2: More Training in Minutes a Day</td>\n",
              "      <td>DS</td>\n",
              "      <td>2005.0</td>\n",
              "      <td>Puzzle</td>\n",
              "      <td>Nintendo</td>\n",
              "      <td>3.43</td>\n",
              "      <td>5.35</td>\n",
              "      <td>5.32</td>\n",
              "      <td>1.18</td>\n",
              "      <td>15.29</td>\n",
              "      <td>77.0</td>\n",
              "      <td>37.0</td>\n",
              "      <td>7.1</td>\n",
              "      <td>19.0</td>\n",
              "      <td>E</td>\n",
              "      <td>0</td>\n",
              "      <td>never</td>\n",
              "    </tr>\n",
              "    <tr>\n",
              "      <th>16</th>\n",
              "      <td>Gran Turismo 3: A-Spec</td>\n",
              "      <td>PS2</td>\n",
              "      <td>2001.0</td>\n",
              "      <td>Racing</td>\n",
              "      <td>Sony Computer Entertainment</td>\n",
              "      <td>6.85</td>\n",
              "      <td>5.09</td>\n",
              "      <td>1.87</td>\n",
              "      <td>1.16</td>\n",
              "      <td>14.98</td>\n",
              "      <td>95.0</td>\n",
              "      <td>54.0</td>\n",
              "      <td>8.4</td>\n",
              "      <td>314.0</td>\n",
              "      <td>E</td>\n",
              "      <td>0</td>\n",
              "      <td>never</td>\n",
              "    </tr>\n",
              "    <tr>\n",
              "      <th>17</th>\n",
              "      <td>Call of Duty: Modern Warfare 3</td>\n",
              "      <td>X360</td>\n",
              "      <td>2011.0</td>\n",
              "      <td>Shooter</td>\n",
              "      <td>Activision</td>\n",
              "      <td>9.06</td>\n",
              "      <td>4.26</td>\n",
              "      <td>0.13</td>\n",
              "      <td>1.33</td>\n",
              "      <td>14.77</td>\n",
              "      <td>88.0</td>\n",
              "      <td>81.0</td>\n",
              "      <td>3.4</td>\n",
              "      <td>8715.0</td>\n",
              "      <td>M</td>\n",
              "      <td>0</td>\n",
              "      <td>never</td>\n",
              "    </tr>\n",
              "    <tr>\n",
              "      <th>18</th>\n",
              "      <td>Call of Duty: Black Ops</td>\n",
              "      <td>X360</td>\n",
              "      <td>2010.0</td>\n",
              "      <td>Shooter</td>\n",
              "      <td>Activision</td>\n",
              "      <td>9.73</td>\n",
              "      <td>3.70</td>\n",
              "      <td>0.11</td>\n",
              "      <td>1.13</td>\n",
              "      <td>14.67</td>\n",
              "      <td>87.0</td>\n",
              "      <td>89.0</td>\n",
              "      <td>6.3</td>\n",
              "      <td>1456.0</td>\n",
              "      <td>M</td>\n",
              "      <td>0</td>\n",
              "      <td>never</td>\n",
              "    </tr>\n",
              "    <tr>\n",
              "      <th>19</th>\n",
              "      <td>Call of Duty: Black Ops II</td>\n",
              "      <td>PS3</td>\n",
              "      <td>2012.0</td>\n",
              "      <td>Shooter</td>\n",
              "      <td>Activision</td>\n",
              "      <td>4.99</td>\n",
              "      <td>5.73</td>\n",
              "      <td>0.65</td>\n",
              "      <td>2.42</td>\n",
              "      <td>13.79</td>\n",
              "      <td>83.0</td>\n",
              "      <td>21.0</td>\n",
              "      <td>5.3</td>\n",
              "      <td>921.0</td>\n",
              "      <td>M</td>\n",
              "      <td>0</td>\n",
              "      <td>never</td>\n",
              "    </tr>\n",
              "  </tbody>\n",
              "</table>\n",
              "</div>"
            ],
            "text/plain": [
              "                                            Name  ... needyear\n",
              "0                                     Wii Sports  ...    never\n",
              "1                                 Mario Kart Wii  ...    never\n",
              "2                              Wii Sports Resort  ...    never\n",
              "3                          New Super Mario Bros.  ...    never\n",
              "4                                       Wii Play  ...    never\n",
              "5                      New Super Mario Bros. Wii  ...    never\n",
              "6                                  Mario Kart DS  ...    never\n",
              "7                                        Wii Fit  ...    never\n",
              "8                             Kinect Adventures!  ...    never\n",
              "9                                   Wii Fit Plus  ...    never\n",
              "10                            Grand Theft Auto V  ...    never\n",
              "11                 Grand Theft Auto: San Andreas  ...    never\n",
              "12  Brain Age: Train Your Brain in Minutes a Day  ...    never\n",
              "13                            Grand Theft Auto V  ...    never\n",
              "14                   Grand Theft Auto: Vice City  ...    never\n",
              "15   Brain Age 2: More Training in Minutes a Day  ...    never\n",
              "16                        Gran Turismo 3: A-Spec  ...    never\n",
              "17                Call of Duty: Modern Warfare 3  ...    never\n",
              "18                       Call of Duty: Black Ops  ...    never\n",
              "19                    Call of Duty: Black Ops II  ...    never\n",
              "\n",
              "[20 rows x 17 columns]"
            ]
          },
          "metadata": {
            "tags": []
          },
          "execution_count": 43
        }
      ]
    },
    {
      "cell_type": "markdown",
      "metadata": {
        "id": "3M_-iI1bE2lI"
      },
      "source": [
        "## linear regression"
      ]
    },
    {
      "cell_type": "markdown",
      "metadata": {
        "id": "RggzD838oEUl"
      },
      "source": [
        "![lin.jpg](data:image/jpeg;base64,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)"
      ]
    },
    {
      "cell_type": "code",
      "metadata": {
        "id": "gIPIBdxLJORL",
        "colab": {
          "base_uri": "https://localhost:8080/",
          "height": 204
        },
        "outputId": "25a6a083-7c3b-40e9-a51c-702deea13095"
      },
      "source": [
        "#всегда дропать уникальные колонки\n",
        "#data = data.drop('Name', axis = 1) #как уникальную\n",
        "#data = data.drop(['Platform', 'Genre', 'Publisher'], axis = 1) #просто не особо нужны, разберем на примере одной колонки как работать с категориями\n",
        "#data.columns\n",
        "data.tail()"
      ],
      "execution_count": null,
      "outputs": [
        {
          "output_type": "execute_result",
          "data": {
            "text/html": [
              "<div>\n",
              "<style scoped>\n",
              "    .dataframe tbody tr th:only-of-type {\n",
              "        vertical-align: middle;\n",
              "    }\n",
              "\n",
              "    .dataframe tbody tr th {\n",
              "        vertical-align: top;\n",
              "    }\n",
              "\n",
              "    .dataframe thead th {\n",
              "        text-align: right;\n",
              "    }\n",
              "</style>\n",
              "<table border=\"1\" class=\"dataframe\">\n",
              "  <thead>\n",
              "    <tr style=\"text-align: right;\">\n",
              "      <th></th>\n",
              "      <th>Year_of_Release</th>\n",
              "      <th>NA_Sales</th>\n",
              "      <th>EU_Sales</th>\n",
              "      <th>JP_Sales</th>\n",
              "      <th>Other_Sales</th>\n",
              "      <th>Global_Sales</th>\n",
              "      <th>Critic_Score</th>\n",
              "      <th>Critic_Count</th>\n",
              "      <th>User_Score</th>\n",
              "      <th>User_Count</th>\n",
              "      <th>Rating</th>\n",
              "    </tr>\n",
              "  </thead>\n",
              "  <tbody>\n",
              "    <tr>\n",
              "      <th>7107</th>\n",
              "      <td>2003</td>\n",
              "      <td>0.0</td>\n",
              "      <td>0.0</td>\n",
              "      <td>0.0</td>\n",
              "      <td>0.0</td>\n",
              "      <td>0.01</td>\n",
              "      <td>91.0</td>\n",
              "      <td>20.0</td>\n",
              "      <td>8.5</td>\n",
              "      <td>291.0</td>\n",
              "      <td>T</td>\n",
              "    </tr>\n",
              "    <tr>\n",
              "      <th>7108</th>\n",
              "      <td>2007</td>\n",
              "      <td>0.0</td>\n",
              "      <td>0.0</td>\n",
              "      <td>0.0</td>\n",
              "      <td>0.0</td>\n",
              "      <td>0.01</td>\n",
              "      <td>60.0</td>\n",
              "      <td>20.0</td>\n",
              "      <td>4.9</td>\n",
              "      <td>42.0</td>\n",
              "      <td>T</td>\n",
              "    </tr>\n",
              "    <tr>\n",
              "      <th>7109</th>\n",
              "      <td>2009</td>\n",
              "      <td>0.0</td>\n",
              "      <td>0.0</td>\n",
              "      <td>0.0</td>\n",
              "      <td>0.0</td>\n",
              "      <td>0.01</td>\n",
              "      <td>68.0</td>\n",
              "      <td>8.0</td>\n",
              "      <td>6.5</td>\n",
              "      <td>19.0</td>\n",
              "      <td>E</td>\n",
              "    </tr>\n",
              "    <tr>\n",
              "      <th>7110</th>\n",
              "      <td>2006</td>\n",
              "      <td>0.0</td>\n",
              "      <td>0.0</td>\n",
              "      <td>0.0</td>\n",
              "      <td>0.0</td>\n",
              "      <td>0.01</td>\n",
              "      <td>67.0</td>\n",
              "      <td>46.0</td>\n",
              "      <td>6.9</td>\n",
              "      <td>32.0</td>\n",
              "      <td>E10+</td>\n",
              "    </tr>\n",
              "    <tr>\n",
              "      <th>7111</th>\n",
              "      <td>2016</td>\n",
              "      <td>0.0</td>\n",
              "      <td>0.0</td>\n",
              "      <td>0.0</td>\n",
              "      <td>0.0</td>\n",
              "      <td>0.01</td>\n",
              "      <td>85.0</td>\n",
              "      <td>7.0</td>\n",
              "      <td>7.0</td>\n",
              "      <td>114.0</td>\n",
              "      <td>T</td>\n",
              "    </tr>\n",
              "  </tbody>\n",
              "</table>\n",
              "</div>"
            ],
            "text/plain": [
              "      Year_of_Release  NA_Sales  EU_Sales  ...  User_Score  User_Count  Rating\n",
              "7107             2003       0.0       0.0  ...         8.5       291.0       T\n",
              "7108             2007       0.0       0.0  ...         4.9        42.0       T\n",
              "7109             2009       0.0       0.0  ...         6.5        19.0       E\n",
              "7110             2006       0.0       0.0  ...         6.9        32.0    E10+\n",
              "7111             2016       0.0       0.0  ...         7.0       114.0       T\n",
              "\n",
              "[5 rows x 11 columns]"
            ]
          },
          "metadata": {
            "tags": []
          },
          "execution_count": 55
        }
      ]
    },
    {
      "cell_type": "markdown",
      "metadata": {
        "id": "0DyumHIDTAOP"
      },
      "source": [
        "что нам делать с категориальными переменными? ведь в питоне нет факторов"
      ]
    },
    {
      "cell_type": "code",
      "metadata": {
        "id": "pkR_yJXXT8l5",
        "colab": {
          "base_uri": "https://localhost:8080/"
        },
        "outputId": "5875a3dc-93ea-44b0-db73-bbbd93a6abac"
      },
      "source": [
        "data[\"Rating\"].value_counts()"
      ],
      "execution_count": null,
      "outputs": [
        {
          "output_type": "execute_result",
          "data": {
            "text/plain": [
              "T       2489\n",
              "E       2162\n",
              "M       1489\n",
              "E10+     968\n",
              "RP         2\n",
              "AO         1\n",
              "K-A        1\n",
              "Name: Rating, dtype: int64"
            ]
          },
          "metadata": {
            "tags": []
          },
          "execution_count": 51
        }
      ]
    },
    {
      "cell_type": "code",
      "metadata": {
        "id": "dR5T2AgNRdxp"
      },
      "source": [
        "X = data[['Year_of_Release', 'NA_Sales', 'EU_Sales', 'JP_Sales', 'Other_Sales',\n",
        "       'Global_Sales', 'Critic_Score', 'Critic_Count', 'User_Score',\n",
        "       'User_Count', 'Rating']]"
      ],
      "execution_count": null,
      "outputs": []
    },
    {
      "cell_type": "code",
      "metadata": {
        "id": "bC_CYBZsRi7V",
        "colab": {
          "base_uri": "https://localhost:8080/",
          "height": 204
        },
        "outputId": "8fb7dda3-33aa-439b-ace2-48e4ba5c4a5f"
      },
      "source": [
        "X = pd.get_dummies(data=X, drop_first=True)\n",
        "X.tail()"
      ],
      "execution_count": null,
      "outputs": [
        {
          "output_type": "execute_result",
          "data": {
            "text/html": [
              "<div>\n",
              "<style scoped>\n",
              "    .dataframe tbody tr th:only-of-type {\n",
              "        vertical-align: middle;\n",
              "    }\n",
              "\n",
              "    .dataframe tbody tr th {\n",
              "        vertical-align: top;\n",
              "    }\n",
              "\n",
              "    .dataframe thead th {\n",
              "        text-align: right;\n",
              "    }\n",
              "</style>\n",
              "<table border=\"1\" class=\"dataframe\">\n",
              "  <thead>\n",
              "    <tr style=\"text-align: right;\">\n",
              "      <th></th>\n",
              "      <th>Year_of_Release</th>\n",
              "      <th>NA_Sales</th>\n",
              "      <th>EU_Sales</th>\n",
              "      <th>JP_Sales</th>\n",
              "      <th>Other_Sales</th>\n",
              "      <th>Global_Sales</th>\n",
              "      <th>Critic_Score</th>\n",
              "      <th>Critic_Count</th>\n",
              "      <th>User_Score</th>\n",
              "      <th>User_Count</th>\n",
              "      <th>Rating_E</th>\n",
              "      <th>Rating_E10+</th>\n",
              "      <th>Rating_K-A</th>\n",
              "      <th>Rating_M</th>\n",
              "      <th>Rating_RP</th>\n",
              "      <th>Rating_T</th>\n",
              "    </tr>\n",
              "  </thead>\n",
              "  <tbody>\n",
              "    <tr>\n",
              "      <th>7107</th>\n",
              "      <td>2003</td>\n",
              "      <td>0.0</td>\n",
              "      <td>0.0</td>\n",
              "      <td>0.0</td>\n",
              "      <td>0.0</td>\n",
              "      <td>0.01</td>\n",
              "      <td>91.0</td>\n",
              "      <td>20.0</td>\n",
              "      <td>8.5</td>\n",
              "      <td>291.0</td>\n",
              "      <td>0</td>\n",
              "      <td>0</td>\n",
              "      <td>0</td>\n",
              "      <td>0</td>\n",
              "      <td>0</td>\n",
              "      <td>1</td>\n",
              "    </tr>\n",
              "    <tr>\n",
              "      <th>7108</th>\n",
              "      <td>2007</td>\n",
              "      <td>0.0</td>\n",
              "      <td>0.0</td>\n",
              "      <td>0.0</td>\n",
              "      <td>0.0</td>\n",
              "      <td>0.01</td>\n",
              "      <td>60.0</td>\n",
              "      <td>20.0</td>\n",
              "      <td>4.9</td>\n",
              "      <td>42.0</td>\n",
              "      <td>0</td>\n",
              "      <td>0</td>\n",
              "      <td>0</td>\n",
              "      <td>0</td>\n",
              "      <td>0</td>\n",
              "      <td>1</td>\n",
              "    </tr>\n",
              "    <tr>\n",
              "      <th>7109</th>\n",
              "      <td>2009</td>\n",
              "      <td>0.0</td>\n",
              "      <td>0.0</td>\n",
              "      <td>0.0</td>\n",
              "      <td>0.0</td>\n",
              "      <td>0.01</td>\n",
              "      <td>68.0</td>\n",
              "      <td>8.0</td>\n",
              "      <td>6.5</td>\n",
              "      <td>19.0</td>\n",
              "      <td>1</td>\n",
              "      <td>0</td>\n",
              "      <td>0</td>\n",
              "      <td>0</td>\n",
              "      <td>0</td>\n",
              "      <td>0</td>\n",
              "    </tr>\n",
              "    <tr>\n",
              "      <th>7110</th>\n",
              "      <td>2006</td>\n",
              "      <td>0.0</td>\n",
              "      <td>0.0</td>\n",
              "      <td>0.0</td>\n",
              "      <td>0.0</td>\n",
              "      <td>0.01</td>\n",
              "      <td>67.0</td>\n",
              "      <td>46.0</td>\n",
              "      <td>6.9</td>\n",
              "      <td>32.0</td>\n",
              "      <td>0</td>\n",
              "      <td>1</td>\n",
              "      <td>0</td>\n",
              "      <td>0</td>\n",
              "      <td>0</td>\n",
              "      <td>0</td>\n",
              "    </tr>\n",
              "    <tr>\n",
              "      <th>7111</th>\n",
              "      <td>2016</td>\n",
              "      <td>0.0</td>\n",
              "      <td>0.0</td>\n",
              "      <td>0.0</td>\n",
              "      <td>0.0</td>\n",
              "      <td>0.01</td>\n",
              "      <td>85.0</td>\n",
              "      <td>7.0</td>\n",
              "      <td>7.0</td>\n",
              "      <td>114.0</td>\n",
              "      <td>0</td>\n",
              "      <td>0</td>\n",
              "      <td>0</td>\n",
              "      <td>0</td>\n",
              "      <td>0</td>\n",
              "      <td>1</td>\n",
              "    </tr>\n",
              "  </tbody>\n",
              "</table>\n",
              "</div>"
            ],
            "text/plain": [
              "      Year_of_Release  NA_Sales  EU_Sales  ...  Rating_M  Rating_RP  Rating_T\n",
              "7107             2003       0.0       0.0  ...         0          0         1\n",
              "7108             2007       0.0       0.0  ...         0          0         1\n",
              "7109             2009       0.0       0.0  ...         0          0         0\n",
              "7110             2006       0.0       0.0  ...         0          0         0\n",
              "7111             2016       0.0       0.0  ...         0          0         1\n",
              "\n",
              "[5 rows x 16 columns]"
            ]
          },
          "metadata": {
            "tags": []
          },
          "execution_count": 53
        }
      ]
    },
    {
      "cell_type": "markdown",
      "metadata": {
        "id": "J4nNpVKZTJOD"
      },
      "source": [
        "два варианта: \n",
        "\n",
        "\n",
        "1.   превратить в дамми/бинарную https://pandas.pydata.org/pandas-docs/stable/reference/api/pandas.get_dummies.html\n",
        "2.   кодирование лейблов https://scikit-learn.org/stable/modules/generated/sklearn.preprocessing.LabelEncoder.html\n",
        "\n"
      ]
    },
    {
      "cell_type": "code",
      "metadata": {
        "id": "COI9_lbrHTuE"
      },
      "source": [
        "y = data[\"Global_Sales\"]"
      ],
      "execution_count": null,
      "outputs": []
    },
    {
      "cell_type": "code",
      "metadata": {
        "id": "-WvFvLdOR5pG"
      },
      "source": [
        "import matplotlib.pyplot as plt \n",
        "import numpy as np \n",
        "from sklearn import datasets, linear_model, metrics "
      ],
      "execution_count": null,
      "outputs": []
    },
    {
      "cell_type": "code",
      "metadata": {
        "id": "JwoMHI1nIlS_"
      },
      "source": [
        "# splitting X and y into training and testing sets \n",
        "from sklearn.model_selection import train_test_split \n",
        "X_train, X_test, y_train, y_test = train_test_split(X, y, test_size=0.4, #40% тестовой выборки\n",
        "                                                    random_state=2020) #set.seed()\n",
        "  \n",
        "# create linear regression object \n",
        "reg = linear_model.LinearRegression() "
      ],
      "execution_count": null,
      "outputs": []
    },
    {
      "cell_type": "code",
      "metadata": {
        "id": "rrEfpSfYI2Pg",
        "colab": {
          "base_uri": "https://localhost:8080/"
        },
        "outputId": "c169ee7f-211d-465b-ee1c-8fcf9c1ba832"
      },
      "source": [
        "# train the model using the training sets \n",
        "reg.fit(X_train, y_train) "
      ],
      "execution_count": null,
      "outputs": [
        {
          "output_type": "execute_result",
          "data": {
            "text/plain": [
              "LinearRegression(copy_X=True, fit_intercept=True, n_jobs=None, normalize=False)"
            ]
          },
          "metadata": {
            "tags": []
          },
          "execution_count": 62
        }
      ]
    },
    {
      "cell_type": "code",
      "metadata": {
        "id": "O1YTJnBFmGZW",
        "colab": {
          "base_uri": "https://localhost:8080/"
        },
        "outputId": "7e9264d1-a75c-49b1-be1d-ae236b8c8d71"
      },
      "source": [
        "#predict\n",
        "y_predicted = reg.predict(X_test)\n",
        "\n",
        "# printing values\n",
        "print('Slope:' ,reg.coef_)\n",
        "print('Intercept:', reg.intercept_)"
      ],
      "execution_count": null,
      "outputs": [
        {
          "output_type": "stream",
          "text": [
            "Slope: [ 5.62227744e-17  8.35458276e-14  8.06955171e-14  8.47613163e-14\n",
            "  7.83900907e-14  1.00000000e+00 -9.27786951e-17  2.32917120e-17\n",
            "  2.47634529e-16 -2.40557357e-16  1.16945869e-16 -1.98533353e-16\n",
            " -8.04911693e-16 -8.98825174e-17  1.71934346e-16  1.80320556e-16]\n",
            "Intercept: -6.517009154549669e-14\n"
          ],
          "name": "stdout"
        }
      ]
    },
    {
      "cell_type": "code",
      "metadata": {
        "id": "MHsLMPev50RA",
        "colab": {
          "base_uri": "https://localhost:8080/"
        },
        "outputId": "65420e61-243d-4432-e5e7-977c50bfc9b3"
      },
      "source": [
        "from sklearn import metrics\n",
        "print('Mean Absolute Error:', metrics.mean_absolute_error(y_test, y_predicted))\n",
        "print('Mean Squared Error:', metrics.mean_squared_error(y_test, y_predicted))\n",
        "print('Root Mean Squared Error:', np.sqrt(metrics.mean_squared_error(y_test, y_predicted)))"
      ],
      "execution_count": null,
      "outputs": [
        {
          "output_type": "stream",
          "text": [
            "Mean Absolute Error: 5.461464126091596e-14\n",
            "Mean Squared Error: 1.5202619125666972e-26\n",
            "Root Mean Squared Error: 1.232989015590446e-13\n"
          ],
          "name": "stdout"
        }
      ]
    },
    {
      "cell_type": "code",
      "metadata": {
        "id": "C9dadpbaI7z3",
        "colab": {
          "base_uri": "https://localhost:8080/",
          "height": 303
        },
        "outputId": "5e1a7b2d-9656-429a-fdc5-23610d86d7df"
      },
      "source": [
        "# plot for residual error \n",
        "  \n",
        "## setting plot style \n",
        "plt.style.use('fivethirtyeight') \n",
        "  \n",
        "## plotting residual errors in training data \n",
        "plt.scatter(reg.predict(X_train), reg.predict(X_train) - y_train, \n",
        "            color = \"green\", s = 10, label = 'Train data') \n",
        "\n",
        "## plotting residual errors in test data \n",
        "plt.scatter(reg.predict(X_test), reg.predict(X_test) - y_test, \n",
        "            color = \"blue\", s = 10, label = 'Test data') \n",
        "  \n",
        "## plotting line for zero residual error \n",
        "plt.hlines(y = 0, xmin = 0, xmax = 50, linewidth = 2) \n",
        "  \n",
        "## plotting legend \n",
        "plt.legend(loc = 'upper right') \n",
        "  \n",
        "## plot title \n",
        "plt.title(\"Residual errors\") \n",
        "  \n",
        "## function to show plot \n",
        "plt.show() "
      ],
      "execution_count": null,
      "outputs": [
        {
          "output_type": "display_data",
          "data": {
            "image/png": "[encoded data removed]",
            "text/plain": [
              "<Figure size 432x288 with 1 Axes>"
            ]
          },
          "metadata": {
            "tags": []
          }
        }
      ]
    },
    {
      "cell_type": "markdown",
      "metadata": {
        "id": "Kecsj1hZwHzA"
      },
      "source": [
        "https://www.statsmodels.org/stable/index.html"
      ]
    },
    {
      "cell_type": "code",
      "metadata": {
        "id": "u7ME0Y2-uHPj",
        "colab": {
          "base_uri": "https://localhost:8080/",
          "height": 806
        },
        "outputId": "4ee4f7c6-1783-4553-d427-7debe11fa25c"
      },
      "source": [
        "import statsmodels.api as sm\n",
        "model = sm.OLS(y, X)\n",
        "results = model.fit()\n",
        "results.summary()"
      ],
      "execution_count": null,
      "outputs": [
        {
          "output_type": "stream",
          "text": [
            "/usr/local/lib/python3.6/dist-packages/statsmodels/tools/_testing.py:19: FutureWarning: pandas.util.testing is deprecated. Use the functions in the public API at pandas.testing instead.\n",
            "  import pandas.util.testing as tm\n"
          ],
          "name": "stderr"
        },
        {
          "output_type": "execute_result",
          "data": {
            "text/html": [
              "<table class=\"simpletable\">\n",
              "<caption>OLS Regression Results</caption>\n",
              "<tr>\n",
              "  <th>Dep. Variable:</th>      <td>Global_Sales</td>   <th>  R-squared (uncentered):</th>       <td>   1.000</td> \n",
              "</tr>\n",
              "<tr>\n",
              "  <th>Model:</th>                   <td>OLS</td>       <th>  Adj. R-squared (uncentered):</th>  <td>   1.000</td> \n",
              "</tr>\n",
              "<tr>\n",
              "  <th>Method:</th>             <td>Least Squares</td>  <th>  F-statistic:       </th>           <td>5.904e+30</td>\n",
              "</tr>\n",
              "<tr>\n",
              "  <th>Date:</th>             <td>Sat, 14 Nov 2020</td> <th>  Prob (F-statistic):</th>            <td>  0.00</td>  \n",
              "</tr>\n",
              "<tr>\n",
              "  <th>Time:</th>                 <td>10:53:28</td>     <th>  Log-Likelihood:    </th>          <td>2.1497e+05</td>\n",
              "</tr>\n",
              "<tr>\n",
              "  <th>No. Observations:</th>      <td>  7112</td>      <th>  AIC:               </th>          <td>-4.299e+05</td>\n",
              "</tr>\n",
              "<tr>\n",
              "  <th>Df Residuals:</th>          <td>  7096</td>      <th>  BIC:               </th>          <td>-4.298e+05</td>\n",
              "</tr>\n",
              "<tr>\n",
              "  <th>Df Model:</th>              <td>    16</td>      <th>                     </th>               <td> </td>    \n",
              "</tr>\n",
              "<tr>\n",
              "  <th>Covariance Type:</th>      <td>nonrobust</td>    <th>                     </th>               <td> </td>    \n",
              "</tr>\n",
              "</table>\n",
              "<table class=\"simpletable\">\n",
              "<tr>\n",
              "         <td></td>            <th>coef</th>     <th>std err</th>      <th>t</th>      <th>P>|t|</th>  <th>[0.025</th>    <th>0.975]</th>  \n",
              "</tr>\n",
              "<tr>\n",
              "  <th>Year_of_Release</th> <td>-1.901e-17</td> <td> 8.92e-18</td> <td>   -2.131</td> <td> 0.033</td> <td>-3.65e-17</td> <td>-1.52e-18</td>\n",
              "</tr>\n",
              "<tr>\n",
              "  <th>NA_Sales</th>        <td> 8.132e-15</td> <td> 3.61e-14</td> <td>    0.225</td> <td> 0.822</td> <td>-6.27e-14</td> <td>  7.9e-14</td>\n",
              "</tr>\n",
              "<tr>\n",
              "  <th>EU_Sales</th>        <td> 8.438e-15</td> <td> 3.61e-14</td> <td>    0.234</td> <td> 0.815</td> <td>-6.24e-14</td> <td> 7.93e-14</td>\n",
              "</tr>\n",
              "<tr>\n",
              "  <th>JP_Sales</th>        <td> 8.632e-15</td> <td> 3.61e-14</td> <td>    0.239</td> <td> 0.811</td> <td>-6.22e-14</td> <td> 7.95e-14</td>\n",
              "</tr>\n",
              "<tr>\n",
              "  <th>Other_Sales</th>     <td> 5.163e-15</td> <td> 3.62e-14</td> <td>    0.143</td> <td> 0.886</td> <td>-6.57e-14</td> <td>  7.6e-14</td>\n",
              "</tr>\n",
              "<tr>\n",
              "  <th>Global_Sales</th>    <td>    1.0000</td> <td> 3.61e-14</td> <td> 2.77e+13</td> <td> 0.000</td> <td>    1.000</td> <td>    1.000</td>\n",
              "</tr>\n",
              "<tr>\n",
              "  <th>Critic_Score</th>    <td> 7.488e-16</td> <td> 2.11e-17</td> <td>   35.483</td> <td> 0.000</td> <td> 7.07e-16</td> <td>  7.9e-16</td>\n",
              "</tr>\n",
              "<tr>\n",
              "  <th>Critic_Count</th>    <td>-3.619e-16</td> <td> 1.34e-17</td> <td>  -26.951</td> <td> 0.000</td> <td>-3.88e-16</td> <td>-3.36e-16</td>\n",
              "</tr>\n",
              "<tr>\n",
              "  <th>User_Score</th>      <td>-1.497e-16</td> <td> 1.88e-16</td> <td>   -0.798</td> <td> 0.425</td> <td>-5.17e-16</td> <td> 2.18e-16</td>\n",
              "</tr>\n",
              "<tr>\n",
              "  <th>User_Count</th>      <td> 1.105e-17</td> <td>  4.2e-19</td> <td>   26.298</td> <td> 0.000</td> <td> 1.02e-17</td> <td> 1.19e-17</td>\n",
              "</tr>\n",
              "<tr>\n",
              "  <th>Rating_E</th>        <td>-3.773e-15</td> <td> 1.79e-14</td> <td>   -0.211</td> <td> 0.833</td> <td>-3.88e-14</td> <td> 3.13e-14</td>\n",
              "</tr>\n",
              "<tr>\n",
              "  <th>Rating_E10+</th>     <td> -1.17e-15</td> <td> 1.79e-14</td> <td>   -0.065</td> <td> 0.948</td> <td>-3.63e-14</td> <td> 3.39e-14</td>\n",
              "</tr>\n",
              "<tr>\n",
              "  <th>Rating_K-A</th>      <td>  2.38e-15</td> <td> 2.54e-14</td> <td>    0.094</td> <td> 0.925</td> <td>-4.74e-14</td> <td> 5.22e-14</td>\n",
              "</tr>\n",
              "<tr>\n",
              "  <th>Rating_M</th>        <td>-2.059e-15</td> <td> 1.79e-14</td> <td>   -0.115</td> <td> 0.908</td> <td>-3.71e-14</td> <td>  3.3e-14</td>\n",
              "</tr>\n",
              "<tr>\n",
              "  <th>Rating_RP</th>       <td>  -2.3e-15</td> <td>  2.2e-14</td> <td>   -0.105</td> <td> 0.917</td> <td>-4.54e-14</td> <td> 4.08e-14</td>\n",
              "</tr>\n",
              "<tr>\n",
              "  <th>Rating_T</th>        <td>-1.533e-15</td> <td> 1.79e-14</td> <td>   -0.086</td> <td> 0.932</td> <td>-3.66e-14</td> <td> 3.35e-14</td>\n",
              "</tr>\n",
              "</table>\n",
              "<table class=\"simpletable\">\n",
              "<tr>\n",
              "  <th>Omnibus:</th>       <td>7163.591</td> <th>  Durbin-Watson:     </th>  <td>   0.827</td>  \n",
              "</tr>\n",
              "<tr>\n",
              "  <th>Prob(Omnibus):</th>  <td> 0.000</td>  <th>  Jarque-Bera (JB):  </th> <td>1413214.165</td>\n",
              "</tr>\n",
              "<tr>\n",
              "  <th>Skew:</th>           <td>-4.488</td>  <th>  Prob(JB):          </th>  <td>    0.00</td>  \n",
              "</tr>\n",
              "<tr>\n",
              "  <th>Kurtosis:</th>       <td>71.472</td>  <th>  Cond. No.          </th>  <td>7.61e+05</td>  \n",
              "</tr>\n",
              "</table><br/><br/>Warnings:<br/>[1] Standard Errors assume that the covariance matrix of the errors is correctly specified.<br/>[2] The condition number is large, 7.61e+05. This might indicate that there are<br/>strong multicollinearity or other numerical problems."
            ],
            "text/plain": [
              "<class 'statsmodels.iolib.summary.Summary'>\n",
              "\"\"\"\n",
              "                                 OLS Regression Results                                \n",
              "=======================================================================================\n",
              "Dep. Variable:           Global_Sales   R-squared (uncentered):                   1.000\n",
              "Model:                            OLS   Adj. R-squared (uncentered):              1.000\n",
              "Method:                 Least Squares   F-statistic:                          5.904e+30\n",
              "Date:                Sat, 14 Nov 2020   Prob (F-statistic):                        0.00\n",
              "Time:                        10:53:28   Log-Likelihood:                      2.1497e+05\n",
              "No. Observations:                7112   AIC:                                 -4.299e+05\n",
              "Df Residuals:                    7096   BIC:                                 -4.298e+05\n",
              "Df Model:                          16                                                  \n",
              "Covariance Type:            nonrobust                                                  \n",
              "===================================================================================\n",
              "                      coef    std err          t      P>|t|      [0.025      0.975]\n",
              "-----------------------------------------------------------------------------------\n",
              "Year_of_Release -1.901e-17   8.92e-18     -2.131      0.033   -3.65e-17   -1.52e-18\n",
              "NA_Sales         8.132e-15   3.61e-14      0.225      0.822   -6.27e-14     7.9e-14\n",
              "EU_Sales         8.438e-15   3.61e-14      0.234      0.815   -6.24e-14    7.93e-14\n",
              "JP_Sales         8.632e-15   3.61e-14      0.239      0.811   -6.22e-14    7.95e-14\n",
              "Other_Sales      5.163e-15   3.62e-14      0.143      0.886   -6.57e-14     7.6e-14\n",
              "Global_Sales        1.0000   3.61e-14   2.77e+13      0.000       1.000       1.000\n",
              "Critic_Score     7.488e-16   2.11e-17     35.483      0.000    7.07e-16     7.9e-16\n",
              "Critic_Count    -3.619e-16   1.34e-17    -26.951      0.000   -3.88e-16   -3.36e-16\n",
              "User_Score      -1.497e-16   1.88e-16     -0.798      0.425   -5.17e-16    2.18e-16\n",
              "User_Count       1.105e-17    4.2e-19     26.298      0.000    1.02e-17    1.19e-17\n",
              "Rating_E        -3.773e-15   1.79e-14     -0.211      0.833   -3.88e-14    3.13e-14\n",
              "Rating_E10+      -1.17e-15   1.79e-14     -0.065      0.948   -3.63e-14    3.39e-14\n",
              "Rating_K-A        2.38e-15   2.54e-14      0.094      0.925   -4.74e-14    5.22e-14\n",
              "Rating_M        -2.059e-15   1.79e-14     -0.115      0.908   -3.71e-14     3.3e-14\n",
              "Rating_RP         -2.3e-15    2.2e-14     -0.105      0.917   -4.54e-14    4.08e-14\n",
              "Rating_T        -1.533e-15   1.79e-14     -0.086      0.932   -3.66e-14    3.35e-14\n",
              "==============================================================================\n",
              "Omnibus:                     7163.591   Durbin-Watson:                   0.827\n",
              "Prob(Omnibus):                  0.000   Jarque-Bera (JB):          1413214.165\n",
              "Skew:                          -4.488   Prob(JB):                         0.00\n",
              "Kurtosis:                      71.472   Cond. No.                     7.61e+05\n",
              "==============================================================================\n",
              "\n",
              "Warnings:\n",
              "[1] Standard Errors assume that the covariance matrix of the errors is correctly specified.\n",
              "[2] The condition number is large, 7.61e+05. This might indicate that there are\n",
              "strong multicollinearity or other numerical problems.\n",
              "\"\"\""
            ]
          },
          "metadata": {
            "tags": []
          },
          "execution_count": 66
        }
      ]
    },
    {
      "cell_type": "markdown",
      "metadata": {
        "id": "BfADT6u47z-W"
      },
      "source": [
        "проверить мультиколинеарити:"
      ]
    },
    {
      "cell_type": "code",
      "metadata": {
        "id": "fGJcY5e17zhk",
        "colab": {
          "base_uri": "https://localhost:8080/"
        },
        "outputId": "f9829f2d-b075-42fb-f973-4460329b01e6"
      },
      "source": [
        "from statsmodels.stats.outliers_influence import variance_inflation_factor \n",
        "  \n",
        "# VIF dataframe \n",
        "vif_data = pd.DataFrame() \n",
        "vif_data[\"feature\"] = X.columns \n",
        "  \n",
        "# calculating VIF for each feature \n",
        "vif_data[\"VIF\"] = [variance_inflation_factor(X.values, i) \n",
        "                          for i in range(len(X.columns))] \n",
        "  \n",
        "print(vif_data)"
      ],
      "execution_count": null,
      "outputs": [
        {
          "output_type": "stream",
          "text": [
            "            feature            VIF\n",
            "0   Year_of_Release    6986.138789\n",
            "1          NA_Sales   30177.498980\n",
            "2          EU_Sales   14687.231475\n",
            "3          JP_Sales    2398.094349\n",
            "4       Other_Sales    2201.313884\n",
            "5      Global_Sales  123312.409583\n",
            "6      Critic_Score      49.720161\n",
            "7      Critic_Count       4.683756\n",
            "8        User_Score      41.071448\n",
            "9        User_Count       1.442721\n",
            "10         Rating_E    2115.829166\n",
            "11      Rating_E10+     950.291733\n",
            "12       Rating_K-A       1.976321\n",
            "13         Rating_M    1459.294682\n",
            "14        Rating_RP       2.967861\n",
            "15         Rating_T    2436.679710\n"
          ],
          "name": "stdout"
        }
      ]
    },
    {
      "cell_type": "markdown",
      "metadata": {
        "id": "ks1d2orCHUJx"
      },
      "source": [
        "# Всякое интересное\n",
        "\n",
        "В сегодняшней рубрике мы поделимся полезными материалами, которые нам понравились или могут быть полезны:\n",
        "\n",
        "* еще раз про типы [данных](https://towardsdatascience.com/python-basics-for-data-science-6a6c987f2755)\n",
        "* то, что проходили сегодня: [субсетинг и фильтрация](https://towardsdatascience.com/data-science-with-python-intro-to-loading-and-subsetting-data-with-pandas-9f26895ddd7f), обязательно прочитайте, мб найдете что-то новое для себя\n",
        "\n",
        "\n",
        "\n",
        "* *В интернетах существует интерактивный учебник питона, в этой главе можно попробовать себя в [условиях](https://pythontutor.ru/lessons/ifelse/), в циклах [for](https://pythontutor.ru/lessons/for_loop/) или [while](https://pythontutor.ru/lessons/while/). Не совсем про датасаенс, более программистское, но есть немного теории с примерами кода + практические задания.*\n",
        "\n",
        "Инсайты с ДПВ Adanced Data Analysis: про imputing missing data\n",
        "* [R] https://campus.datacamp.com/courses/handling-missing-data-with-imputations-in-r/  \n",
        "* [R] https://learn.datacamp.com/courses/dealing-with-missing-data-in-r\n",
        "\n",
        "Линейная регрессия в питоне:\n",
        "* больше про [код](https://www.geeksforgeeks.org/linear-regression-python-implementation/) \n",
        "* больше про [смысл шагов](https://proglib.io/p/linear-regression/)\n",
        "* почитать про метрики \n",
        "https://towardsdatascience.com/linear-regression-in-python-9a1f5f000606 и https://stackabuse.com/linear-regression-in-python-with-scikit-learn/\n",
        "\n",
        "\n",
        "Парочка курсов на курсере, наши рекомендации: \n",
        "* https://www.coursera.org/learn/python-basics более фундаментальное, для программинга\n",
        "* https://www.coursera.org/learn/python проходятся по основам, учат писать небольшие бейсик програмки, может быть неинтересным для более подготовленных, но хорошо объясняет основные моменты\n",
        "\n"
      ]
    },
    {
      "cell_type": "markdown",
      "metadata": {
        "id": "jp7QbBq0QpZ_"
      },
      "source": [
        "# Домашнее задание"
      ]
    },
    {
      "cell_type": "markdown",
      "metadata": {
        "id": "5LoR54WXQseK"
      },
      "source": [
        "Сегодня мы потыкаемся в [данные про индийскую еду :)](https://www.kaggle.com/nehaprabhavalkar/indian-food-101)"
      ]
    },
    {
      "cell_type": "markdown",
      "metadata": {
        "id": "zs_gLqF3iDC4"
      },
      "source": [
        "блин опять домаха ((\n",
        "\n",
        "![Best-26-Sad-Cat-Memes-24-1024x585.jpg](data:image/jpeg;base64,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)"
      ]
    },
    {
      "cell_type": "markdown",
      "metadata": {
        "id": "hdcCM9vASYke"
      },
      "source": [
        "загрузите данные (они лежат здесь https://github.com/avmolotova/mpt , нам нужен файл `indian_food.csv`), можно сделать это со своего гитхаба"
      ]
    },
    {
      "cell_type": "code",
      "metadata": {
        "id": "bc7va17NgxWr"
      },
      "source": [
        "#загружаем данные\n"
      ],
      "execution_count": null,
      "outputs": []
    },
    {
      "cell_type": "code",
      "metadata": {
        "id": "55ismMO0g_Xj"
      },
      "source": [
        "#проверяем типы перменных и меняем если необходимо\n"
      ],
      "execution_count": null,
      "outputs": []
    },
    {
      "cell_type": "code",
      "metadata": {
        "id": "9uvPZ3zQgzVC"
      },
      "source": [
        "#описываем данные/summarize\n"
      ],
      "execution_count": null,
      "outputs": []
    },
    {
      "cell_type": "code",
      "metadata": {
        "id": "WRIg6OO9g4t8"
      },
      "source": [
        "#проверяем missing data\n"
      ],
      "execution_count": null,
      "outputs": []
    },
    {
      "cell_type": "code",
      "metadata": {
        "id": "1jULoICka6JV"
      },
      "source": [
        "#проверьте кореляцию\n"
      ],
      "execution_count": null,
      "outputs": []
    },
    {
      "cell_type": "markdown",
      "metadata": {
        "id": "v6sobL1pk2DE"
      },
      "source": [
        "## задание 0: практика индексации"
      ]
    },
    {
      "cell_type": "code",
      "metadata": {
        "id": "7GbIoMgtk1mQ"
      },
      "source": [
        "# выберете только колонки под названием name, ingredients и state одним или несколькими способами\n"
      ],
      "execution_count": null,
      "outputs": []
    },
    {
      "cell_type": "code",
      "metadata": {
        "id": "8peHVUy8llet"
      },
      "source": [
        "# хочу найти блюда, приготовление которых займет у меня меньше 40 минут и будет spicy\n",
        "\n",
        "# сколько таких блюд всего в наших данных?\n"
      ],
      "execution_count": null,
      "outputs": []
    },
    {
      "cell_type": "code",
      "metadata": {
        "id": "xIBTaybal0vH"
      },
      "source": [
        "# выведите все блюда с 50 по 54 строку\n"
      ],
      "execution_count": null,
      "outputs": []
    },
    {
      "cell_type": "code",
      "metadata": {
        "id": "0aKeQHCvl0rW"
      },
      "source": [
        "# найдите все блюда, которые произошли из South, West и North East\n"
      ],
      "execution_count": null,
      "outputs": []
    },
    {
      "cell_type": "code",
      "metadata": {
        "id": "vahVp_M6mR3u"
      },
      "source": [
        "# какое значение находится в колонке diet на строке 106?\n"
      ],
      "execution_count": null,
      "outputs": []
    },
    {
      "cell_type": "code",
      "metadata": {
        "id": "SRs6iI1AmutE"
      },
      "source": [
        "# выведите название дессертов, которые удовлетворияют следующим условиям: а) это не вегетерианский дессерт б) время подготовки меньше, чем 20 минут в) вкус либо sweet, либо spicy\n"
      ],
      "execution_count": null,
      "outputs": []
    },
    {
      "cell_type": "markdown",
      "metadata": {
        "id": "pikQKkVFR_HE"
      },
      "source": [
        "## задание 1\n",
        "уберите значение \"`-1`\" из колонки `region` и постройте график, описывающий эту колонку с помощью модуля сеаборн"
      ]
    },
    {
      "cell_type": "code",
      "metadata": {
        "id": "fhcNSl53QsCb"
      },
      "source": [
        ""
      ],
      "execution_count": null,
      "outputs": []
    },
    {
      "cell_type": "markdown",
      "metadata": {
        "id": "VGJf323LSTJ_"
      },
      "source": [
        "## задание 2\n",
        "\n",
        "приведите колонку `diet` к бинарному виду (`vegetarian` это 1, `non vegetarian` это 0), затем проведите т-тест на этих группах, сравнивая среднее время приготовления `cooking time`\n",
        "\n"
      ]
    },
    {
      "cell_type": "code",
      "metadata": {
        "id": "gg7uREpiiO5w"
      },
      "source": [
        ""
      ],
      "execution_count": null,
      "outputs": []
    },
    {
      "cell_type": "markdown",
      "metadata": {
        "id": "uHjZWbldjICA"
      },
      "source": [
        "## задание какое-то\n",
        "\n",
        "теперь очистите среду (среда выполнения -> перезапустить среду выполнения, это сотрет все ваши предыдудщие переменные и данные, но иногда может помочь, если работаем с большими данными и все вылетает), загрузите данные `insurance.csv` как обычно (можно отсюда https://github.com/avmolotova/mpt или у себя)\n",
        "\n",
        "данные [отсюда](https://www.kaggle.com/mirichoi0218/insurance), почитайте описание переменных, разберитесь с категориальными переменными, постройте линейную регрессию, предсказывая колонку `charges`, оцените модель с помощью метрик (погуглите, как это лучше реализовать удобным для вас способом)\n",
        "\n",
        "хинт: пол и смокер можно перекодировать с помощью `where`, а регион сделать dummy-переменной"
      ]
    },
    {
      "cell_type": "code",
      "metadata": {
        "id": "N_f4DzXnbQks"
      },
      "source": [
        ""
      ],
      "execution_count": null,
      "outputs": []
    }
  ]
}